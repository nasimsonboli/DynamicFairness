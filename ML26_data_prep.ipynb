{
 "cells": [
  {
   "cell_type": "code",
   "execution_count": 1,
   "metadata": {},
   "outputs": [],
   "source": [
    "data_fn = 'data/ml_sample_6000.dat'"
   ]
  },
  {
   "cell_type": "code",
   "execution_count": 2,
   "metadata": {},
   "outputs": [],
   "source": [
    "import pandas as pd\n",
    "import numpy as np"
   ]
  },
  {
   "cell_type": "code",
   "execution_count": 3,
   "metadata": {},
   "outputs": [
    {
     "name": "stdout",
     "output_type": "stream",
     "text": [
      "        0     1    2           3\n",
      "0  158052   910  4.0  1186302858\n",
      "1  158052  3052  4.0  1186302806\n",
      "2  158052  1269  0.5  1186302929\n",
      "3  158052   913  4.5  1186302865\n",
      "4  158052  1663  4.0  1186302906\n"
     ]
    }
   ],
   "source": [
    "ml_df = pd.read_csv(data_fn, header=None)\n",
    "print (ml_df.head())"
   ]
  },
  {
   "cell_type": "markdown",
   "metadata": {},
   "source": [
    "### get the itemids and get the features related to these itemids\n",
    "### QQQ: if adult movies are minority movies, should we recommend them?"
   ]
  },
  {
   "cell_type": "markdown",
   "metadata": {},
   "source": [
    "adult, budget, genre, spoken language, popularity, production country (us/non us), release date, runtime, revenue"
   ]
  },
  {
   "cell_type": "code",
   "execution_count": 4,
   "metadata": {},
   "outputs": [
    {
     "data": {
      "text/html": [
       "<div>\n",
       "<style scoped>\n",
       "    .dataframe tbody tr th:only-of-type {\n",
       "        vertical-align: middle;\n",
       "    }\n",
       "\n",
       "    .dataframe tbody tr th {\n",
       "        vertical-align: top;\n",
       "    }\n",
       "\n",
       "    .dataframe thead th {\n",
       "        text-align: right;\n",
       "    }\n",
       "</style>\n",
       "<table border=\"1\" class=\"dataframe\">\n",
       "  <thead>\n",
       "    <tr style=\"text-align: right;\">\n",
       "      <th></th>\n",
       "      <th>adult</th>\n",
       "      <th>genres</th>\n",
       "      <th>imdb_id</th>\n",
       "      <th>original_language</th>\n",
       "      <th>popularity</th>\n",
       "      <th>production_countries</th>\n",
       "      <th>release_date</th>\n",
       "      <th>revenue</th>\n",
       "      <th>runtime</th>\n",
       "      <th>spoken_languages</th>\n",
       "    </tr>\n",
       "  </thead>\n",
       "  <tbody>\n",
       "    <tr>\n",
       "      <th>0</th>\n",
       "      <td>False</td>\n",
       "      <td>[{'id': 16, 'name': 'Animation'}, {'id': 35, '...</td>\n",
       "      <td>tt0114709</td>\n",
       "      <td>en</td>\n",
       "      <td>21.946943</td>\n",
       "      <td>[{'iso_3166_1': 'US', 'name': 'United States o...</td>\n",
       "      <td>1995-10-30</td>\n",
       "      <td>373554033</td>\n",
       "      <td>81.0</td>\n",
       "      <td>[{'iso_639_1': 'en', 'name': 'English'}]</td>\n",
       "    </tr>\n",
       "    <tr>\n",
       "      <th>1</th>\n",
       "      <td>False</td>\n",
       "      <td>[{'id': 12, 'name': 'Adventure'}, {'id': 14, '...</td>\n",
       "      <td>tt0113497</td>\n",
       "      <td>en</td>\n",
       "      <td>17.015539</td>\n",
       "      <td>[{'iso_3166_1': 'US', 'name': 'United States o...</td>\n",
       "      <td>1995-12-15</td>\n",
       "      <td>262797249</td>\n",
       "      <td>104.0</td>\n",
       "      <td>[{'iso_639_1': 'en', 'name': 'English'}, {'iso...</td>\n",
       "    </tr>\n",
       "  </tbody>\n",
       "</table>\n",
       "</div>"
      ],
      "text/plain": [
       "   adult                                             genres    imdb_id  \\\n",
       "0  False  [{'id': 16, 'name': 'Animation'}, {'id': 35, '...  tt0114709   \n",
       "1  False  [{'id': 12, 'name': 'Adventure'}, {'id': 14, '...  tt0113497   \n",
       "\n",
       "  original_language popularity  \\\n",
       "0                en  21.946943   \n",
       "1                en  17.015539   \n",
       "\n",
       "                                production_countries release_date    revenue  \\\n",
       "0  [{'iso_3166_1': 'US', 'name': 'United States o...   1995-10-30  373554033   \n",
       "1  [{'iso_3166_1': 'US', 'name': 'United States o...   1995-12-15  262797249   \n",
       "\n",
       "  runtime                                   spoken_languages  \n",
       "0    81.0           [{'iso_639_1': 'en', 'name': 'English'}]  \n",
       "1   104.0  [{'iso_639_1': 'en', 'name': 'English'}, {'iso...  "
      ]
     },
     "execution_count": 4,
     "metadata": {},
     "output_type": "execute_result"
    }
   ],
   "source": [
    "ml_meta_df = pd.read_csv('./data/ML-26M/movies_metadata.csv',\n",
    "                         usecols=['imdb_id', 'adult', 'genres',\n",
    "                                  'original_language', 'release_date',\n",
    "                                  'revenue', 'runtime', 'popularity',\n",
    "                                  'production_countries', 'spoken_languages' ], dtype=str)\n",
    "ml_meta_df.head(2)"
   ]
  },
  {
   "cell_type": "code",
   "execution_count": 5,
   "metadata": {},
   "outputs": [
    {
     "data": {
      "text/plain": [
       "adult                   object\n",
       "genres                  object\n",
       "imdb_id                 object\n",
       "original_language       object\n",
       "popularity              object\n",
       "production_countries    object\n",
       "release_date            object\n",
       "revenue                 object\n",
       "runtime                 object\n",
       "spoken_languages        object\n",
       "dtype: object"
      ]
     },
     "execution_count": 5,
     "metadata": {},
     "output_type": "execute_result"
    }
   ],
   "source": [
    "ml_meta_df.dtypes"
   ]
  },
  {
   "cell_type": "code",
   "execution_count": 6,
   "metadata": {},
   "outputs": [
    {
     "data": {
      "text/html": [
       "<div>\n",
       "<style scoped>\n",
       "    .dataframe tbody tr th:only-of-type {\n",
       "        vertical-align: middle;\n",
       "    }\n",
       "\n",
       "    .dataframe tbody tr th {\n",
       "        vertical-align: top;\n",
       "    }\n",
       "\n",
       "    .dataframe thead th {\n",
       "        text-align: right;\n",
       "    }\n",
       "</style>\n",
       "<table border=\"1\" class=\"dataframe\">\n",
       "  <thead>\n",
       "    <tr style=\"text-align: right;\">\n",
       "      <th></th>\n",
       "      <th>adult</th>\n",
       "      <th>genres</th>\n",
       "      <th>imdb_id</th>\n",
       "      <th>original_language</th>\n",
       "      <th>popularity</th>\n",
       "      <th>production_countries</th>\n",
       "      <th>release_date</th>\n",
       "      <th>revenue</th>\n",
       "      <th>runtime</th>\n",
       "      <th>spoken_languages</th>\n",
       "    </tr>\n",
       "  </thead>\n",
       "  <tbody>\n",
       "    <tr>\n",
       "      <th>count</th>\n",
       "      <td>45466</td>\n",
       "      <td>45466</td>\n",
       "      <td>45449</td>\n",
       "      <td>45455</td>\n",
       "      <td>45461</td>\n",
       "      <td>45463</td>\n",
       "      <td>45379</td>\n",
       "      <td>45460</td>\n",
       "      <td>45203</td>\n",
       "      <td>45460</td>\n",
       "    </tr>\n",
       "    <tr>\n",
       "      <th>unique</th>\n",
       "      <td>5</td>\n",
       "      <td>4069</td>\n",
       "      <td>45417</td>\n",
       "      <td>92</td>\n",
       "      <td>43758</td>\n",
       "      <td>2393</td>\n",
       "      <td>17336</td>\n",
       "      <td>6863</td>\n",
       "      <td>353</td>\n",
       "      <td>1931</td>\n",
       "    </tr>\n",
       "    <tr>\n",
       "      <th>top</th>\n",
       "      <td>False</td>\n",
       "      <td>[{'id': 18, 'name': 'Drama'}]</td>\n",
       "      <td>tt1180333</td>\n",
       "      <td>en</td>\n",
       "      <td>0.0</td>\n",
       "      <td>[{'iso_3166_1': 'US', 'name': 'United States o...</td>\n",
       "      <td>2008-01-01</td>\n",
       "      <td>0</td>\n",
       "      <td>90.0</td>\n",
       "      <td>[{'iso_639_1': 'en', 'name': 'English'}]</td>\n",
       "    </tr>\n",
       "    <tr>\n",
       "      <th>freq</th>\n",
       "      <td>45454</td>\n",
       "      <td>5000</td>\n",
       "      <td>3</td>\n",
       "      <td>32269</td>\n",
       "      <td>66</td>\n",
       "      <td>17851</td>\n",
       "      <td>136</td>\n",
       "      <td>38052</td>\n",
       "      <td>2556</td>\n",
       "      <td>22395</td>\n",
       "    </tr>\n",
       "  </tbody>\n",
       "</table>\n",
       "</div>"
      ],
      "text/plain": [
       "        adult                         genres    imdb_id original_language  \\\n",
       "count   45466                          45466      45449             45455   \n",
       "unique      5                           4069      45417                92   \n",
       "top     False  [{'id': 18, 'name': 'Drama'}]  tt1180333                en   \n",
       "freq    45454                           5000          3             32269   \n",
       "\n",
       "       popularity                               production_countries  \\\n",
       "count       45461                                              45463   \n",
       "unique      43758                                               2393   \n",
       "top           0.0  [{'iso_3166_1': 'US', 'name': 'United States o...   \n",
       "freq           66                                              17851   \n",
       "\n",
       "       release_date revenue runtime                          spoken_languages  \n",
       "count         45379   45460   45203                                     45460  \n",
       "unique        17336    6863     353                                      1931  \n",
       "top      2008-01-01       0    90.0  [{'iso_639_1': 'en', 'name': 'English'}]  \n",
       "freq            136   38052    2556                                     22395  "
      ]
     },
     "execution_count": 6,
     "metadata": {},
     "output_type": "execute_result"
    }
   ],
   "source": [
    "ml_meta_df.describe(include=\"all\")"
   ]
  },
  {
   "cell_type": "code",
   "execution_count": 7,
   "metadata": {},
   "outputs": [
    {
     "data": {
      "text/html": [
       "<div>\n",
       "<style scoped>\n",
       "    .dataframe tbody tr th:only-of-type {\n",
       "        vertical-align: middle;\n",
       "    }\n",
       "\n",
       "    .dataframe tbody tr th {\n",
       "        vertical-align: top;\n",
       "    }\n",
       "\n",
       "    .dataframe thead th {\n",
       "        text-align: right;\n",
       "    }\n",
       "</style>\n",
       "<table border=\"1\" class=\"dataframe\">\n",
       "  <thead>\n",
       "    <tr style=\"text-align: right;\">\n",
       "      <th></th>\n",
       "      <th>adult</th>\n",
       "      <th>genres</th>\n",
       "      <th>imdb_id</th>\n",
       "      <th>original_language</th>\n",
       "      <th>popularity</th>\n",
       "      <th>production_countries</th>\n",
       "      <th>release_date</th>\n",
       "      <th>revenue</th>\n",
       "      <th>runtime</th>\n",
       "      <th>spoken_languages</th>\n",
       "    </tr>\n",
       "  </thead>\n",
       "  <tbody>\n",
       "    <tr>\n",
       "      <th>44646</th>\n",
       "      <td>False</td>\n",
       "      <td>[]</td>\n",
       "      <td>tt0000075</td>\n",
       "      <td>fr</td>\n",
       "      <td>0.788113</td>\n",
       "      <td>[{'iso_3166_1': 'FR', 'name': 'France'}]</td>\n",
       "      <td>1896-01-01</td>\n",
       "      <td>0</td>\n",
       "      <td>1.0</td>\n",
       "      <td>[{'iso_639_1': 'xx', 'name': 'No Language'}]</td>\n",
       "    </tr>\n",
       "  </tbody>\n",
       "</table>\n",
       "</div>"
      ],
      "text/plain": [
       "       adult genres    imdb_id original_language popularity  \\\n",
       "44646  False     []  tt0000075                fr   0.788113   \n",
       "\n",
       "                           production_countries release_date revenue runtime  \\\n",
       "44646  [{'iso_3166_1': 'FR', 'name': 'France'}]   1896-01-01       0     1.0   \n",
       "\n",
       "                                   spoken_languages  \n",
       "44646  [{'iso_639_1': 'xx', 'name': 'No Language'}]  "
      ]
     },
     "execution_count": 7,
     "metadata": {},
     "output_type": "execute_result"
    }
   ],
   "source": [
    "ml_meta_df[ml_meta_df['imdb_id'] == 'tt0000075']"
   ]
  },
  {
   "cell_type": "code",
   "execution_count": 104,
   "metadata": {},
   "outputs": [
    {
     "data": {
      "text/plain": [
       "adult                     0\n",
       "genres                    0\n",
       "imdb_id                  17\n",
       "original_language        11\n",
       "popularity                5\n",
       "production_countries      3\n",
       "release_date             87\n",
       "revenue                   6\n",
       "runtime                 263\n",
       "spoken_languages          6\n",
       "dtype: int64"
      ]
     },
     "execution_count": 104,
     "metadata": {},
     "output_type": "execute_result"
    }
   ],
   "source": [
    "ml_meta_df.isnull().sum()"
   ]
  },
  {
   "cell_type": "markdown",
   "metadata": {},
   "source": [
    "### filling the missing values"
   ]
  },
  {
   "cell_type": "markdown",
   "metadata": {},
   "source": [
    "popularity"
   ]
  },
  {
   "cell_type": "code",
   "execution_count": 105,
   "metadata": {},
   "outputs": [
    {
     "name": "stdout",
     "output_type": "stream",
     "text": [
      "missing? 0\n",
      "# above mean 13076\n",
      "# below mean 32389\n"
     ]
    }
   ],
   "source": [
    "# delete this row\n",
    "ml_meta_df.drop(35587, inplace=True)\n",
    "\n",
    "# casting it from str to float\n",
    "ml_meta_df['popularity'] = ml_meta_df['popularity'].astype(float)\n",
    "\n",
    "# calculate mean pop for filling in the missing values\n",
    "mean_pop = (ml_meta_df.loc[ml_meta_df['popularity'].isnull() == False, 'popularity']).mean()\n",
    "\n",
    "# filling the missing value with mean\n",
    "ml_meta_df['popularity'].fillna(mean_pop, inplace=True)\n",
    "\n",
    "# how many missing values?\n",
    "print('missing?', ml_meta_df['popularity'].isnull().sum())\n",
    "\n",
    "print('# above mean', len(ml_meta_df[ml_meta_df['popularity'] >= mean_pop]))\n",
    "print('# below mean', len(ml_meta_df[ml_meta_df['popularity'] < mean_pop]))"
   ]
  },
  {
   "cell_type": "markdown",
   "metadata": {},
   "source": [
    "handling missing values in revenue"
   ]
  },
  {
   "cell_type": "code",
   "execution_count": 106,
   "metadata": {},
   "outputs": [
    {
     "name": "stdout",
     "output_type": "stream",
     "text": [
      "missing? 0\n",
      "# above mean 4215\n",
      "# below mean 41250\n"
     ]
    }
   ],
   "source": [
    "ml_meta_df['revenue'] = ml_meta_df['revenue'].astype(float)\n",
    "mean_rev = (ml_meta_df.loc[ml_meta_df['revenue'].isnull() == False, 'revenue']).mean()\n",
    "ml_meta_df['revenue'].fillna(mean_rev, inplace=True)\n",
    "print('missing?', ml_meta_df['revenue'].isnull().sum())\n",
    "\n",
    "print('# above mean', len(ml_meta_df[ml_meta_df['revenue'] >= mean_rev]))\n",
    "print('# below mean', len(ml_meta_df[ml_meta_df['revenue'] < mean_rev]))"
   ]
  },
  {
   "cell_type": "code",
   "execution_count": 107,
   "metadata": {},
   "outputs": [
    {
     "name": "stdout",
     "output_type": "stream",
     "text": [
      "94.12819945578833\n",
      "95.0\n",
      "missing? 0\n",
      "# above mean 23047\n",
      "# below mean 22418\n"
     ]
    }
   ],
   "source": [
    "ml_meta_df['runtime'] = ml_meta_df['runtime'].astype(float)\n",
    "mean_rt = (ml_meta_df.loc[ml_meta_df['runtime'].isnull() == False, 'runtime']).mean()\n",
    "median_rt =(ml_meta_df.loc[ml_meta_df['runtime'].isnull() == False, 'runtime']).median()\n",
    "\n",
    "print (mean_rt)\n",
    "print (median_rt)\n",
    "\n",
    "ml_meta_df['runtime'].fillna(mean_rt, inplace=True)\n",
    "print('missing?', ml_meta_df['runtime'].isnull().sum())\n",
    "\n",
    "print('# above mean', len(ml_meta_df[ml_meta_df['runtime'] >= mean_rt]))\n",
    "print('# below mean', len(ml_meta_df[ml_meta_df['runtime'] < mean_rt]))"
   ]
  },
  {
   "cell_type": "code",
   "execution_count": 108,
   "metadata": {},
   "outputs": [
    {
     "name": "stdout",
     "output_type": "stream",
     "text": [
      "missing? 87\n",
      "missing? 0\n"
     ]
    }
   ],
   "source": [
    "print('missing?', ml_meta_df['release_date'].isnull().sum())\n",
    "ml_meta_df.drop(ml_meta_df[ml_meta_df['release_date'].isnull()==True].index.tolist(), inplace=True)\n",
    "ml_meta_df.drop(ml_meta_df[ml_meta_df['release_date'] == '1'].index.tolist(), inplace=True)\n",
    "ml_meta_df.drop(ml_meta_df[ml_meta_df['release_date'] == '12'].index.tolist(), inplace=True)\n",
    "# deleting them!\n",
    "\n",
    "print('missing?', ml_meta_df['release_date'].isnull().sum())"
   ]
  },
  {
   "cell_type": "code",
   "execution_count": 109,
   "metadata": {},
   "outputs": [
    {
     "data": {
      "text/plain": [
       "array(['adult', 'genres', 'imdb_id', 'original_language', 'popularity',\n",
       "       'production_countries', 'release_date', 'revenue', 'runtime',\n",
       "       'spoken_languages'], dtype=object)"
      ]
     },
     "execution_count": 109,
     "metadata": {},
     "output_type": "execute_result"
    }
   ],
   "source": [
    "ml_meta_df.columns.values"
   ]
  },
  {
   "cell_type": "code",
   "execution_count": 110,
   "metadata": {},
   "outputs": [
    {
     "data": {
      "text/plain": [
       "(45376, 10)"
      ]
     },
     "execution_count": 110,
     "metadata": {},
     "output_type": "execute_result"
    }
   ],
   "source": [
    "ml_meta_df.shape"
   ]
  },
  {
   "cell_type": "code",
   "execution_count": 111,
   "metadata": {},
   "outputs": [],
   "source": [
    "from datetime import datetime\n",
    "import re"
   ]
  },
  {
   "cell_type": "markdown",
   "metadata": {},
   "source": [
    "feature extraction"
   ]
  },
  {
   "cell_type": "code",
   "execution_count": 123,
   "metadata": {},
   "outputs": [],
   "source": [
    "# we want the data frame to create item vectors\n",
    "# we want also the dictionary later\n",
    "\n",
    "newDF = pd.DataFrame(columns=['movieid', 'feature'])\n",
    "newDF_dict = {}\n",
    "\n",
    "ml_meta_df.reset_index(drop=True, inplace=True)\n",
    "\n",
    "for i in range(ml_meta_df.shape[0]):\n",
    "    \n",
    "    dict_values = {}\n",
    "    features = [] # add everything as a feature. we end up with movieid, feature format\n",
    "    \n",
    "    dict_values['genres'] = []\n",
    "    # genre\n",
    "    gs = re.findall(r\"'name':\\s\\'(.*?)\\'\", ml_meta_df.loc[i, 'genres'])\n",
    "    features.extend(gs)\n",
    "    dict_values['genres'].extend(gs)\n",
    "    \n",
    "    # adult genre\n",
    "    if ml_meta_df.loc[i, 'adult'] == 'True':\n",
    "        features.append('Adult')\n",
    "        dict_values['genres'].append('Adult')\n",
    "\n",
    "    \n",
    "    # popularity\n",
    "    if ml_meta_df.loc[i, 'popularity'] > mean_pop:\n",
    "        features.append('pop')\n",
    "        dict_values['popularity'] = 'pop'\n",
    "    else:\n",
    "        features.append('notpop')\n",
    "        dict_values['popularity'] = 'notpop'\n",
    "    \n",
    "    # movie year: old or new\n",
    "#     ml_meta_df['release_date'] = pd.to_datetime(ml_meta_df['release_date'])\n",
    "\n",
    "    \n",
    "    rtime = datetime.strptime(ml_meta_df.loc[i, 'release_date'], '%Y-%m-%d')\n",
    "    if rtime.year > 1990:\n",
    "#     if ml_meta_df.loc[i, 'release_date'].year > 1990:\n",
    "        features.append('new')\n",
    "        dict_values['year'] = 'new'\n",
    "    else:\n",
    "        features.append('old')\n",
    "        dict_values['year'] = 'old'\n",
    "        \n",
    "    \n",
    "    \n",
    "    # revenue: high or low\n",
    "#     dict_values['revenue'] = 'low'\n",
    "    if ml_meta_df.loc[i, 'revenue'] > mean_rev:\n",
    "        features.append('high')\n",
    "        dict_values['revenue'] = 'high'\n",
    "    else:\n",
    "        features.append('low')\n",
    "        dict_values['revenue'] = 'low'\n",
    "        \n",
    "        \n",
    "    # runtime: long or short\n",
    "#     dict_values['runtime'] = 'short'\n",
    "    if ml_meta_df.loc[i, 'runtime'] > mean_rt:\n",
    "        features.append('long') \n",
    "        dict_values['runtime'] = 'long'\n",
    "    else:\n",
    "        features.append('short')\n",
    "        dict_values['runtime'] = 'short'\n",
    "    \n",
    "    # original language not used, instead spoken language is used. 'cause correlated feature\n",
    "#     if ml_meta_df.loc[i, 'original_language'] == 'en':\n",
    "#         features.append('en')\n",
    "    dict_values['language'] = []\n",
    "    ls = re.findall(r\"'iso_639_1':\\s\\'(.*?)\\'\", ml_meta_df.loc[i, 'spoken_languages'])\n",
    "    features.extend(ls) \n",
    "    dict_values['language'].extend(ls) \n",
    "    \n",
    "    # production countries: US, UK, etc.\n",
    "    dict_values['production_countries'] = []\n",
    "    cs = re.findall(r\"'iso_3166_1':\\s\\'(.*?)\\'\", ml_meta_df.loc[i, 'production_countries'])\n",
    "    features.extend(cs)\n",
    "    dict_values['production_countries'].extend(cs)\n",
    "    \n",
    "    \n",
    "    # dictionary of features where movie id is the key\n",
    "    newDF_dict[ml_meta_df.loc[i, 'imdb_id']] = dict_values\n",
    "    \n",
    "    # save the dataframe\n",
    "    for f in features:\n",
    "        newDF = newDF.append({'movieid': ml_meta_df.loc[i, 'imdb_id'],\n",
    "                              'feature': f}, ignore_index =  True) \n",
    "\n",
    "# SAVE AS DICTIONARY\n",
    "# np.save('./data/ML-26M/movieid_genre_dictionary.npy', newDF_dict)\n",
    "# read dictionary\n",
    "# read_dictionary = np.load('./data/ML-26M/movieid_genre_dictionary.npy',allow_pickle='TRUE').item()\n",
    "   \n",
    "# SAVE AS DATAFRAME\n",
    "newDF.head(10)\n",
    "newDF.to_csv('./data/ML-26M/movieid_feature_df.csv', index=None)\n",
    "# for a,b in newDF.groupby('feature'):\n",
    "#     print (a, len(b))"
   ]
  },
  {
   "cell_type": "code",
   "execution_count": 124,
   "metadata": {},
   "outputs": [
    {
     "data": {
      "text/html": [
       "<div>\n",
       "<style scoped>\n",
       "    .dataframe tbody tr th:only-of-type {\n",
       "        vertical-align: middle;\n",
       "    }\n",
       "\n",
       "    .dataframe tbody tr th {\n",
       "        vertical-align: top;\n",
       "    }\n",
       "\n",
       "    .dataframe thead th {\n",
       "        text-align: right;\n",
       "    }\n",
       "</style>\n",
       "<table border=\"1\" class=\"dataframe\">\n",
       "  <thead>\n",
       "    <tr style=\"text-align: right;\">\n",
       "      <th>feature</th>\n",
       "      <th>AE</th>\n",
       "      <th>AF</th>\n",
       "      <th>AL</th>\n",
       "      <th>AM</th>\n",
       "      <th>AN</th>\n",
       "      <th>AO</th>\n",
       "      <th>AQ</th>\n",
       "      <th>AR</th>\n",
       "      <th>AT</th>\n",
       "      <th>AU</th>\n",
       "      <th>...</th>\n",
       "      <th>uk</th>\n",
       "      <th>ur</th>\n",
       "      <th>uz</th>\n",
       "      <th>vi</th>\n",
       "      <th>wo</th>\n",
       "      <th>xh</th>\n",
       "      <th>xx</th>\n",
       "      <th>yi</th>\n",
       "      <th>zh</th>\n",
       "      <th>zu</th>\n",
       "    </tr>\n",
       "    <tr>\n",
       "      <th>movieid</th>\n",
       "      <th></th>\n",
       "      <th></th>\n",
       "      <th></th>\n",
       "      <th></th>\n",
       "      <th></th>\n",
       "      <th></th>\n",
       "      <th></th>\n",
       "      <th></th>\n",
       "      <th></th>\n",
       "      <th></th>\n",
       "      <th></th>\n",
       "      <th></th>\n",
       "      <th></th>\n",
       "      <th></th>\n",
       "      <th></th>\n",
       "      <th></th>\n",
       "      <th></th>\n",
       "      <th></th>\n",
       "      <th></th>\n",
       "      <th></th>\n",
       "      <th></th>\n",
       "    </tr>\n",
       "  </thead>\n",
       "  <tbody>\n",
       "    <tr>\n",
       "      <th>tt0000001</th>\n",
       "      <td>0</td>\n",
       "      <td>0</td>\n",
       "      <td>0</td>\n",
       "      <td>0</td>\n",
       "      <td>0</td>\n",
       "      <td>0</td>\n",
       "      <td>0</td>\n",
       "      <td>0</td>\n",
       "      <td>0</td>\n",
       "      <td>0</td>\n",
       "      <td>...</td>\n",
       "      <td>0</td>\n",
       "      <td>0</td>\n",
       "      <td>0</td>\n",
       "      <td>0</td>\n",
       "      <td>0</td>\n",
       "      <td>0</td>\n",
       "      <td>1</td>\n",
       "      <td>0</td>\n",
       "      <td>0</td>\n",
       "      <td>0</td>\n",
       "    </tr>\n",
       "    <tr>\n",
       "      <th>tt0000003</th>\n",
       "      <td>0</td>\n",
       "      <td>0</td>\n",
       "      <td>0</td>\n",
       "      <td>0</td>\n",
       "      <td>0</td>\n",
       "      <td>0</td>\n",
       "      <td>0</td>\n",
       "      <td>0</td>\n",
       "      <td>0</td>\n",
       "      <td>0</td>\n",
       "      <td>...</td>\n",
       "      <td>0</td>\n",
       "      <td>0</td>\n",
       "      <td>0</td>\n",
       "      <td>0</td>\n",
       "      <td>0</td>\n",
       "      <td>0</td>\n",
       "      <td>1</td>\n",
       "      <td>0</td>\n",
       "      <td>0</td>\n",
       "      <td>0</td>\n",
       "    </tr>\n",
       "    <tr>\n",
       "      <th>tt0000005</th>\n",
       "      <td>0</td>\n",
       "      <td>0</td>\n",
       "      <td>0</td>\n",
       "      <td>0</td>\n",
       "      <td>0</td>\n",
       "      <td>0</td>\n",
       "      <td>0</td>\n",
       "      <td>0</td>\n",
       "      <td>0</td>\n",
       "      <td>0</td>\n",
       "      <td>...</td>\n",
       "      <td>0</td>\n",
       "      <td>0</td>\n",
       "      <td>0</td>\n",
       "      <td>0</td>\n",
       "      <td>0</td>\n",
       "      <td>0</td>\n",
       "      <td>1</td>\n",
       "      <td>0</td>\n",
       "      <td>0</td>\n",
       "      <td>0</td>\n",
       "    </tr>\n",
       "    <tr>\n",
       "      <th>tt0000008</th>\n",
       "      <td>0</td>\n",
       "      <td>0</td>\n",
       "      <td>0</td>\n",
       "      <td>0</td>\n",
       "      <td>0</td>\n",
       "      <td>0</td>\n",
       "      <td>0</td>\n",
       "      <td>0</td>\n",
       "      <td>0</td>\n",
       "      <td>0</td>\n",
       "      <td>...</td>\n",
       "      <td>0</td>\n",
       "      <td>0</td>\n",
       "      <td>0</td>\n",
       "      <td>0</td>\n",
       "      <td>0</td>\n",
       "      <td>0</td>\n",
       "      <td>1</td>\n",
       "      <td>0</td>\n",
       "      <td>0</td>\n",
       "      <td>0</td>\n",
       "    </tr>\n",
       "    <tr>\n",
       "      <th>tt0000010</th>\n",
       "      <td>0</td>\n",
       "      <td>0</td>\n",
       "      <td>0</td>\n",
       "      <td>0</td>\n",
       "      <td>0</td>\n",
       "      <td>0</td>\n",
       "      <td>0</td>\n",
       "      <td>0</td>\n",
       "      <td>0</td>\n",
       "      <td>0</td>\n",
       "      <td>...</td>\n",
       "      <td>0</td>\n",
       "      <td>0</td>\n",
       "      <td>0</td>\n",
       "      <td>0</td>\n",
       "      <td>0</td>\n",
       "      <td>0</td>\n",
       "      <td>1</td>\n",
       "      <td>0</td>\n",
       "      <td>0</td>\n",
       "      <td>0</td>\n",
       "    </tr>\n",
       "  </tbody>\n",
       "</table>\n",
       "<p>5 rows × 323 columns</p>\n",
       "</div>"
      ],
      "text/plain": [
       "feature    AE  AF  AL  AM  AN  AO  AQ  AR  AT  AU  ...  uk  ur  uz  vi  wo  \\\n",
       "movieid                                            ...                       \n",
       "tt0000001   0   0   0   0   0   0   0   0   0   0  ...   0   0   0   0   0   \n",
       "tt0000003   0   0   0   0   0   0   0   0   0   0  ...   0   0   0   0   0   \n",
       "tt0000005   0   0   0   0   0   0   0   0   0   0  ...   0   0   0   0   0   \n",
       "tt0000008   0   0   0   0   0   0   0   0   0   0  ...   0   0   0   0   0   \n",
       "tt0000010   0   0   0   0   0   0   0   0   0   0  ...   0   0   0   0   0   \n",
       "\n",
       "feature    xh  xx  yi  zh  zu  \n",
       "movieid                        \n",
       "tt0000001   0   1   0   0   0  \n",
       "tt0000003   0   1   0   0   0  \n",
       "tt0000005   0   1   0   0   0  \n",
       "tt0000008   0   1   0   0   0  \n",
       "tt0000010   0   1   0   0   0  \n",
       "\n",
       "[5 rows x 323 columns]"
      ]
     },
     "execution_count": 124,
     "metadata": {},
     "output_type": "execute_result"
    }
   ],
   "source": [
    "movie_genre_matrix = pd.crosstab(newDF['movieid'], newDF['feature'])\n",
    "movie_genre_matrix.head()"
   ]
  },
  {
   "cell_type": "code",
   "execution_count": 125,
   "metadata": {},
   "outputs": [],
   "source": [
    "movie_genre_matrix.to_csv('./data/ML-26M/movie_genre_matrix.csv')"
   ]
  },
  {
   "cell_type": "markdown",
   "metadata": {},
   "source": [
    "# success!!"
   ]
  },
  {
   "cell_type": "markdown",
   "metadata": {},
   "source": [
    "### now we want to calculate the tolerance weight?"
   ]
  },
  {
   "cell_type": "markdown",
   "metadata": {},
   "source": [
    "writing a function that returns the number of labels in a feature"
   ]
  },
  {
   "cell_type": "markdown",
   "metadata": {},
   "source": [
    "- genres 21\n",
    "- popularity 2\n",
    "- year 2\n",
    "- revenue 2\n",
    "- runtime 2\n",
    "- language 133\n",
    "- production_countries 161"
   ]
  },
  {
   "cell_type": "code",
   "execution_count": null,
   "metadata": {},
   "outputs": [],
   "source": [
    "def label_count(a_feature):\n",
    "    # for example, genre feature has 5 levels of adult, thriller, ...\n",
    "    \n",
    "    return n_labels"
   ]
  },
  {
   "cell_type": "code",
   "execution_count": null,
   "metadata": {},
   "outputs": [],
   "source": [
    "# def tolerance_weight(userid):\n",
    "\n"
   ]
  },
  {
   "cell_type": "markdown",
   "metadata": {},
   "source": [
    "# multiplying weights by these matrix"
   ]
  },
  {
   "cell_type": "code",
   "execution_count": null,
   "metadata": {},
   "outputs": [],
   "source": []
  }
 ],
 "metadata": {
  "kernelspec": {
   "display_name": "Python 3",
   "language": "python",
   "name": "python3"
  },
  "language_info": {
   "codemirror_mode": {
    "name": "ipython",
    "version": 3
   },
   "file_extension": ".py",
   "mimetype": "text/x-python",
   "name": "python",
   "nbconvert_exporter": "python",
   "pygments_lexer": "ipython3",
   "version": "3.7.2"
  }
 },
 "nbformat": 4,
 "nbformat_minor": 4
}
