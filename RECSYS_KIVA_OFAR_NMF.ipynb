{
 "cells": [
  {
   "cell_type": "code",
   "execution_count": 1,
   "metadata": {},
   "outputs": [],
   "source": [
    "from surprise import BaselineOnly\n",
    "from surprise import NMF\n",
    "from surprise import Dataset\n",
    "from surprise import Reader\n",
    "from surprise.model_selection import cross_validate\n",
    "import os\n",
    "from surprise import accuracy\n",
    "from surprise.model_selection import KFold\n",
    "# from surprise import SVD\n",
    "from scipy import sparse\n",
    "import matplotlib.pyplot as plt\n",
    "import sklearn"
   ]
  },
  {
   "cell_type": "code",
   "execution_count": 2,
   "metadata": {},
   "outputs": [],
   "source": [
    "import numpy as np\n",
    "import pandas as pd\n",
    "import datetime\n",
    "import random\n",
    "from time import time\n",
    "import math\n",
    "from sklearn.cluster import DBSCAN\n",
    "from sklearn.metrics.pairwise import euclidean_distances\n",
    "from multiprocessing import Pool\n",
    "import timeit\n",
    "\n",
    "my_seed = 0\n",
    "random.seed(my_seed)\n",
    "np.random.seed(my_seed)"
   ]
  },
  {
   "cell_type": "code",
   "execution_count": 3,
   "metadata": {},
   "outputs": [],
   "source": [
    "class RatingDataset:\n",
    "    import numpy as np\n",
    "    from scipy import sparse\n",
    "    \n",
    "    def __init__(self):\n",
    "        self.rating_mat = None\n",
    "        self.time_mat = None\n",
    "        self._data_file_path = ''\n",
    "        \n",
    "        # list of raw user_IDs (dataset IDs)\n",
    "        self.items = []\n",
    "        self.users = []\n",
    "        self.item_n = 0\n",
    "        self.user_n = 0\n",
    "        \n",
    "        # maps raw user_id to user_iid(or innder id)\n",
    "        self.user_to_iid = {}\n",
    "        # maps user inner id to dataset raw ID\n",
    "        self.user_to_ID = {}\n",
    "        # maps raw item_id (dataset) to item_iid(or inner id)\n",
    "        self.item_to_iid = {}\n",
    "        # maps item inner id to dataset raw ID\n",
    "        self.item_to_ID = {}\n",
    "        \n",
    "        # list of triples of (item, rating, timestamp) for each user_iid. \n",
    "        # TODO: In case there were no Timestamp in the data, pairs of (item, rating) will be kept\n",
    "        self.user_ratings = []\n",
    "        # list of pair of (user, rating) for each item_iid\n",
    "        self.item_ratings = []\n",
    "        \n",
    "        \n",
    "    def __get_line_format_indices(self, line_format):\n",
    "        # specifying the order of 'user, item, rating, timestamp' in each line \n",
    "        lf_sp = line_format.split(' ')\n",
    "        if len(lf_sp) != 3:\n",
    "            raise Exception('''Bad line format!\n",
    "            line_format should be space-separated and it should always specified by \n",
    "            \"user item rating\" with any order!''')\n",
    "        user_idx = -1\n",
    "        item_idx = -1\n",
    "        rating_idx = -1\n",
    "        timestamp_idx = -1\n",
    "        for c in range(len(lf_sp)):\n",
    "            if lf_sp[c] == 'user':\n",
    "                user_idx = c\n",
    "            elif lf_sp[c] == 'item':\n",
    "                item_idx = c\n",
    "            elif lf_sp[c] == 'rating':\n",
    "                rating_idx = c\n",
    "#             elif lf_sp[c] == 'timestamp':\n",
    "#                 timestamp_idx = c\n",
    "            else:\n",
    "                raise Exception('line_format must be exactly dictated by one of: (user/item/rating) separated by sep!')\n",
    "        \n",
    "        return user_idx, item_idx, rating_idx\n",
    "    \n",
    "    \n",
    "    '''\n",
    "        Read the rating data from file and parse it and then make the dataset.\n",
    "    '''\n",
    "    def read_from_file(self, data_fn, skip_lines=0, sep=',', line_format='user item rating timestamp'):\n",
    "        \n",
    "        user_fmt_idx, item_fmt_idx, rating_fmt_idx = self.__get_line_format_indices(line_format)\n",
    "        \n",
    "        file = open(data_fn, 'r')\n",
    "        \n",
    "        # skip lines that are specified from input\n",
    "        for _ in range(skip_lines):\n",
    "            file.readline()\n",
    "            \n",
    "        # users list as in input file\n",
    "        users_lin = []\n",
    "        items_lin = []\n",
    "        ratings_lin = []\n",
    "#         timestamps_lin = []\n",
    "        for l in file:\n",
    "            lsp = l.split(sep)\n",
    "            user_id = lsp[user_fmt_idx]\n",
    "            item_id = lsp[item_fmt_idx]\n",
    "            rating = float(lsp[rating_fmt_idx])\n",
    "#             timestamp = int(lsp[timestamp_fmt_idx].strip('\\n'))\n",
    "            \n",
    "            users_lin.append(user_id)\n",
    "            items_lin.append(item_id)\n",
    "            ratings_lin.append(rating)\n",
    "#             timestamps_lin.append(timestamp)\n",
    "            \n",
    "        self.users = list(set(users_lin))\n",
    "        self.items = list(set(items_lin))\n",
    "        \n",
    "        self.user_n = len(self.users)\n",
    "        self.item_n = len(self.items)\n",
    "        \n",
    "        # set the mappings\n",
    "        for idx in range(self.user_n): \n",
    "            self.user_to_iid[self.users[idx]] = idx\n",
    "        for idx in range(self.user_n):\n",
    "            self.user_to_ID[idx] = self.users[idx] \n",
    "        for idx in range(self.item_n):\n",
    "            self.item_to_iid[self.items[idx]] = idx \n",
    "        for idx in range(self.item_n):\n",
    "            self.item_to_ID[idx] = self.items[idx] \n",
    "        \n",
    "        # init rating matrix\n",
    "        self.rating_mat = sparse.lil_matrix((self.user_n, self.item_n))\n",
    "#         self.time_mat = sparse.lil_matrix((self.user_n, self.item_n))\n",
    "        for idx in range(len(users_lin)):\n",
    "            user_iid = self.user_to_iid[users_lin[idx]]\n",
    "            item_iid = self.item_to_iid[items_lin[idx]]\n",
    "            rating = ratings_lin[idx]\n",
    "            self.rating_mat[user_iid, item_iid] = rating\n",
    "#             self.time_mat[user_iid, item_iid] = timestamps_lin[idx]\n",
    "            \n",
    "            \n",
    "    def list_users_ratings(self, rating_matrix):\n",
    "        # finding the user and item ratings\n",
    "        user_ratings = []\n",
    "        for user_iid in range(self.user_n):\n",
    "            # append a list for this user\n",
    "            user_ratings.append([])\n",
    "            user_nonze = np.nonzero(rating_matrix[user_iid])\n",
    "            for item_iid in user_nonze[1]:\n",
    "                # add items and its rating into the last user added to the list\n",
    "                user_ratings[-1].append((item_iid, rating_matrix[user_iid, item_iid]))\n",
    "                if rating_matrix[user_iid, item_iid] == 0:\n",
    "                    raise Exception('Found zero rating in nonzero ratings of user with inner id %d and item iid %d!' % (user_iid, item_iid))\n",
    "        return user_ratings\n",
    "    \n",
    "            \n",
    "    def list_items_ratings(self, rating_matrix):\n",
    "        item_ratings = []\n",
    "        for item_iid in range(self.item_n):\n",
    "            # append a list for this item\n",
    "            item_ratings.append([])\n",
    "            item_nonze = np.nonzero(rating_matrix.T[item_iid])\n",
    "            for user_iid in item_nonze[1]:\n",
    "                # add users and its rating into the last item added to the list\n",
    "                item_ratings[-1].append((user_iid, rating_matrix[user_iid, item_iid]))\n",
    "                if rating_matrix[user_iid, item_iid] == 0:\n",
    "                    raise Exception('Found zero rating in nonzero ratings of user with inner id %d and item iid %d!' % (user_iid, item_iid))\n",
    "        return item_ratings\n",
    "        \n",
    "            \n",
    "    def train_test_split(self, test_percent=0.2, least_userlen_test=10):\n",
    "        if test_percent > 1:\n",
    "            raise Exception('test_percent should be between 0 and 1.')\n",
    "            \n",
    "        user_ratings = self.list_users_ratings(self.rating_mat)\n",
    "        \n",
    "        mat = sparse.lil_matrix((self.user_n, self.item_n))\n",
    "        user_tests = {}\n",
    "        n_users_in_test = 0\n",
    "        n_ratings_in_test = 0\n",
    "        n_ratings_in_train = 0\n",
    "        \n",
    "        for user_iid in range(self.user_n):\n",
    "            len_u = len(user_ratings[user_iid])\n",
    "            if len_u >= least_userlen_test:\n",
    "                n_users_in_test += 1\n",
    "                test_len = int(len_u * test_percent)\n",
    "                test_set_u = list(range(len_u))\n",
    "#                 print(test_len, len_u)\n",
    "                random.shuffle(test_set_u)\n",
    "                \n",
    "                train_set_u = test_set_u[test_len:][:]\n",
    "                test_set_u = test_set_u[:test_len][:]\n",
    "                \n",
    "#                 print(len(train_set_u))\n",
    "                \n",
    "                for ir_idx in train_set_u:\n",
    "                    # ir = the pair of (item, rating)\n",
    "                    ir = user_ratings[user_iid][ir_idx]\n",
    "                    mat[user_iid, ir[0]] = ir[1]\n",
    "                    n_ratings_in_train += 1\n",
    "                \n",
    "                user_tests[user_iid] = []\n",
    "                for ir_idx in test_set_u:\n",
    "                    # ir = the pair of (item, rating)\n",
    "                    ir = user_ratings[user_iid][ir_idx]\n",
    "                    user_tests[user_iid].append(ir)\n",
    "                    n_ratings_in_test += 1\n",
    "                    \n",
    "            else: # if no test set should be seprated from ratings of this user\n",
    "                for ir in user_ratings[user_iid]:\n",
    "                    # ir = the pair of (item, rating)\n",
    "                    mat[user_iid, ir[0]] = ir[1]\n",
    "                    n_ratings_in_train += 1\n",
    "    \n",
    "        print('Number of users with some items in testset: %d' % n_users_in_test)\n",
    "        print('Number of ratings in trainset: %d \\t Number of ratings in testset: %d' % (n_ratings_in_train, n_ratings_in_test))\n",
    "        return mat, user_tests"
   ]
  },
  {
   "cell_type": "code",
   "execution_count": 4,
   "metadata": {},
   "outputs": [],
   "source": [
    "dataset = RatingDataset()\n",
    "data_fn = 'data/Kiva/rating_5000_cls_hc_10core_iterative.csv'\n",
    "dataset.read_from_file(data_fn, line_format='user item rating', sep='\\t')"
   ]
  },
  {
   "cell_type": "code",
   "execution_count": 5,
   "metadata": {},
   "outputs": [
    {
     "name": "stdout",
     "output_type": "stream",
     "text": [
      "4005\n",
      "2673\n"
     ]
    }
   ],
   "source": [
    "print(dataset.user_n)\n",
    "print(dataset.item_n)"
   ]
  },
  {
   "cell_type": "code",
   "execution_count": 6,
   "metadata": {
    "scrolled": true
   },
   "outputs": [
    {
     "name": "stdout",
     "output_type": "stream",
     "text": [
      "Number of users with some items in testset: 4005\n",
      "Number of ratings in trainset: 89678 \t Number of ratings in testset: 20693\n"
     ]
    }
   ],
   "source": [
    "train_mat, user_tests = dataset.train_test_split(test_percent=0.2, least_userlen_test=10)"
   ]
  },
  {
   "cell_type": "code",
   "execution_count": 7,
   "metadata": {},
   "outputs": [],
   "source": [
    "user_ratings = dataset.list_users_ratings(dataset.rating_mat)"
   ]
  },
  {
   "cell_type": "code",
   "execution_count": 8,
   "metadata": {},
   "outputs": [
    {
     "data": {
      "text/plain": [
       "(4005, 2673)"
      ]
     },
     "execution_count": 8,
     "metadata": {},
     "output_type": "execute_result"
    }
   ],
   "source": [
    "dataset.rating_mat.shape"
   ]
  },
  {
   "cell_type": "markdown",
   "metadata": {},
   "source": [
    "### saving training and test sets"
   ]
  },
  {
   "cell_type": "code",
   "execution_count": 9,
   "metadata": {},
   "outputs": [],
   "source": [
    "# test set\n",
    "u_t_list = []\n",
    "\n",
    "for uid in user_tests.keys():\n",
    "    base_rec = pd.DataFrame(user_tests[uid])\n",
    "    base_rec[2] = uid\n",
    "    u_t_list.append(base_rec[[2,0,1]])\n",
    "\n",
    "u_t_df = pd.concat(u_t_list, ignore_index=True)\n",
    "u_t_df.columns=['userid', 'itemid', 'rating']\n",
    "u_t_df.to_csv('./UMAP2020_CameraReady/test_recs_kiva.csv', index=False, header=None)"
   ]
  },
  {
   "cell_type": "code",
   "execution_count": 10,
   "metadata": {},
   "outputs": [],
   "source": [
    "np.save('./UMAP2020_CameraReady/trainmatrix_kiva.npy', train_mat.toarray())"
   ]
  },
  {
   "cell_type": "markdown",
   "metadata": {},
   "source": [
    "# Evaluation\n",
    "mat: Training data sparse matrix\n",
    "\n",
    "user_tests: A dictionary for each user(key) stores the set of items that is positively rated(>= 4stars) by this user."
   ]
  },
  {
   "cell_type": "code",
   "execution_count": 11,
   "metadata": {},
   "outputs": [],
   "source": [
    "import math\n",
    "# ground_truth: list of items ordered by time\n",
    "def nDCG_Time(ground_truth, _recList):\n",
    "    rec_num = len(_recList) #topK\n",
    "    # ground_truth is already sorted by time\n",
    "    idealOrder = ground_truth\n",
    "    idealDCG = 0.0\n",
    "    for j in range(min(rec_num, len(idealOrder))):\n",
    "        idealDCG += ((math.pow(2.0, len(idealOrder) - j) - 1) / math.log(2.0 + j))\n",
    "\n",
    "    recDCG = 0.0\n",
    "    for j in range(rec_num):\n",
    "        item = _recList[j]\n",
    "        if item in ground_truth:\n",
    "            rank = len(ground_truth) - ground_truth.index(item) # why ground truth?\n",
    "            recDCG += ((math.pow(2.0, rank) - 1) / math.log(1.0 + j + 1))\n",
    "\n",
    "    return (recDCG / idealDCG)\n",
    "\n",
    "\n",
    "def Recall(_test_set, _recList):\n",
    "    hit = len(set(_recList).intersection(set(_test_set)))\n",
    "    return hit / float(len(_test_set))\n",
    "\n",
    "\n",
    "def Precision(_test_set, _recList):\n",
    "    hit = len(set(_recList).intersection(set(_test_set)))\n",
    "    return hit / float(len(_recList))\n"
   ]
  },
  {
   "cell_type": "code",
   "execution_count": 12,
   "metadata": {},
   "outputs": [],
   "source": [
    "# Intra List Distance\n",
    "def ILD(_recList):\n",
    "    \n",
    "    \n",
    "    # convert inner ids to imdbids\n",
    "    _recList_if_ids = [InnerID_to_iiMatrixID[Inner_ID] for Inner_ID in _recList]\n",
    "    _recList_if_ids = list(map(int, _recList))\n",
    "\n",
    "    totalDisSimilarityPerUser = 0\n",
    "    topK =  len(_recList)\n",
    "    \n",
    "    \n",
    "            \n",
    "    totalDisSimilarityPerUser = 0\n",
    "    topK =  len(_recList)\n",
    "    \n",
    "    for item_i in _recList_if_ids:\n",
    "        for item_j in _recList_if_ids:\n",
    "             if (item_i != item_j):\n",
    "                # this vector (i) and that vector (j)\n",
    "                totalDisSimilarityPerUser += (1.0 - itemItemSimilarityByFeature[item_i, item_j])\n",
    "    \n",
    "#     c = []\n",
    "#     for item_i in _recList_if_ids:\n",
    "#         if (item_i >= itemItemSimilarityByFeature.shape[0]) or (item_i >= itemItemSimilarityByFeature.shape[1]):\n",
    "#             c.append(item_i) \n",
    "#             continue\n",
    "            \n",
    "#         for item_j in _recList_if_ids:\n",
    "#             if (item_j >= itemItemSimilarityByFeature.shape[0]) or (item_i >= itemItemSimilarityByFeature.shape[1]):\n",
    "#                 c.append(item_j) \n",
    "#                 continue\n",
    "#             if (item_i != item_j):\n",
    "#                 # this vector (i) and that vector (j)\n",
    "#                 totalDisSimilarityPerUser += (1.0 - itemItemSimilarityByFeature[item_i, item_j])\n",
    "#     print(\"# of rec ids not in item_feature_df\",len(set(c)))\n",
    "    \n",
    "    diversityPerUser = (totalDisSimilarityPerUser * 2.0) / (topK * (topK - 1.0))\n",
    "    return (diversityPerUser)\n",
    "\n",
    "\n",
    "def ENTROPY_(_recList):\n",
    "    \n",
    "    # given a user id, it calcualtes the entropy for the recommendation list of a user\n",
    "    _recList_ids = list(map(int, _recList))\n",
    "    feature_count_vector = item_features_df[item_features_df.index.isin(_recList_ids)].sum(axis=0)\n",
    "    \n",
    "    # turn it back to a list of labels so we can pass it to entropy_()\n",
    "    # _recList_item_features = [i for i in feature_count_vector[feature_count_vector != 0].index for j in range(feature_count_vector[i])]\n",
    "    _recList_item_features = [i for i in feature_count_vector[feature_count_vector != 0].index]\n",
    "\n",
    "    # send the labels to the entropy_() to calculate the netropy over all the labels combined.\n",
    "    return entropy_(_recList_item_features)\n",
    "\n",
    "    \n",
    "def entropy_(labels, base=None):\n",
    "    from math import log, e\n",
    "    \"\"\" Computes entropy of label distribution. \"\"\"\n",
    "\n",
    "    n_labels = len(labels)\n",
    "    if n_labels <= 1:\n",
    "        return 0\n",
    "\n",
    "    value, counts = np.unique(labels, return_counts=True)\n",
    "    probs = counts / n_labels\n",
    "    n_classes = np.count_nonzero(probs)\n",
    "\n",
    "    if n_classes <= 1:\n",
    "        return 0\n",
    "    \n",
    "    ent = 0.\n",
    "\n",
    "    # Compute entropy\n",
    "    base = e if base is None else base\n",
    "    for i in probs:\n",
    "        ent -= i * log(i, base)\n",
    "\n",
    "    return ent"
   ]
  },
  {
   "cell_type": "code",
   "execution_count": 13,
   "metadata": {},
   "outputs": [],
   "source": [
    "def KullbackLeiblerDivergence(interactDist, recommendedDist):\n",
    "    import numpy as np\n",
    "    alpha = 0.01 # not really a tuning parameter, it's there to make the computation more numerically stable.\n",
    "    klDive = 0.0\n",
    "    for i in range(len(interactDist)):\n",
    "        # By convention, 0 * ln(0/a) = 0, so we can ignore keys in q that aren't in p\n",
    "        if interactDist[i] == 0.0:\n",
    "            continue\n",
    "        # if q = recommendationDist and p = interactedDist, q-hat is the adjusted q.\n",
    "        # given that KL divergence diverges if recommendationDist or q is zero, we instead use q-hat = (1-alpha).q + alpha . p\n",
    "        recommendedDist[i] = (1 - alpha) * recommendedDist[i] + alpha * interactDist[i]\n",
    "        klDive += interactDist[i] * np.log2(interactDist[i] / recommendedDist[i])\n",
    "\n",
    "    return klDive\n",
    "\n",
    "def ComputeGenreDistribution(itemList, item_features_df):\n",
    "    return item_features_df[item_features_df.index.isin(itemList)].sum(axis=0) / len(itemList)\n",
    "\n",
    "\n",
    "# it's calculated for each user\n",
    "def Calibration(groundTruth, _recList):\n",
    "    \n",
    "    recommendedDist = ComputeGenreDistribution(_recList, item_features_df)\n",
    "    interactDist = ComputeGenreDistribution(groundTruth, item_features_df)\n",
    "    \n",
    "    klDive = KullbackLeiblerDivergence(interactDist, recommendedDist)\n",
    "    return klDive"
   ]
  },
  {
   "cell_type": "code",
   "execution_count": 14,
   "metadata": {},
   "outputs": [],
   "source": [
    "# def isProtected(itemId):\n",
    "#     if item_features_df.loc[item_features_df.index == itemId,\n",
    "#                            [ 'Horror', 'History','Music', '']].sum(axis=1).values[0] > 0:\n",
    "#         return True\n",
    "#     return False"
   ]
  },
  {
   "cell_type": "markdown",
   "metadata": {},
   "source": [
    "### reading item-feature matrix"
   ]
  },
  {
   "cell_type": "code",
   "execution_count": 15,
   "metadata": {},
   "outputs": [
    {
     "name": "stdout",
     "output_type": "stream",
     "text": [
      "(2673, 231)\n"
     ]
    },
    {
     "data": {
      "text/html": [
       "<div>\n",
       "<style scoped>\n",
       "    .dataframe tbody tr th:only-of-type {\n",
       "        vertical-align: middle;\n",
       "    }\n",
       "\n",
       "    .dataframe tbody tr th {\n",
       "        vertical-align: top;\n",
       "    }\n",
       "\n",
       "    .dataframe thead th {\n",
       "        text-align: right;\n",
       "    }\n",
       "</style>\n",
       "<table border=\"1\" class=\"dataframe\">\n",
       "  <thead>\n",
       "    <tr style=\"text-align: right;\">\n",
       "      <th></th>\n",
       "      <th>ACTIVITY_Agriculture</th>\n",
       "      <th>ACTIVITY_Air Conditioning</th>\n",
       "      <th>ACTIVITY_Animal Sales</th>\n",
       "      <th>ACTIVITY_Aquaculture</th>\n",
       "      <th>ACTIVITY_Arts</th>\n",
       "      <th>ACTIVITY_Auto Repair</th>\n",
       "      <th>ACTIVITY_Bakery</th>\n",
       "      <th>ACTIVITY_Barber Shop</th>\n",
       "      <th>ACTIVITY_Beauty Salon</th>\n",
       "      <th>ACTIVITY_Beekeeping</th>\n",
       "      <th>...</th>\n",
       "      <th>loan_buck_4</th>\n",
       "      <th>loan_buck_5</th>\n",
       "      <th>loan_buck_6</th>\n",
       "      <th>loan_buck_7</th>\n",
       "      <th>loan_buck_8</th>\n",
       "      <th>loan_buck_9</th>\n",
       "      <th>pfr_buck_0</th>\n",
       "      <th>pfr_buck_1</th>\n",
       "      <th>pfr_buck_2</th>\n",
       "      <th>pfr_buck_3</th>\n",
       "    </tr>\n",
       "    <tr>\n",
       "      <th>pseudoitemid</th>\n",
       "      <th></th>\n",
       "      <th></th>\n",
       "      <th></th>\n",
       "      <th></th>\n",
       "      <th></th>\n",
       "      <th></th>\n",
       "      <th></th>\n",
       "      <th></th>\n",
       "      <th></th>\n",
       "      <th></th>\n",
       "      <th></th>\n",
       "      <th></th>\n",
       "      <th></th>\n",
       "      <th></th>\n",
       "      <th></th>\n",
       "      <th></th>\n",
       "      <th></th>\n",
       "      <th></th>\n",
       "      <th></th>\n",
       "      <th></th>\n",
       "      <th></th>\n",
       "    </tr>\n",
       "  </thead>\n",
       "  <tbody>\n",
       "    <tr>\n",
       "      <th>0</th>\n",
       "      <td>0</td>\n",
       "      <td>0</td>\n",
       "      <td>0</td>\n",
       "      <td>0</td>\n",
       "      <td>0</td>\n",
       "      <td>0</td>\n",
       "      <td>0</td>\n",
       "      <td>0</td>\n",
       "      <td>0</td>\n",
       "      <td>0</td>\n",
       "      <td>...</td>\n",
       "      <td>0</td>\n",
       "      <td>0</td>\n",
       "      <td>0</td>\n",
       "      <td>0</td>\n",
       "      <td>0</td>\n",
       "      <td>0</td>\n",
       "      <td>0</td>\n",
       "      <td>0</td>\n",
       "      <td>1</td>\n",
       "      <td>0</td>\n",
       "    </tr>\n",
       "    <tr>\n",
       "      <th>1</th>\n",
       "      <td>0</td>\n",
       "      <td>0</td>\n",
       "      <td>0</td>\n",
       "      <td>0</td>\n",
       "      <td>0</td>\n",
       "      <td>0</td>\n",
       "      <td>0</td>\n",
       "      <td>0</td>\n",
       "      <td>0</td>\n",
       "      <td>0</td>\n",
       "      <td>...</td>\n",
       "      <td>0</td>\n",
       "      <td>0</td>\n",
       "      <td>0</td>\n",
       "      <td>0</td>\n",
       "      <td>0</td>\n",
       "      <td>0</td>\n",
       "      <td>0</td>\n",
       "      <td>0</td>\n",
       "      <td>1</td>\n",
       "      <td>0</td>\n",
       "    </tr>\n",
       "    <tr>\n",
       "      <th>2</th>\n",
       "      <td>0</td>\n",
       "      <td>0</td>\n",
       "      <td>0</td>\n",
       "      <td>0</td>\n",
       "      <td>0</td>\n",
       "      <td>0</td>\n",
       "      <td>0</td>\n",
       "      <td>0</td>\n",
       "      <td>0</td>\n",
       "      <td>0</td>\n",
       "      <td>...</td>\n",
       "      <td>0</td>\n",
       "      <td>1</td>\n",
       "      <td>0</td>\n",
       "      <td>0</td>\n",
       "      <td>0</td>\n",
       "      <td>0</td>\n",
       "      <td>0</td>\n",
       "      <td>0</td>\n",
       "      <td>1</td>\n",
       "      <td>0</td>\n",
       "    </tr>\n",
       "    <tr>\n",
       "      <th>3</th>\n",
       "      <td>0</td>\n",
       "      <td>0</td>\n",
       "      <td>0</td>\n",
       "      <td>0</td>\n",
       "      <td>0</td>\n",
       "      <td>0</td>\n",
       "      <td>0</td>\n",
       "      <td>0</td>\n",
       "      <td>0</td>\n",
       "      <td>0</td>\n",
       "      <td>...</td>\n",
       "      <td>0</td>\n",
       "      <td>0</td>\n",
       "      <td>1</td>\n",
       "      <td>0</td>\n",
       "      <td>0</td>\n",
       "      <td>0</td>\n",
       "      <td>0</td>\n",
       "      <td>1</td>\n",
       "      <td>0</td>\n",
       "      <td>0</td>\n",
       "    </tr>\n",
       "    <tr>\n",
       "      <th>4</th>\n",
       "      <td>0</td>\n",
       "      <td>0</td>\n",
       "      <td>0</td>\n",
       "      <td>0</td>\n",
       "      <td>0</td>\n",
       "      <td>0</td>\n",
       "      <td>0</td>\n",
       "      <td>0</td>\n",
       "      <td>0</td>\n",
       "      <td>0</td>\n",
       "      <td>...</td>\n",
       "      <td>0</td>\n",
       "      <td>1</td>\n",
       "      <td>0</td>\n",
       "      <td>0</td>\n",
       "      <td>0</td>\n",
       "      <td>0</td>\n",
       "      <td>0</td>\n",
       "      <td>0</td>\n",
       "      <td>1</td>\n",
       "      <td>0</td>\n",
       "    </tr>\n",
       "  </tbody>\n",
       "</table>\n",
       "<p>5 rows × 231 columns</p>\n",
       "</div>"
      ],
      "text/plain": [
       "              ACTIVITY_Agriculture  ACTIVITY_Air Conditioning  \\\n",
       "pseudoitemid                                                    \n",
       "0                                0                          0   \n",
       "1                                0                          0   \n",
       "2                                0                          0   \n",
       "3                                0                          0   \n",
       "4                                0                          0   \n",
       "\n",
       "              ACTIVITY_Animal Sales  ACTIVITY_Aquaculture  ACTIVITY_Arts  \\\n",
       "pseudoitemid                                                               \n",
       "0                                 0                     0              0   \n",
       "1                                 0                     0              0   \n",
       "2                                 0                     0              0   \n",
       "3                                 0                     0              0   \n",
       "4                                 0                     0              0   \n",
       "\n",
       "              ACTIVITY_Auto Repair  ACTIVITY_Bakery  ACTIVITY_Barber Shop  \\\n",
       "pseudoitemid                                                                \n",
       "0                                0                0                     0   \n",
       "1                                0                0                     0   \n",
       "2                                0                0                     0   \n",
       "3                                0                0                     0   \n",
       "4                                0                0                     0   \n",
       "\n",
       "              ACTIVITY_Beauty Salon  ACTIVITY_Beekeeping  ...  loan_buck_4  \\\n",
       "pseudoitemid                                              ...                \n",
       "0                                 0                    0  ...            0   \n",
       "1                                 0                    0  ...            0   \n",
       "2                                 0                    0  ...            0   \n",
       "3                                 0                    0  ...            0   \n",
       "4                                 0                    0  ...            0   \n",
       "\n",
       "              loan_buck_5  loan_buck_6  loan_buck_7  loan_buck_8  loan_buck_9  \\\n",
       "pseudoitemid                                                                    \n",
       "0                       0            0            0            0            0   \n",
       "1                       0            0            0            0            0   \n",
       "2                       1            0            0            0            0   \n",
       "3                       0            1            0            0            0   \n",
       "4                       1            0            0            0            0   \n",
       "\n",
       "              pfr_buck_0  pfr_buck_1  pfr_buck_2  pfr_buck_3  \n",
       "pseudoitemid                                                  \n",
       "0                      0           0           1           0  \n",
       "1                      0           0           1           0  \n",
       "2                      0           0           1           0  \n",
       "3                      0           1           0           0  \n",
       "4                      0           0           1           0  \n",
       "\n",
       "[5 rows x 231 columns]"
      ]
     },
     "execution_count": 15,
     "metadata": {},
     "output_type": "execute_result"
    }
   ],
   "source": [
    "item_features_df = pd.read_csv('./data/Kiva/loan_feature_matrix_hc_10core.csv', dtype=int)\n",
    "item_features_df.set_index('pseudoitemid', inplace=True)\n",
    "print(item_features_df.shape)\n",
    "item_features_df.head()"
   ]
  },
  {
   "cell_type": "markdown",
   "metadata": {},
   "source": [
    "# Adding the INNER item IDs to the item_feature dataframe"
   ]
  },
  {
   "cell_type": "code",
   "execution_count": 16,
   "metadata": {},
   "outputs": [
    {
     "name": "stdout",
     "output_type": "stream",
     "text": [
      "0\n"
     ]
    },
    {
     "data": {
      "text/html": [
       "<div>\n",
       "<style scoped>\n",
       "    .dataframe tbody tr th:only-of-type {\n",
       "        vertical-align: middle;\n",
       "    }\n",
       "\n",
       "    .dataframe tbody tr th {\n",
       "        vertical-align: top;\n",
       "    }\n",
       "\n",
       "    .dataframe thead th {\n",
       "        text-align: right;\n",
       "    }\n",
       "</style>\n",
       "<table border=\"1\" class=\"dataframe\">\n",
       "  <thead>\n",
       "    <tr style=\"text-align: right;\">\n",
       "      <th></th>\n",
       "      <th>ACTIVITY_Agriculture</th>\n",
       "      <th>ACTIVITY_Air Conditioning</th>\n",
       "      <th>ACTIVITY_Animal Sales</th>\n",
       "      <th>ACTIVITY_Aquaculture</th>\n",
       "      <th>ACTIVITY_Arts</th>\n",
       "      <th>ACTIVITY_Auto Repair</th>\n",
       "      <th>ACTIVITY_Bakery</th>\n",
       "      <th>ACTIVITY_Barber Shop</th>\n",
       "      <th>ACTIVITY_Beauty Salon</th>\n",
       "      <th>ACTIVITY_Beekeeping</th>\n",
       "      <th>...</th>\n",
       "      <th>loan_buck_4</th>\n",
       "      <th>loan_buck_5</th>\n",
       "      <th>loan_buck_6</th>\n",
       "      <th>loan_buck_7</th>\n",
       "      <th>loan_buck_8</th>\n",
       "      <th>loan_buck_9</th>\n",
       "      <th>pfr_buck_0</th>\n",
       "      <th>pfr_buck_1</th>\n",
       "      <th>pfr_buck_2</th>\n",
       "      <th>pfr_buck_3</th>\n",
       "    </tr>\n",
       "    <tr>\n",
       "      <th>pseudoitemid</th>\n",
       "      <th></th>\n",
       "      <th></th>\n",
       "      <th></th>\n",
       "      <th></th>\n",
       "      <th></th>\n",
       "      <th></th>\n",
       "      <th></th>\n",
       "      <th></th>\n",
       "      <th></th>\n",
       "      <th></th>\n",
       "      <th></th>\n",
       "      <th></th>\n",
       "      <th></th>\n",
       "      <th></th>\n",
       "      <th></th>\n",
       "      <th></th>\n",
       "      <th></th>\n",
       "      <th></th>\n",
       "      <th></th>\n",
       "      <th></th>\n",
       "      <th></th>\n",
       "    </tr>\n",
       "  </thead>\n",
       "  <tbody>\n",
       "    <tr>\n",
       "      <th>0</th>\n",
       "      <td>0</td>\n",
       "      <td>0</td>\n",
       "      <td>0</td>\n",
       "      <td>0</td>\n",
       "      <td>0</td>\n",
       "      <td>0</td>\n",
       "      <td>0</td>\n",
       "      <td>0</td>\n",
       "      <td>0</td>\n",
       "      <td>0</td>\n",
       "      <td>...</td>\n",
       "      <td>0</td>\n",
       "      <td>0</td>\n",
       "      <td>0</td>\n",
       "      <td>0</td>\n",
       "      <td>0</td>\n",
       "      <td>0</td>\n",
       "      <td>0</td>\n",
       "      <td>0</td>\n",
       "      <td>1</td>\n",
       "      <td>0</td>\n",
       "    </tr>\n",
       "    <tr>\n",
       "      <th>1</th>\n",
       "      <td>0</td>\n",
       "      <td>0</td>\n",
       "      <td>0</td>\n",
       "      <td>0</td>\n",
       "      <td>0</td>\n",
       "      <td>0</td>\n",
       "      <td>0</td>\n",
       "      <td>0</td>\n",
       "      <td>0</td>\n",
       "      <td>0</td>\n",
       "      <td>...</td>\n",
       "      <td>0</td>\n",
       "      <td>0</td>\n",
       "      <td>0</td>\n",
       "      <td>0</td>\n",
       "      <td>0</td>\n",
       "      <td>0</td>\n",
       "      <td>0</td>\n",
       "      <td>0</td>\n",
       "      <td>1</td>\n",
       "      <td>0</td>\n",
       "    </tr>\n",
       "    <tr>\n",
       "      <th>2</th>\n",
       "      <td>0</td>\n",
       "      <td>0</td>\n",
       "      <td>0</td>\n",
       "      <td>0</td>\n",
       "      <td>0</td>\n",
       "      <td>0</td>\n",
       "      <td>0</td>\n",
       "      <td>0</td>\n",
       "      <td>0</td>\n",
       "      <td>0</td>\n",
       "      <td>...</td>\n",
       "      <td>0</td>\n",
       "      <td>1</td>\n",
       "      <td>0</td>\n",
       "      <td>0</td>\n",
       "      <td>0</td>\n",
       "      <td>0</td>\n",
       "      <td>0</td>\n",
       "      <td>0</td>\n",
       "      <td>1</td>\n",
       "      <td>0</td>\n",
       "    </tr>\n",
       "    <tr>\n",
       "      <th>3</th>\n",
       "      <td>0</td>\n",
       "      <td>0</td>\n",
       "      <td>0</td>\n",
       "      <td>0</td>\n",
       "      <td>0</td>\n",
       "      <td>0</td>\n",
       "      <td>0</td>\n",
       "      <td>0</td>\n",
       "      <td>0</td>\n",
       "      <td>0</td>\n",
       "      <td>...</td>\n",
       "      <td>0</td>\n",
       "      <td>0</td>\n",
       "      <td>1</td>\n",
       "      <td>0</td>\n",
       "      <td>0</td>\n",
       "      <td>0</td>\n",
       "      <td>0</td>\n",
       "      <td>1</td>\n",
       "      <td>0</td>\n",
       "      <td>0</td>\n",
       "    </tr>\n",
       "    <tr>\n",
       "      <th>4</th>\n",
       "      <td>0</td>\n",
       "      <td>0</td>\n",
       "      <td>0</td>\n",
       "      <td>0</td>\n",
       "      <td>0</td>\n",
       "      <td>0</td>\n",
       "      <td>0</td>\n",
       "      <td>0</td>\n",
       "      <td>0</td>\n",
       "      <td>0</td>\n",
       "      <td>...</td>\n",
       "      <td>0</td>\n",
       "      <td>1</td>\n",
       "      <td>0</td>\n",
       "      <td>0</td>\n",
       "      <td>0</td>\n",
       "      <td>0</td>\n",
       "      <td>0</td>\n",
       "      <td>0</td>\n",
       "      <td>1</td>\n",
       "      <td>0</td>\n",
       "    </tr>\n",
       "  </tbody>\n",
       "</table>\n",
       "<p>5 rows × 231 columns</p>\n",
       "</div>"
      ],
      "text/plain": [
       "              ACTIVITY_Agriculture  ACTIVITY_Air Conditioning  \\\n",
       "pseudoitemid                                                    \n",
       "0                                0                          0   \n",
       "1                                0                          0   \n",
       "2                                0                          0   \n",
       "3                                0                          0   \n",
       "4                                0                          0   \n",
       "\n",
       "              ACTIVITY_Animal Sales  ACTIVITY_Aquaculture  ACTIVITY_Arts  \\\n",
       "pseudoitemid                                                               \n",
       "0                                 0                     0              0   \n",
       "1                                 0                     0              0   \n",
       "2                                 0                     0              0   \n",
       "3                                 0                     0              0   \n",
       "4                                 0                     0              0   \n",
       "\n",
       "              ACTIVITY_Auto Repair  ACTIVITY_Bakery  ACTIVITY_Barber Shop  \\\n",
       "pseudoitemid                                                                \n",
       "0                                0                0                     0   \n",
       "1                                0                0                     0   \n",
       "2                                0                0                     0   \n",
       "3                                0                0                     0   \n",
       "4                                0                0                     0   \n",
       "\n",
       "              ACTIVITY_Beauty Salon  ACTIVITY_Beekeeping  ...  loan_buck_4  \\\n",
       "pseudoitemid                                              ...                \n",
       "0                                 0                    0  ...            0   \n",
       "1                                 0                    0  ...            0   \n",
       "2                                 0                    0  ...            0   \n",
       "3                                 0                    0  ...            0   \n",
       "4                                 0                    0  ...            0   \n",
       "\n",
       "              loan_buck_5  loan_buck_6  loan_buck_7  loan_buck_8  loan_buck_9  \\\n",
       "pseudoitemid                                                                    \n",
       "0                       0            0            0            0            0   \n",
       "1                       0            0            0            0            0   \n",
       "2                       1            0            0            0            0   \n",
       "3                       0            1            0            0            0   \n",
       "4                       1            0            0            0            0   \n",
       "\n",
       "              pfr_buck_0  pfr_buck_1  pfr_buck_2  pfr_buck_3  \n",
       "pseudoitemid                                                  \n",
       "0                      0           0           1           0  \n",
       "1                      0           0           1           0  \n",
       "2                      0           0           1           0  \n",
       "3                      0           1           0           0  \n",
       "4                      0           0           1           0  \n",
       "\n",
       "[5 rows x 231 columns]"
      ]
     },
     "execution_count": 16,
     "metadata": {},
     "output_type": "execute_result"
    }
   ],
   "source": [
    "e = 0\n",
    "inner_ids = []\n",
    "for idx, row in item_features_df.iterrows():\n",
    "    try:\n",
    "        inner_ids.append(dataset.item_to_iid[str(int(idx))])\n",
    "    except KeyError:\n",
    "        e += 1\n",
    "print(e)\n",
    "item_features_df.head()"
   ]
  },
  {
   "cell_type": "code",
   "execution_count": 17,
   "metadata": {},
   "outputs": [
    {
     "data": {
      "text/html": [
       "<div>\n",
       "<style scoped>\n",
       "    .dataframe tbody tr th:only-of-type {\n",
       "        vertical-align: middle;\n",
       "    }\n",
       "\n",
       "    .dataframe tbody tr th {\n",
       "        vertical-align: top;\n",
       "    }\n",
       "\n",
       "    .dataframe thead th {\n",
       "        text-align: right;\n",
       "    }\n",
       "</style>\n",
       "<table border=\"1\" class=\"dataframe\">\n",
       "  <thead>\n",
       "    <tr style=\"text-align: right;\">\n",
       "      <th></th>\n",
       "      <th>ACTIVITY_Agriculture</th>\n",
       "      <th>ACTIVITY_Air Conditioning</th>\n",
       "      <th>ACTIVITY_Animal Sales</th>\n",
       "      <th>ACTIVITY_Aquaculture</th>\n",
       "      <th>ACTIVITY_Arts</th>\n",
       "      <th>ACTIVITY_Auto Repair</th>\n",
       "      <th>ACTIVITY_Bakery</th>\n",
       "      <th>ACTIVITY_Barber Shop</th>\n",
       "      <th>ACTIVITY_Beauty Salon</th>\n",
       "      <th>ACTIVITY_Beekeeping</th>\n",
       "      <th>...</th>\n",
       "      <th>loan_buck_4</th>\n",
       "      <th>loan_buck_5</th>\n",
       "      <th>loan_buck_6</th>\n",
       "      <th>loan_buck_7</th>\n",
       "      <th>loan_buck_8</th>\n",
       "      <th>loan_buck_9</th>\n",
       "      <th>pfr_buck_0</th>\n",
       "      <th>pfr_buck_1</th>\n",
       "      <th>pfr_buck_2</th>\n",
       "      <th>pfr_buck_3</th>\n",
       "    </tr>\n",
       "    <tr>\n",
       "      <th>innerID</th>\n",
       "      <th></th>\n",
       "      <th></th>\n",
       "      <th></th>\n",
       "      <th></th>\n",
       "      <th></th>\n",
       "      <th></th>\n",
       "      <th></th>\n",
       "      <th></th>\n",
       "      <th></th>\n",
       "      <th></th>\n",
       "      <th></th>\n",
       "      <th></th>\n",
       "      <th></th>\n",
       "      <th></th>\n",
       "      <th></th>\n",
       "      <th></th>\n",
       "      <th></th>\n",
       "      <th></th>\n",
       "      <th></th>\n",
       "      <th></th>\n",
       "      <th></th>\n",
       "    </tr>\n",
       "  </thead>\n",
       "  <tbody>\n",
       "    <tr>\n",
       "      <th>2655</th>\n",
       "      <td>0</td>\n",
       "      <td>0</td>\n",
       "      <td>0</td>\n",
       "      <td>0</td>\n",
       "      <td>0</td>\n",
       "      <td>0</td>\n",
       "      <td>0</td>\n",
       "      <td>0</td>\n",
       "      <td>0</td>\n",
       "      <td>0</td>\n",
       "      <td>...</td>\n",
       "      <td>0</td>\n",
       "      <td>0</td>\n",
       "      <td>0</td>\n",
       "      <td>0</td>\n",
       "      <td>0</td>\n",
       "      <td>0</td>\n",
       "      <td>0</td>\n",
       "      <td>0</td>\n",
       "      <td>1</td>\n",
       "      <td>0</td>\n",
       "    </tr>\n",
       "    <tr>\n",
       "      <th>2240</th>\n",
       "      <td>0</td>\n",
       "      <td>0</td>\n",
       "      <td>0</td>\n",
       "      <td>0</td>\n",
       "      <td>0</td>\n",
       "      <td>0</td>\n",
       "      <td>0</td>\n",
       "      <td>0</td>\n",
       "      <td>0</td>\n",
       "      <td>0</td>\n",
       "      <td>...</td>\n",
       "      <td>0</td>\n",
       "      <td>0</td>\n",
       "      <td>0</td>\n",
       "      <td>0</td>\n",
       "      <td>0</td>\n",
       "      <td>0</td>\n",
       "      <td>0</td>\n",
       "      <td>0</td>\n",
       "      <td>1</td>\n",
       "      <td>0</td>\n",
       "    </tr>\n",
       "    <tr>\n",
       "      <th>1499</th>\n",
       "      <td>0</td>\n",
       "      <td>0</td>\n",
       "      <td>0</td>\n",
       "      <td>0</td>\n",
       "      <td>0</td>\n",
       "      <td>0</td>\n",
       "      <td>0</td>\n",
       "      <td>0</td>\n",
       "      <td>0</td>\n",
       "      <td>0</td>\n",
       "      <td>...</td>\n",
       "      <td>0</td>\n",
       "      <td>1</td>\n",
       "      <td>0</td>\n",
       "      <td>0</td>\n",
       "      <td>0</td>\n",
       "      <td>0</td>\n",
       "      <td>0</td>\n",
       "      <td>0</td>\n",
       "      <td>1</td>\n",
       "      <td>0</td>\n",
       "    </tr>\n",
       "    <tr>\n",
       "      <th>2201</th>\n",
       "      <td>0</td>\n",
       "      <td>0</td>\n",
       "      <td>0</td>\n",
       "      <td>0</td>\n",
       "      <td>0</td>\n",
       "      <td>0</td>\n",
       "      <td>0</td>\n",
       "      <td>0</td>\n",
       "      <td>0</td>\n",
       "      <td>0</td>\n",
       "      <td>...</td>\n",
       "      <td>0</td>\n",
       "      <td>0</td>\n",
       "      <td>1</td>\n",
       "      <td>0</td>\n",
       "      <td>0</td>\n",
       "      <td>0</td>\n",
       "      <td>0</td>\n",
       "      <td>1</td>\n",
       "      <td>0</td>\n",
       "      <td>0</td>\n",
       "    </tr>\n",
       "    <tr>\n",
       "      <th>546</th>\n",
       "      <td>0</td>\n",
       "      <td>0</td>\n",
       "      <td>0</td>\n",
       "      <td>0</td>\n",
       "      <td>0</td>\n",
       "      <td>0</td>\n",
       "      <td>0</td>\n",
       "      <td>0</td>\n",
       "      <td>0</td>\n",
       "      <td>0</td>\n",
       "      <td>...</td>\n",
       "      <td>0</td>\n",
       "      <td>1</td>\n",
       "      <td>0</td>\n",
       "      <td>0</td>\n",
       "      <td>0</td>\n",
       "      <td>0</td>\n",
       "      <td>0</td>\n",
       "      <td>0</td>\n",
       "      <td>1</td>\n",
       "      <td>0</td>\n",
       "    </tr>\n",
       "  </tbody>\n",
       "</table>\n",
       "<p>5 rows × 231 columns</p>\n",
       "</div>"
      ],
      "text/plain": [
       "         ACTIVITY_Agriculture  ACTIVITY_Air Conditioning  \\\n",
       "innerID                                                    \n",
       "2655                        0                          0   \n",
       "2240                        0                          0   \n",
       "1499                        0                          0   \n",
       "2201                        0                          0   \n",
       "546                         0                          0   \n",
       "\n",
       "         ACTIVITY_Animal Sales  ACTIVITY_Aquaculture  ACTIVITY_Arts  \\\n",
       "innerID                                                               \n",
       "2655                         0                     0              0   \n",
       "2240                         0                     0              0   \n",
       "1499                         0                     0              0   \n",
       "2201                         0                     0              0   \n",
       "546                          0                     0              0   \n",
       "\n",
       "         ACTIVITY_Auto Repair  ACTIVITY_Bakery  ACTIVITY_Barber Shop  \\\n",
       "innerID                                                                \n",
       "2655                        0                0                     0   \n",
       "2240                        0                0                     0   \n",
       "1499                        0                0                     0   \n",
       "2201                        0                0                     0   \n",
       "546                         0                0                     0   \n",
       "\n",
       "         ACTIVITY_Beauty Salon  ACTIVITY_Beekeeping  ...  loan_buck_4  \\\n",
       "innerID                                              ...                \n",
       "2655                         0                    0  ...            0   \n",
       "2240                         0                    0  ...            0   \n",
       "1499                         0                    0  ...            0   \n",
       "2201                         0                    0  ...            0   \n",
       "546                          0                    0  ...            0   \n",
       "\n",
       "         loan_buck_5  loan_buck_6  loan_buck_7  loan_buck_8  loan_buck_9  \\\n",
       "innerID                                                                    \n",
       "2655               0            0            0            0            0   \n",
       "2240               0            0            0            0            0   \n",
       "1499               1            0            0            0            0   \n",
       "2201               0            1            0            0            0   \n",
       "546                1            0            0            0            0   \n",
       "\n",
       "         pfr_buck_0  pfr_buck_1  pfr_buck_2  pfr_buck_3  \n",
       "innerID                                                  \n",
       "2655              0           0           1           0  \n",
       "2240              0           0           1           0  \n",
       "1499              0           0           1           0  \n",
       "2201              0           1           0           0  \n",
       "546               0           0           1           0  \n",
       "\n",
       "[5 rows x 231 columns]"
      ]
     },
     "execution_count": 17,
     "metadata": {},
     "output_type": "execute_result"
    }
   ],
   "source": [
    "item_features_df['innerID'] = inner_ids\n",
    "item_features_df.set_index('innerID', inplace=True)\n",
    "item_features_df.head()"
   ]
  },
  {
   "cell_type": "code",
   "execution_count": 18,
   "metadata": {},
   "outputs": [],
   "source": [
    "item_features_df.to_csv('./UMAP2020_CameraReady/loan_feature_matrix_hc_10core_innerID_Kiva.csv')"
   ]
  },
  {
   "cell_type": "code",
   "execution_count": 19,
   "metadata": {},
   "outputs": [
    {
     "data": {
      "text/plain": [
       "(2673, 231)"
      ]
     },
     "execution_count": 19,
     "metadata": {},
     "output_type": "execute_result"
    }
   ],
   "source": [
    "item_features_df.shape"
   ]
  },
  {
   "cell_type": "code",
   "execution_count": 20,
   "metadata": {},
   "outputs": [],
   "source": [
    "cols = list(item_features_df.columns)\n",
    "# ACTIVITY_, COUNTRY_, GENDER_, loan_buck_, pfr_buck_ in their name"
   ]
  },
  {
   "cell_type": "markdown",
   "metadata": {},
   "source": [
    "### item-item similarity based on features"
   ]
  },
  {
   "cell_type": "code",
   "execution_count": 21,
   "metadata": {},
   "outputs": [],
   "source": [
    "# Turning inner_ID to innerid for this item item similarity matrix\n",
    "InnerID_to_iiMatrixID = {}\n",
    "iiMatrixID_to_InnerID = {}\n",
    "\n",
    "for i in range(item_features_df.shape[0]):\n",
    "    iiMatrixID_to_InnerID[i] = item_features_df.index[i]\n",
    "    InnerID_to_iiMatrixID[item_features_df.index[i]] = i\n",
    "\n",
    "# print(InnerID_to_iiMatrixID[1606])"
   ]
  },
  {
   "cell_type": "code",
   "execution_count": 22,
   "metadata": {},
   "outputs": [
    {
     "name": "stdout",
     "output_type": "stream",
     "text": [
      "(2673, 2673)\n"
     ]
    }
   ],
   "source": [
    "from sklearn.metrics.pairwise import cosine_similarity\n",
    "itemItemSimilarityByFeature = cosine_similarity(item_features_df.values)\n",
    "print (itemItemSimilarityByFeature.shape)"
   ]
  },
  {
   "cell_type": "code",
   "execution_count": 23,
   "metadata": {},
   "outputs": [],
   "source": [
    "def recNMF_2(user_iid, _est, mat, topk):\n",
    "    \n",
    "    rated_before = np.nonzero(mat[user_iid, :])[1]\n",
    "    estimations = _est[user_iid]\n",
    "    estimations[rated_before] = 0 \n",
    "    # you don't want to recommend the items to the user that have rated before!\n",
    "    \n",
    "    top_items = np.argsort(-estimations)[:topk]\n",
    "    top_ratings = -np.sort(-estimations)[:topk]\n",
    "    \n",
    "    return (user_iid, top_items, top_ratings)"
   ]
  },
  {
   "cell_type": "markdown",
   "metadata": {},
   "source": [
    "# RECSYS - Base recommender algorithm"
   ]
  },
  {
   "cell_type": "code",
   "execution_count": 24,
   "metadata": {},
   "outputs": [
    {
     "name": "stdout",
     "output_type": "stream",
     "text": [
      "Process Time: 0.41 secs\n",
      "\n",
      "    userid  itemid    rating\n",
      "0       0  1747.0  0.606330\n",
      "1       0   421.0  0.477415\n",
      "2       0  1136.0  0.368145\n",
      "3       0  2530.0  0.338891\n",
      "4       0  1693.0  0.300224\n"
     ]
    }
   ],
   "source": [
    "start = timeit.default_timer()\n",
    "from sklearn.decomposition import NMF\n",
    "feature_n = 40\n",
    "\n",
    "mf = NMF(n_components=feature_n, init='random', random_state=2, tol=0.01,\n",
    "         solver='cd', max_iter=1000, alpha=1, beta_loss='frobenius',\n",
    "         l1_ratio=0)\n",
    "\n",
    "\n",
    "user_f = mf.fit_transform(train_mat)\n",
    "H = mf.components_\n",
    "item_f = mf.components_.T\n",
    "\n",
    "stop = timeit.default_timer()\n",
    "print('Process Time: %.2f secs' % (stop - start))\n",
    "start = timeit.default_timer()\n",
    "est = np.dot(user_f, item_f.T)\n",
    "res = []\n",
    "\n",
    "# Choose it to be 200 instead of 10, and then the re-ranker will choose the final top 10\n",
    "for u in range(dataset.user_n):\n",
    "    res.append(recNMF_2(u, est, train_mat, 200))\n",
    "\n",
    "# Saving the base recommendations into a file.\n",
    "u_rec_list = []\n",
    "for i in range(len(res)):\n",
    "    base_rec = pd.DataFrame(res[i][1:]).T\n",
    "    base_rec[2] = res[i][0]\n",
    "    u_rec_list.append(base_rec[[2,0,1]])\n",
    "\n",
    "u_rec_df = pd.concat(u_rec_list, ignore_index=True)\n",
    "u_rec_df.columns = ['userid', 'itemid', 'rating']\n",
    "print('\\n', u_rec_df.head())\n",
    "u_rec_df.to_csv('./UMAP2020_CameraReady/nmf_base_rec_Kiva.csv', index=False, header=None)"
   ]
  },
  {
   "cell_type": "markdown",
   "metadata": {},
   "source": [
    "## Evaluation"
   ]
  },
  {
   "cell_type": "code",
   "execution_count": 25,
   "metadata": {},
   "outputs": [],
   "source": [
    "def evaluation(groundTruth, recs):\n",
    "    import timeit\n",
    "    start = timeit.default_timer()\n",
    "\n",
    "    p = []\n",
    "    r = []\n",
    "    n = []\n",
    "    ild = []\n",
    "    ent = []\n",
    "    calib = []\n",
    "\n",
    "\n",
    "    for u in np.unique(groundTruth['userid'].tolist()):\n",
    "        if len(groundTruth[groundTruth['userid'] == u]) > 0:\n",
    "\n",
    "    #         test_items = [t[0] for t in user_tests[u] if t[1] >= 4]\n",
    "            test_items = list(map(int,groundTruth.loc[groundTruth['userid'] == u,'itemid'].tolist()))\n",
    "\n",
    "            if len(test_items) > 0:\n",
    "                # top items\n",
    "                top_items = list(map(int,recs.loc[recs['userid'] == u, 'itemid'].tolist()))[:10]\n",
    "\n",
    "                recall = Recall(test_items, top_items)\n",
    "                precision = Precision(test_items, top_items)\n",
    "                ndcg = nDCG_Time(test_items, top_items)\n",
    "\n",
    "                # only top_items or recommendation list is needed for diversity\n",
    "                diversity_ild = ILD(top_items)\n",
    "                diversity_entropy = ENTROPY_(top_items)\n",
    "\n",
    "                calibration_s = Calibration(test_items, top_items)\n",
    "\n",
    "\n",
    "                r.append(recall)\n",
    "                p.append(precision)\n",
    "                n.append(ndcg)\n",
    "                ild.append(diversity_ild)\n",
    "                ent.append(diversity_entropy)\n",
    "                calib.append(calibration_s)\n",
    "\n",
    "\n",
    "    stop = timeit.default_timer()\n",
    "    print('Process Time: %.2f secs' % (stop - start))\n",
    "    \n",
    "    print (\" avg-precision %.3f\\n avg-recall %.3f\\n avg-nDCG %.3f\\n avg-ILD %.3f\\n avg-ENTROPY %.3f\\n\" %\n",
    "       (np.average(p),np.average(r),np.average(n),np.average(ild),np.average(ent)))\n",
    "\n",
    "#     print (\" avg-precision %.3f\\n avg-recall %.3f\\n avg-nDCG %.3f\" % (np.average(p),np.average(r),np.average(n)))\n"
   ]
  },
  {
   "cell_type": "code",
   "execution_count": 26,
   "metadata": {},
   "outputs": [
    {
     "name": "stdout",
     "output_type": "stream",
     "text": [
      "Process Time: 30.74 secs\n",
      " avg-precision 0.061\n",
      " avg-recall 0.121\n",
      " avg-nDCG 0.076\n",
      " avg-ILD 1.614\n",
      " avg-ENTROPY 3.004\n",
      "\n"
     ]
    }
   ],
   "source": [
    "# 40 factors\n",
    "evaluation(u_t_df, u_rec_df)"
   ]
  },
  {
   "cell_type": "markdown",
   "metadata": {},
   "source": [
    "Process Time: 33.88 secs\n",
    " avg-precision 0.063\n",
    " avg-recall 0.127\n",
    " avg-nDCG 0.083\n",
    " avg-ILD 1.602\n",
    " avg-ENTROPY 2.989"
   ]
  },
  {
   "cell_type": "code",
   "execution_count": 27,
   "metadata": {},
   "outputs": [],
   "source": [
    "# rec list has inner ids?\n",
    "# groundtruth has inner ids or outer ids?\n",
    "# YES!"
   ]
  },
  {
   "cell_type": "markdown",
   "metadata": {},
   "source": [
    "# RECSYS + MMR RE-RANKER\n",
    "## lambda * recommendation score - (1 - lambda) * cosine similarity"
   ]
  },
  {
   "cell_type": "code",
   "execution_count": 28,
   "metadata": {},
   "outputs": [],
   "source": [
    "import numpy as np\n",
    "from scipy.spatial import distance\n",
    "from sklearn.preprocessing import MinMaxScaler"
   ]
  },
  {
   "cell_type": "code",
   "execution_count": 29,
   "metadata": {},
   "outputs": [],
   "source": [
    "import warnings\n",
    "warnings.filterwarnings(\"error\")\n",
    "\n",
    "def mmr(u, items, lam, top_k, w=None):\n",
    "    \n",
    "    scaler = MinMaxScaler()\n",
    "    scaled_ratings = scaler.fit_transform(res[u][2].reshape(-1,1))[:,0]\n",
    "    \n",
    "    c = 0\n",
    "    s = []\n",
    "    for k in range(top_k): # top_k means choose top k items for the final re-ranking.\n",
    "        all_sc = []\n",
    "        for i in res[u][1]: #[100, 101, 102]\n",
    "            p2 = 0\n",
    "            for j in s:\n",
    "                try:\n",
    "                    p = (1 - distance.cosine(item_features_df.loc[str(item_iid_to_imdb(i))].values,\n",
    "                                             item_features_df.loc[str(item_iid_to_imdb(j))].values,\n",
    "                                             w)) # weight\n",
    "                    p2 += p\n",
    "                except KeyError as e:\n",
    "                    pass\n",
    "                \n",
    "                except RuntimeWarning:\n",
    "                    print (p)\n",
    "\n",
    "            r = scaled_ratings[res[u][1].tolist().index(i)]  \n",
    "            # get the index of an itemid and get the rating related to it\n",
    "            sc = lam * r - (1-lam) * p2\n",
    "            # find the index of a user id and then go to that index to retrieve the score\n",
    "            all_sc.append(sc) # 0.1 0.5 0.2\n",
    "            \n",
    "        sc_asorted = np.argsort(all_sc)[::-1] #[1, 2, 0]\n",
    "        sc_idx = 0\n",
    "        top_item = res[u][1][sc_asorted[0]]\n",
    "        \n",
    "        # if top item already exists in the list, pick the second best item or the third best item\n",
    "        while top_item in s:\n",
    "            top_item = res[u][1][sc_asorted[sc_idx]]\n",
    "            sc_idx += 1\n",
    "        s.append(top_item)\n",
    "\n",
    "        \n",
    "    top_ratings = [res[u][2][list(res[u][1]).index(i)] for i in s]\n",
    "    return (u, s, top_ratings)"
   ]
  },
  {
   "cell_type": "code",
   "execution_count": 30,
   "metadata": {},
   "outputs": [],
   "source": [
    "import warnings\n",
    "warnings.filterwarnings(\"error\")\n",
    "\n",
    "def mmr_opt(u, items, lam, top_k, w=None):\n",
    "    \n",
    "    new_rec_i = []\n",
    "    new_rec_sc = []\n",
    "    for i in range(len(res[u][1])):\n",
    "        if res[u][1][i] in item_features_df.index:\n",
    "            new_rec_i.append(res[u][1][i])\n",
    "            new_rec_sc.append(res[u][2][i])\n",
    "    new_rec_i = np.array(new_rec_i)\n",
    "    new_rec_sc = np.array(new_rec_sc)\n",
    "\n",
    "    scaler = MinMaxScaler()\n",
    "    scaled_ratings = scaler.fit_transform(new_rec_sc.reshape(-1,1))[:,0]\n",
    "    \n",
    "    \n",
    "    if w is not None:\n",
    "        dists = sklearn.metrics.pairwise_distances(np.sqrt(w) * item_features_df.loc[new_rec_i], metric='cosine', n_jobs=1)\n",
    "    else:\n",
    "        dists = sklearn.metrics.pairwise_distances(item_features_df.loc[new_rec_i], metric='cosine', n_jobs=1)\n",
    "        \n",
    "\n",
    "    c = 0\n",
    "    s = []\n",
    "    for k in range(top_k): # top_k means choose top k items for the final re-ranking.\n",
    "        all_sc = []\n",
    "        for rec_idx in range(len(new_rec_i)):\n",
    "            p2 = 0\n",
    "            for j in s:\n",
    "                try:\n",
    "                    p = 1 - dists[rec_idx, new_rec_i.tolist().index(j)]\n",
    "#                     print('%d   %.2f' % (new_rec_i[rec_idx], p))\n",
    "                    p2 += p\n",
    "                except KeyError as e:\n",
    "                    pass\n",
    "\n",
    "            r = scaled_ratings[rec_idx]\n",
    "            # get the index of an itemid and get the rating related to it\n",
    "            sc = lam * r - (1-lam) * p2\n",
    "            # find the index of a user id and then go to that index to retrieve the score\n",
    "            all_sc.append(sc) # 0.1 0.5 0.2\n",
    "            \n",
    "            \n",
    "        sc_asorted = np.argsort(all_sc)[::-1] #[1, 2, 0]\n",
    "        sc_idx = 0\n",
    "        top_item = new_rec_i[sc_asorted[0]]\n",
    "        \n",
    "        # if top item already exists in the list, pick the second best item or the third best item\n",
    "        while top_item in s:\n",
    "            top_item = new_rec_i[sc_asorted[sc_idx]]\n",
    "            sc_idx += 1\n",
    "        s.append(top_item)\n",
    "\n",
    "        \n",
    "    top_ratings = [new_rec_sc[list(new_rec_i).index(i)] for i in s]\n",
    "    \n",
    "    return (u, s, top_ratings)"
   ]
  },
  {
   "cell_type": "code",
   "execution_count": 31,
   "metadata": {},
   "outputs": [],
   "source": [
    "# testing"
   ]
  },
  {
   "cell_type": "code",
   "execution_count": 32,
   "metadata": {},
   "outputs": [],
   "source": [
    "# mmr_opt(1, item_features_df, 0.5, 10, user_genre_matrix_df.loc[1])"
   ]
  },
  {
   "cell_type": "code",
   "execution_count": 33,
   "metadata": {},
   "outputs": [],
   "source": [
    "#  mmr_opt(1, item_features_df, 0.5, 10)"
   ]
  },
  {
   "cell_type": "markdown",
   "metadata": {},
   "source": [
    "### running mmr with different lambdas"
   ]
  },
  {
   "cell_type": "code",
   "execution_count": 34,
   "metadata": {},
   "outputs": [],
   "source": [
    "def save_recommendations(recommendations, filename):\n",
    "    u_rec_list = []\n",
    "    for i in range(len(recommendations)):\n",
    "        base_rec = pd.DataFrame(recommendations[i][1][1:]).T\n",
    "        base_rec[2] = recommendations[i][1][0]\n",
    "        u_rec_list.append(base_rec[[2,0,1]])\n",
    "\n",
    "    u_rec_df = pd.concat(u_rec_list, ignore_index=True)\n",
    "    u_rec_df.to_csv('./UMAP2020_CameraReady/kiva_results/' + filename, index=False, header=None)\n",
    "    return"
   ]
  },
  {
   "cell_type": "markdown",
   "metadata": {},
   "source": [
    "# 1. Content-based MMR"
   ]
  },
  {
   "cell_type": "code",
   "execution_count": 35,
   "metadata": {},
   "outputs": [
    {
     "name": "stdout",
     "output_type": "stream",
     "text": [
      "0.2\n",
      "0.4\n",
      "0.6\n",
      "0.65\n",
      "0.7\n",
      "0.75\n",
      "0.8\n",
      "0.85\n",
      "0.87\n",
      "0.9\n",
      "0.93\n",
      "0.95\n",
      "0.97\n",
      "0.99\n",
      "1.0\n",
      "Process Time: 1433.34 secs\n"
     ]
    }
   ],
   "source": [
    "start = timeit.default_timer()\n",
    "for lam in [0.2, 0.4, 0.6, 0.65, 0.7, 0.75, 0.8, 0.85, 0.87, 0.9, 0.93, 0.95, 0.97, 0.99, 1.0]:\n",
    "    \n",
    "    print(lam)\n",
    "    top_k = 10\n",
    "    rr_recs = []\n",
    "    \n",
    "    def compute_mmr(u):\n",
    "        return (u, mmr_opt(u, item_features_df, lam, top_k))\n",
    "\n",
    "    pool = Pool(processes=10)\n",
    "    rr_recs = pool.map(compute_mmr, list(range(dataset.user_n)))\n",
    "    pool.close()\n",
    "    pool.join()  \n",
    "    \n",
    "    save_recommendations(rr_recs, 'rec_MMR_lam%s.csv'%lam)\n",
    "\n",
    "stop = timeit.default_timer()\n",
    "print('Process Time: %.2f secs' % (stop - start))"
   ]
  },
  {
   "cell_type": "markdown",
   "metadata": {},
   "source": [
    "## Calculating user tolerance weight as a dictionary e.g. {userid: {f1: entropy, f2: entropy, f3:entropy}}"
   ]
  },
  {
   "cell_type": "code",
   "execution_count": 36,
   "metadata": {},
   "outputs": [
    {
     "name": "stdout",
     "output_type": "stream",
     "text": [
      "4005\n"
     ]
    }
   ],
   "source": [
    "userid_tolerance_dict = {} # key:userid, & value: a dictionary of genre : tolerance\n",
    "\n",
    "# for k in ['ACTIVITY', 'COUNTRY', 'GENDER', 'LOAN_BUCKET', 'PFR_BUCKET']:\n",
    "#     empty_dict[k] = 0.0\n",
    "    \n",
    "# ACTIVITY_, COUNTRY_, GENDER_, loan_buck_, pfr_buck_ in their name\n",
    "\n",
    "for userid in range(dataset.user_n):\n",
    "    \n",
    "    # creating an empty dictionary\n",
    "    empty_dict = {}\n",
    "    for k in ['ACTIVITY', 'COUNTRY', 'GENDER', 'LOAN_BUCKET', 'PFR_BUCKET']:\n",
    "        empty_dict[k] = []\n",
    "\n",
    "    # inner ids\n",
    "    items_rated_before = np.nonzero(train_mat[userid, :])[1]\n",
    "    i_f = item_features_df[item_features_df.index.isin(items_rated_before)].sum()\n",
    "    \n",
    "    for i in range(i_f.index.shape[0]):\n",
    "        \n",
    "        if 'ACTIVITY' in i_f.index[i]:\n",
    "            empty_dict['ACTIVITY'].extend([i_f.index[i]] * int(i_f[i]))\n",
    "        elif 'COUNTRY' in i_f.index[i]:\n",
    "            empty_dict['COUNTRY'].extend([i_f.index[i]] * int(i_f[i]))\n",
    "        elif 'GENDER' in i_f.index[i]:\n",
    "            empty_dict['GENDER'].extend([i_f.index[i]] * int(i_f[i]))\n",
    "        elif 'loan_buck' in i_f.index[i]:\n",
    "            empty_dict['LOAN_BUCKET'].extend([i_f.index[i]] * int(i_f[i]))\n",
    "        elif 'pfr_buck' in i_f.index[i]:\n",
    "            empty_dict['PFR_BUCKET'].extend([i_f.index[i]] * int(i_f[i]))\n",
    "            \n",
    "        else:\n",
    "            print('no feature found')\n",
    "            \n",
    "    # calculate entropy for each user over all the features\n",
    "    # this is problematic for users who have a short profile.\n",
    "    tolerance_dict = {} # feature: entropy\n",
    "    for k, v in empty_dict.items():\n",
    "        tolerance_dict[k] = entropy_(v)\n",
    "\n",
    "    # {userid: {feature: entropy}}\n",
    "    userid_tolerance_dict[userid] = tolerance_dict\n",
    "\n",
    "print(len(userid_tolerance_dict))"
   ]
  },
  {
   "cell_type": "code",
   "execution_count": 37,
   "metadata": {},
   "outputs": [
    {
     "data": {
      "text/plain": [
       "{'ACTIVITY': 2.1972245773362196,\n",
       " 'COUNTRY': 2.1972245773362196,\n",
       " 'GENDER': 0.6869615765973234,\n",
       " 'LOAN_BUCKET': 1.7351264569629223,\n",
       " 'PFR_BUCKET': 1.2730283365896256}"
      ]
     },
     "execution_count": 37,
     "metadata": {},
     "output_type": "execute_result"
    }
   ],
   "source": [
    "userid_tolerance_dict[0]"
   ]
  },
  {
   "cell_type": "code",
   "execution_count": 38,
   "metadata": {},
   "outputs": [],
   "source": [
    "# np.array(list(userid_tolerance_dict[0].values())).reshape(-1,1)"
   ]
  },
  {
   "cell_type": "code",
   "execution_count": 39,
   "metadata": {},
   "outputs": [],
   "source": [
    "import warnings\n",
    "warnings.filterwarnings(\"ignore\", message=\"numpy.dtype size changed\")\n",
    "warnings.filterwarnings(\"ignore\", message=\"numpy.ufunc size changed\")"
   ]
  },
  {
   "cell_type": "markdown",
   "metadata": {},
   "source": [
    "### Turning the userid_tolerance_dict into a matrix where each row is user id and columns are features and the values are entropies. Once we normalize the entropy based on users(rows) and once based on features(columns). We normalize the values so it is between 0 and 2."
   ]
  },
  {
   "cell_type": "code",
   "execution_count": 40,
   "metadata": {},
   "outputs": [
    {
     "name": "stdout",
     "output_type": "stream",
     "text": [
      "['ACTIVITY', 'COUNTRY', 'GENDER', 'LOAN_BUCKET', 'PFR_BUCKET'] \n",
      "\n",
      "[[2.19722458 2.19722458 0.68696158 1.73512646 1.27302834]\n",
      " [2.60238078 2.37411127 0.67652596 2.07448973 1.30106094]\n",
      " [2.21025358 1.23426787 0.67919327 1.5171064  1.30860539]\n",
      " [3.71000762 2.89875188 0.56233514 2.194738   1.37396869]\n",
      " [2.25385759 2.21025358 0.         2.02280853 1.35797785]]\n"
     ]
    }
   ],
   "source": [
    "# userid_tolerance_dict\n",
    "from sklearn.feature_extraction import DictVectorizer\n",
    "\n",
    "# Create DictVectorizer object\n",
    "dictvectorizer = DictVectorizer(sparse=False)\n",
    "\n",
    "# Convert dictionary into feature matrix\n",
    "features = dictvectorizer.fit_transform(userid_tolerance_dict.values())\n",
    "\n",
    "# get column names\n",
    "print (dictvectorizer.get_feature_names(),'\\n')\n",
    "print (features[:5])"
   ]
  },
  {
   "cell_type": "markdown",
   "metadata": {},
   "source": [
    "# Transform the whole tolerance (feature) matrix between 0 and 1"
   ]
  },
  {
   "cell_type": "code",
   "execution_count": 41,
   "metadata": {},
   "outputs": [
    {
     "name": "stdout",
     "output_type": "stream",
     "text": [
      "[[0.54121002 0.54121002 0.16920914 0.42738819 0.31356635]\n",
      " [0.64100619 0.58477992 0.16663869 0.51097855 0.32047121]\n",
      " [0.54441926 0.30401906 0.16729569 0.37368651 0.32232952]\n",
      " [0.91383163 0.71400693 0.13851175 0.54059754 0.3384295 ]\n",
      " [0.5551596  0.54441926 0.         0.49824868 0.33449072]\n",
      " [0.4653288  0.45100835 0.         0.37512713 0.26130529]\n",
      " [0.83823704 0.42570742 0.09499939 0.50172155 0.33965126]\n",
      " [0.55321235 0.24868331 0.17018498 0.28003995 0.2433975 ]\n",
      " [0.49886883 0.08007291 0.15046522 0.12325677 0.29398952]\n",
      " [0.37368651 0.         0.11098012 0.31158919 0.3046144 ]\n",
      " [0.61064578 0.25764042 0.12676695 0.40176672 0.33301098]\n",
      " [0.46646901 0.52855365 0.16145519 0.45475228 0.25523161]\n",
      " [0.57925311 0.60551968 0.15203609 0.49053922 0.20456924]]\n"
     ]
    }
   ],
   "source": [
    "# (X - MIN / MAX - MIN) * (NEW_MAX - NEW_MIN) + NEW_MIN\n",
    "feature_max = np.max(features)\n",
    "feature_min = np.min(features)\n",
    "new_min = 0\n",
    "new_max = 1\n",
    "\n",
    "# print(feature_max, feature_min)\n",
    "sc = (features - feature_min) / (feature_max - feature_min)\n",
    "userid_tolerance_normed = sc * (new_max - new_min) + new_min\n",
    "\n",
    "print(userid_tolerance_normed[:13])"
   ]
  },
  {
   "cell_type": "code",
   "execution_count": 42,
   "metadata": {},
   "outputs": [
    {
     "name": "stdout",
     "output_type": "stream",
     "text": [
      "['ACTIVITY', 'COUNTRY', 'GENDER', 'LOAN_BUCKET', 'PFR_BUCKET']\n",
      "2\n"
     ]
    }
   ],
   "source": [
    "feature_names = dictvectorizer.get_feature_names()\n",
    "print (feature_names)\n",
    "print(feature_names.index('GENDER'))"
   ]
  },
  {
   "cell_type": "code",
   "execution_count": 43,
   "metadata": {},
   "outputs": [],
   "source": [
    "# instead of zero we initialize the vector with epsilon, \n",
    "# why? to avoid division by zero and to allow a little bit of room for diversity in other categories\n",
    "import sys\n",
    "my_epsilon = sys.float_info.epsilon # 2.220446049250313e-16\n",
    "userid_tolerance_normed += my_epsilon"
   ]
  },
  {
   "cell_type": "code",
   "execution_count": 44,
   "metadata": {},
   "outputs": [
    {
     "data": {
      "text/html": [
       "<div>\n",
       "<style scoped>\n",
       "    .dataframe tbody tr th:only-of-type {\n",
       "        vertical-align: middle;\n",
       "    }\n",
       "\n",
       "    .dataframe tbody tr th {\n",
       "        vertical-align: top;\n",
       "    }\n",
       "\n",
       "    .dataframe thead th {\n",
       "        text-align: right;\n",
       "    }\n",
       "</style>\n",
       "<table border=\"1\" class=\"dataframe\">\n",
       "  <thead>\n",
       "    <tr style=\"text-align: right;\">\n",
       "      <th></th>\n",
       "      <th>ACTIVITY</th>\n",
       "      <th>COUNTRY</th>\n",
       "      <th>GENDER</th>\n",
       "      <th>LOAN_BUCKET</th>\n",
       "      <th>PFR_BUCKET</th>\n",
       "    </tr>\n",
       "  </thead>\n",
       "  <tbody>\n",
       "    <tr>\n",
       "      <th>0</th>\n",
       "      <td>0.541210</td>\n",
       "      <td>0.541210</td>\n",
       "      <td>1.692091e-01</td>\n",
       "      <td>0.427388</td>\n",
       "      <td>0.313566</td>\n",
       "    </tr>\n",
       "    <tr>\n",
       "      <th>1</th>\n",
       "      <td>0.641006</td>\n",
       "      <td>0.584780</td>\n",
       "      <td>1.666387e-01</td>\n",
       "      <td>0.510979</td>\n",
       "      <td>0.320471</td>\n",
       "    </tr>\n",
       "    <tr>\n",
       "      <th>2</th>\n",
       "      <td>0.544419</td>\n",
       "      <td>0.304019</td>\n",
       "      <td>1.672957e-01</td>\n",
       "      <td>0.373687</td>\n",
       "      <td>0.322330</td>\n",
       "    </tr>\n",
       "    <tr>\n",
       "      <th>3</th>\n",
       "      <td>0.913832</td>\n",
       "      <td>0.714007</td>\n",
       "      <td>1.385117e-01</td>\n",
       "      <td>0.540598</td>\n",
       "      <td>0.338430</td>\n",
       "    </tr>\n",
       "    <tr>\n",
       "      <th>4</th>\n",
       "      <td>0.555160</td>\n",
       "      <td>0.544419</td>\n",
       "      <td>2.220446e-16</td>\n",
       "      <td>0.498249</td>\n",
       "      <td>0.334491</td>\n",
       "    </tr>\n",
       "  </tbody>\n",
       "</table>\n",
       "</div>"
      ],
      "text/plain": [
       "   ACTIVITY   COUNTRY        GENDER  LOAN_BUCKET  PFR_BUCKET\n",
       "0  0.541210  0.541210  1.692091e-01     0.427388    0.313566\n",
       "1  0.641006  0.584780  1.666387e-01     0.510979    0.320471\n",
       "2  0.544419  0.304019  1.672957e-01     0.373687    0.322330\n",
       "3  0.913832  0.714007  1.385117e-01     0.540598    0.338430\n",
       "4  0.555160  0.544419  2.220446e-16     0.498249    0.334491"
      ]
     },
     "execution_count": 44,
     "metadata": {},
     "output_type": "execute_result"
    }
   ],
   "source": [
    "userid_tolerance_normed_df = pd.DataFrame(userid_tolerance_normed, columns=dictvectorizer.get_feature_names())\n",
    "userid_tolerance_normed_df.head()"
   ]
  },
  {
   "cell_type": "markdown",
   "metadata": {},
   "source": [
    "# RECSYS + MMR + TOLERANCE WEIGHTS./UMAP2020_CameraReady/"
   ]
  },
  {
   "cell_type": "code",
   "execution_count": 45,
   "metadata": {},
   "outputs": [],
   "source": [
    "# ['userid'] + item_features_df.columns.values.tolist()"
   ]
  },
  {
   "cell_type": "code",
   "execution_count": 46,
   "metadata": {},
   "outputs": [
    {
     "data": {
      "text/plain": [
       "231"
      ]
     },
     "execution_count": 46,
     "metadata": {},
     "output_type": "execute_result"
    }
   ],
   "source": [
    "item_features_df.columns.values.shape[0]"
   ]
  },
  {
   "cell_type": "code",
   "execution_count": 47,
   "metadata": {},
   "outputs": [],
   "source": [
    "# all_genres_dict = genre_overall_count(movie_feature_dict, True)\n",
    "# all_genres_dict"
   ]
  },
  {
   "cell_type": "code",
   "execution_count": 48,
   "metadata": {},
   "outputs": [
    {
     "data": {
      "text/plain": [
       "0.3135663518450915"
      ]
     },
     "execution_count": 48,
     "metadata": {},
     "output_type": "execute_result"
    }
   ],
   "source": [
    "userid_tolerance_normed_df.loc[0, 'PFR_BUCKET']"
   ]
  },
  {
   "cell_type": "code",
   "execution_count": 49,
   "metadata": {},
   "outputs": [
    {
     "data": {
      "text/plain": [
       "(4005, 5)"
      ]
     },
     "execution_count": 49,
     "metadata": {},
     "output_type": "execute_result"
    }
   ],
   "source": [
    "userid_tolerance_normed_df.shape"
   ]
  },
  {
   "cell_type": "code",
   "execution_count": 50,
   "metadata": {},
   "outputs": [
    {
     "name": "stdout",
     "output_type": "stream",
     "text": [
      "4005\n"
     ]
    }
   ],
   "source": [
    "user_genre_matrix = []\n",
    "\n",
    "for userid in range(dataset.user_n):\n",
    "    \n",
    "    user_tolerance_vector = []\n",
    "    user_tolerance_vector.append(userid)\n",
    "    \n",
    "    for cat in item_features_df.columns.values.tolist():\n",
    "    \n",
    "        if 'ACTIVITY' in cat:\n",
    "            c = 'ACTIVITY'\n",
    "        elif 'COUNTRY' in cat:\n",
    "            c = 'COUNTRY'\n",
    "        elif 'GENDER' in cat:\n",
    "            c = 'GENDER'\n",
    "        elif 'loan_buck' in cat:\n",
    "            c = 'LOAN_BUCKET'\n",
    "        elif 'pfr_buck' in cat:\n",
    "            c = 'PFR_BUCKET'\n",
    "\n",
    "        u_cat_tol = userid_tolerance_normed_df.loc[userid, c]\n",
    "        user_tolerance_vector.append(u_cat_tol)\n",
    "    \n",
    "    user_genre_matrix.append(user_tolerance_vector)\n",
    "\n",
    "\n",
    "print (len(user_genre_matrix))\n",
    "user_genre_matrix_df = pd.DataFrame(user_genre_matrix)\n",
    "user_genre_matrix_df.columns = ['userid'] + item_features_df.columns.values.tolist()\n",
    "user_genre_matrix_df.head()\n",
    "\n",
    "user_genre_matrix_df.to_csv('./UMAP2020_CameraReady/Kiva_usr_cat_tol_mat_normalized.csv', index=None)"
   ]
  },
  {
   "cell_type": "code",
   "execution_count": 51,
   "metadata": {},
   "outputs": [],
   "source": [
    "\n",
    "feat_dict = {}\n",
    "\n",
    "for k in dictvectorizer.get_feature_names():\n",
    "    feat_dict[k]=[]\n",
    "\n",
    "for cat in item_features_df.columns.values.tolist():\n",
    "\n",
    "    if 'ACTIVITY' in cat:\n",
    "        c = 'ACTIVITY'\n",
    "    elif 'COUNTRY' in cat:\n",
    "        c = 'COUNTRY'\n",
    "    elif 'GENDER' in cat:\n",
    "        c = 'GENDER'\n",
    "    elif 'loan_buck' in cat:\n",
    "        c = 'LOAN_BUCKET'\n",
    "    elif 'pfr_buck' in cat:\n",
    "        c = 'PFR_BUCKET'\n",
    "    \n",
    "#     feat_dict[c] =[]\n",
    "    feat_dict[c].append(cat)"
   ]
  },
  {
   "cell_type": "code",
   "execution_count": 52,
   "metadata": {},
   "outputs": [],
   "source": [
    "# feat_dict"
   ]
  },
  {
   "cell_type": "code",
   "execution_count": 53,
   "metadata": {},
   "outputs": [
    {
     "data": {
      "text/html": [
       "<div>\n",
       "<style scoped>\n",
       "    .dataframe tbody tr th:only-of-type {\n",
       "        vertical-align: middle;\n",
       "    }\n",
       "\n",
       "    .dataframe tbody tr th {\n",
       "        vertical-align: top;\n",
       "    }\n",
       "\n",
       "    .dataframe thead th {\n",
       "        text-align: right;\n",
       "    }\n",
       "</style>\n",
       "<table border=\"1\" class=\"dataframe\">\n",
       "  <thead>\n",
       "    <tr style=\"text-align: right;\">\n",
       "      <th></th>\n",
       "      <th>GENDER_F</th>\n",
       "      <th>GENDER_M</th>\n",
       "    </tr>\n",
       "  </thead>\n",
       "  <tbody>\n",
       "    <tr>\n",
       "      <th>0</th>\n",
       "      <td>1.692091e-01</td>\n",
       "      <td>1.692091e-01</td>\n",
       "    </tr>\n",
       "    <tr>\n",
       "      <th>1</th>\n",
       "      <td>1.666387e-01</td>\n",
       "      <td>1.666387e-01</td>\n",
       "    </tr>\n",
       "    <tr>\n",
       "      <th>2</th>\n",
       "      <td>1.672957e-01</td>\n",
       "      <td>1.672957e-01</td>\n",
       "    </tr>\n",
       "    <tr>\n",
       "      <th>3</th>\n",
       "      <td>1.385117e-01</td>\n",
       "      <td>1.385117e-01</td>\n",
       "    </tr>\n",
       "    <tr>\n",
       "      <th>4</th>\n",
       "      <td>2.220446e-16</td>\n",
       "      <td>2.220446e-16</td>\n",
       "    </tr>\n",
       "  </tbody>\n",
       "</table>\n",
       "</div>"
      ],
      "text/plain": [
       "       GENDER_F      GENDER_M\n",
       "0  1.692091e-01  1.692091e-01\n",
       "1  1.666387e-01  1.666387e-01\n",
       "2  1.672957e-01  1.672957e-01\n",
       "3  1.385117e-01  1.385117e-01\n",
       "4  2.220446e-16  2.220446e-16"
      ]
     },
     "execution_count": 53,
     "metadata": {},
     "output_type": "execute_result"
    }
   ],
   "source": [
    "user_genre_matrix_df[feat_dict['GENDER']].head()"
   ]
  },
  {
   "cell_type": "code",
   "execution_count": 54,
   "metadata": {},
   "outputs": [
    {
     "data": {
      "text/plain": [
       "['ACTIVITY', 'COUNTRY', 'GENDER', 'LOAN_BUCKET', 'PFR_BUCKET']"
      ]
     },
     "execution_count": 54,
     "metadata": {},
     "output_type": "execute_result"
    }
   ],
   "source": [
    "dictvectorizer.get_feature_names()"
   ]
  },
  {
   "cell_type": "code",
   "execution_count": 55,
   "metadata": {},
   "outputs": [
    {
     "data": {
      "text/html": [
       "<div>\n",
       "<style scoped>\n",
       "    .dataframe tbody tr th:only-of-type {\n",
       "        vertical-align: middle;\n",
       "    }\n",
       "\n",
       "    .dataframe tbody tr th {\n",
       "        vertical-align: top;\n",
       "    }\n",
       "\n",
       "    .dataframe thead th {\n",
       "        text-align: right;\n",
       "    }\n",
       "</style>\n",
       "<table border=\"1\" class=\"dataframe\">\n",
       "  <thead>\n",
       "    <tr style=\"text-align: right;\">\n",
       "      <th></th>\n",
       "      <th>ACTIVITY_Agriculture</th>\n",
       "      <th>ACTIVITY_Air Conditioning</th>\n",
       "      <th>ACTIVITY_Animal Sales</th>\n",
       "      <th>ACTIVITY_Aquaculture</th>\n",
       "      <th>ACTIVITY_Arts</th>\n",
       "      <th>ACTIVITY_Auto Repair</th>\n",
       "      <th>ACTIVITY_Bakery</th>\n",
       "      <th>ACTIVITY_Barber Shop</th>\n",
       "      <th>ACTIVITY_Beauty Salon</th>\n",
       "      <th>ACTIVITY_Beekeeping</th>\n",
       "      <th>...</th>\n",
       "      <th>loan_buck_4</th>\n",
       "      <th>loan_buck_5</th>\n",
       "      <th>loan_buck_6</th>\n",
       "      <th>loan_buck_7</th>\n",
       "      <th>loan_buck_8</th>\n",
       "      <th>loan_buck_9</th>\n",
       "      <th>pfr_buck_0</th>\n",
       "      <th>pfr_buck_1</th>\n",
       "      <th>pfr_buck_2</th>\n",
       "      <th>pfr_buck_3</th>\n",
       "    </tr>\n",
       "    <tr>\n",
       "      <th>userid</th>\n",
       "      <th></th>\n",
       "      <th></th>\n",
       "      <th></th>\n",
       "      <th></th>\n",
       "      <th></th>\n",
       "      <th></th>\n",
       "      <th></th>\n",
       "      <th></th>\n",
       "      <th></th>\n",
       "      <th></th>\n",
       "      <th></th>\n",
       "      <th></th>\n",
       "      <th></th>\n",
       "      <th></th>\n",
       "      <th></th>\n",
       "      <th></th>\n",
       "      <th></th>\n",
       "      <th></th>\n",
       "      <th></th>\n",
       "      <th></th>\n",
       "      <th></th>\n",
       "    </tr>\n",
       "  </thead>\n",
       "  <tbody>\n",
       "    <tr>\n",
       "      <th>0</th>\n",
       "      <td>0.541210</td>\n",
       "      <td>0.541210</td>\n",
       "      <td>0.541210</td>\n",
       "      <td>0.541210</td>\n",
       "      <td>0.541210</td>\n",
       "      <td>0.541210</td>\n",
       "      <td>0.541210</td>\n",
       "      <td>0.541210</td>\n",
       "      <td>0.541210</td>\n",
       "      <td>0.541210</td>\n",
       "      <td>...</td>\n",
       "      <td>0.427388</td>\n",
       "      <td>0.427388</td>\n",
       "      <td>0.427388</td>\n",
       "      <td>0.427388</td>\n",
       "      <td>0.427388</td>\n",
       "      <td>0.427388</td>\n",
       "      <td>0.313566</td>\n",
       "      <td>0.313566</td>\n",
       "      <td>0.313566</td>\n",
       "      <td>0.313566</td>\n",
       "    </tr>\n",
       "    <tr>\n",
       "      <th>1</th>\n",
       "      <td>0.641006</td>\n",
       "      <td>0.641006</td>\n",
       "      <td>0.641006</td>\n",
       "      <td>0.641006</td>\n",
       "      <td>0.641006</td>\n",
       "      <td>0.641006</td>\n",
       "      <td>0.641006</td>\n",
       "      <td>0.641006</td>\n",
       "      <td>0.641006</td>\n",
       "      <td>0.641006</td>\n",
       "      <td>...</td>\n",
       "      <td>0.510979</td>\n",
       "      <td>0.510979</td>\n",
       "      <td>0.510979</td>\n",
       "      <td>0.510979</td>\n",
       "      <td>0.510979</td>\n",
       "      <td>0.510979</td>\n",
       "      <td>0.320471</td>\n",
       "      <td>0.320471</td>\n",
       "      <td>0.320471</td>\n",
       "      <td>0.320471</td>\n",
       "    </tr>\n",
       "    <tr>\n",
       "      <th>2</th>\n",
       "      <td>0.544419</td>\n",
       "      <td>0.544419</td>\n",
       "      <td>0.544419</td>\n",
       "      <td>0.544419</td>\n",
       "      <td>0.544419</td>\n",
       "      <td>0.544419</td>\n",
       "      <td>0.544419</td>\n",
       "      <td>0.544419</td>\n",
       "      <td>0.544419</td>\n",
       "      <td>0.544419</td>\n",
       "      <td>...</td>\n",
       "      <td>0.373687</td>\n",
       "      <td>0.373687</td>\n",
       "      <td>0.373687</td>\n",
       "      <td>0.373687</td>\n",
       "      <td>0.373687</td>\n",
       "      <td>0.373687</td>\n",
       "      <td>0.322330</td>\n",
       "      <td>0.322330</td>\n",
       "      <td>0.322330</td>\n",
       "      <td>0.322330</td>\n",
       "    </tr>\n",
       "    <tr>\n",
       "      <th>3</th>\n",
       "      <td>0.913832</td>\n",
       "      <td>0.913832</td>\n",
       "      <td>0.913832</td>\n",
       "      <td>0.913832</td>\n",
       "      <td>0.913832</td>\n",
       "      <td>0.913832</td>\n",
       "      <td>0.913832</td>\n",
       "      <td>0.913832</td>\n",
       "      <td>0.913832</td>\n",
       "      <td>0.913832</td>\n",
       "      <td>...</td>\n",
       "      <td>0.540598</td>\n",
       "      <td>0.540598</td>\n",
       "      <td>0.540598</td>\n",
       "      <td>0.540598</td>\n",
       "      <td>0.540598</td>\n",
       "      <td>0.540598</td>\n",
       "      <td>0.338430</td>\n",
       "      <td>0.338430</td>\n",
       "      <td>0.338430</td>\n",
       "      <td>0.338430</td>\n",
       "    </tr>\n",
       "    <tr>\n",
       "      <th>4</th>\n",
       "      <td>0.555160</td>\n",
       "      <td>0.555160</td>\n",
       "      <td>0.555160</td>\n",
       "      <td>0.555160</td>\n",
       "      <td>0.555160</td>\n",
       "      <td>0.555160</td>\n",
       "      <td>0.555160</td>\n",
       "      <td>0.555160</td>\n",
       "      <td>0.555160</td>\n",
       "      <td>0.555160</td>\n",
       "      <td>...</td>\n",
       "      <td>0.498249</td>\n",
       "      <td>0.498249</td>\n",
       "      <td>0.498249</td>\n",
       "      <td>0.498249</td>\n",
       "      <td>0.498249</td>\n",
       "      <td>0.498249</td>\n",
       "      <td>0.334491</td>\n",
       "      <td>0.334491</td>\n",
       "      <td>0.334491</td>\n",
       "      <td>0.334491</td>\n",
       "    </tr>\n",
       "  </tbody>\n",
       "</table>\n",
       "<p>5 rows × 231 columns</p>\n",
       "</div>"
      ],
      "text/plain": [
       "        ACTIVITY_Agriculture  ACTIVITY_Air Conditioning  \\\n",
       "userid                                                    \n",
       "0                   0.541210                   0.541210   \n",
       "1                   0.641006                   0.641006   \n",
       "2                   0.544419                   0.544419   \n",
       "3                   0.913832                   0.913832   \n",
       "4                   0.555160                   0.555160   \n",
       "\n",
       "        ACTIVITY_Animal Sales  ACTIVITY_Aquaculture  ACTIVITY_Arts  \\\n",
       "userid                                                               \n",
       "0                    0.541210              0.541210       0.541210   \n",
       "1                    0.641006              0.641006       0.641006   \n",
       "2                    0.544419              0.544419       0.544419   \n",
       "3                    0.913832              0.913832       0.913832   \n",
       "4                    0.555160              0.555160       0.555160   \n",
       "\n",
       "        ACTIVITY_Auto Repair  ACTIVITY_Bakery  ACTIVITY_Barber Shop  \\\n",
       "userid                                                                \n",
       "0                   0.541210         0.541210              0.541210   \n",
       "1                   0.641006         0.641006              0.641006   \n",
       "2                   0.544419         0.544419              0.544419   \n",
       "3                   0.913832         0.913832              0.913832   \n",
       "4                   0.555160         0.555160              0.555160   \n",
       "\n",
       "        ACTIVITY_Beauty Salon  ACTIVITY_Beekeeping  ...  loan_buck_4  \\\n",
       "userid                                              ...                \n",
       "0                    0.541210             0.541210  ...     0.427388   \n",
       "1                    0.641006             0.641006  ...     0.510979   \n",
       "2                    0.544419             0.544419  ...     0.373687   \n",
       "3                    0.913832             0.913832  ...     0.540598   \n",
       "4                    0.555160             0.555160  ...     0.498249   \n",
       "\n",
       "        loan_buck_5  loan_buck_6  loan_buck_7  loan_buck_8  loan_buck_9  \\\n",
       "userid                                                                    \n",
       "0          0.427388     0.427388     0.427388     0.427388     0.427388   \n",
       "1          0.510979     0.510979     0.510979     0.510979     0.510979   \n",
       "2          0.373687     0.373687     0.373687     0.373687     0.373687   \n",
       "3          0.540598     0.540598     0.540598     0.540598     0.540598   \n",
       "4          0.498249     0.498249     0.498249     0.498249     0.498249   \n",
       "\n",
       "        pfr_buck_0  pfr_buck_1  pfr_buck_2  pfr_buck_3  \n",
       "userid                                                  \n",
       "0         0.313566    0.313566    0.313566    0.313566  \n",
       "1         0.320471    0.320471    0.320471    0.320471  \n",
       "2         0.322330    0.322330    0.322330    0.322330  \n",
       "3         0.338430    0.338430    0.338430    0.338430  \n",
       "4         0.334491    0.334491    0.334491    0.334491  \n",
       "\n",
       "[5 rows x 231 columns]"
      ]
     },
     "execution_count": 55,
     "metadata": {},
     "output_type": "execute_result"
    }
   ],
   "source": [
    "user_genre_matrix_df = pd.read_csv('./UMAP2020_CameraReady/Kiva_usr_cat_tol_mat_normalized.csv')\n",
    "user_genre_matrix_df.set_index('userid', inplace=True)\n",
    "user_genre_matrix_df.head()"
   ]
  },
  {
   "cell_type": "code",
   "execution_count": 56,
   "metadata": {},
   "outputs": [
    {
     "data": {
      "text/html": [
       "<div>\n",
       "<style scoped>\n",
       "    .dataframe tbody tr th:only-of-type {\n",
       "        vertical-align: middle;\n",
       "    }\n",
       "\n",
       "    .dataframe tbody tr th {\n",
       "        vertical-align: top;\n",
       "    }\n",
       "\n",
       "    .dataframe thead th {\n",
       "        text-align: right;\n",
       "    }\n",
       "</style>\n",
       "<table border=\"1\" class=\"dataframe\">\n",
       "  <thead>\n",
       "    <tr style=\"text-align: right;\">\n",
       "      <th></th>\n",
       "      <th>COUNTRY_Albania</th>\n",
       "      <th>COUNTRY_Armenia</th>\n",
       "      <th>COUNTRY_Bolivia</th>\n",
       "      <th>COUNTRY_Brazil</th>\n",
       "      <th>COUNTRY_Burkina Faso</th>\n",
       "      <th>COUNTRY_Cambodia</th>\n",
       "      <th>COUNTRY_Cameroon</th>\n",
       "      <th>COUNTRY_Colombia</th>\n",
       "      <th>COUNTRY_Congo (DRC)</th>\n",
       "      <th>COUNTRY_Costa Rica</th>\n",
       "      <th>...</th>\n",
       "      <th>COUNTRY_Timor-Leste</th>\n",
       "      <th>COUNTRY_Togo</th>\n",
       "      <th>COUNTRY_Turkey</th>\n",
       "      <th>COUNTRY_Uganda</th>\n",
       "      <th>COUNTRY_Ukraine</th>\n",
       "      <th>COUNTRY_United States</th>\n",
       "      <th>COUNTRY_Vietnam</th>\n",
       "      <th>COUNTRY_Yemen</th>\n",
       "      <th>COUNTRY_Zambia</th>\n",
       "      <th>COUNTRY_Zimbabwe</th>\n",
       "    </tr>\n",
       "    <tr>\n",
       "      <th>userid</th>\n",
       "      <th></th>\n",
       "      <th></th>\n",
       "      <th></th>\n",
       "      <th></th>\n",
       "      <th></th>\n",
       "      <th></th>\n",
       "      <th></th>\n",
       "      <th></th>\n",
       "      <th></th>\n",
       "      <th></th>\n",
       "      <th></th>\n",
       "      <th></th>\n",
       "      <th></th>\n",
       "      <th></th>\n",
       "      <th></th>\n",
       "      <th></th>\n",
       "      <th></th>\n",
       "      <th></th>\n",
       "      <th></th>\n",
       "      <th></th>\n",
       "      <th></th>\n",
       "    </tr>\n",
       "  </thead>\n",
       "  <tbody>\n",
       "    <tr>\n",
       "      <th>0</th>\n",
       "      <td>0.541210</td>\n",
       "      <td>0.541210</td>\n",
       "      <td>0.541210</td>\n",
       "      <td>0.541210</td>\n",
       "      <td>0.541210</td>\n",
       "      <td>0.541210</td>\n",
       "      <td>0.541210</td>\n",
       "      <td>0.541210</td>\n",
       "      <td>0.541210</td>\n",
       "      <td>0.541210</td>\n",
       "      <td>...</td>\n",
       "      <td>0.541210</td>\n",
       "      <td>0.541210</td>\n",
       "      <td>0.541210</td>\n",
       "      <td>0.541210</td>\n",
       "      <td>0.541210</td>\n",
       "      <td>0.541210</td>\n",
       "      <td>0.541210</td>\n",
       "      <td>0.541210</td>\n",
       "      <td>0.541210</td>\n",
       "      <td>0.541210</td>\n",
       "    </tr>\n",
       "    <tr>\n",
       "      <th>1</th>\n",
       "      <td>0.584780</td>\n",
       "      <td>0.584780</td>\n",
       "      <td>0.584780</td>\n",
       "      <td>0.584780</td>\n",
       "      <td>0.584780</td>\n",
       "      <td>0.584780</td>\n",
       "      <td>0.584780</td>\n",
       "      <td>0.584780</td>\n",
       "      <td>0.584780</td>\n",
       "      <td>0.584780</td>\n",
       "      <td>...</td>\n",
       "      <td>0.584780</td>\n",
       "      <td>0.584780</td>\n",
       "      <td>0.584780</td>\n",
       "      <td>0.584780</td>\n",
       "      <td>0.584780</td>\n",
       "      <td>0.584780</td>\n",
       "      <td>0.584780</td>\n",
       "      <td>0.584780</td>\n",
       "      <td>0.584780</td>\n",
       "      <td>0.584780</td>\n",
       "    </tr>\n",
       "    <tr>\n",
       "      <th>2</th>\n",
       "      <td>0.304019</td>\n",
       "      <td>0.304019</td>\n",
       "      <td>0.304019</td>\n",
       "      <td>0.304019</td>\n",
       "      <td>0.304019</td>\n",
       "      <td>0.304019</td>\n",
       "      <td>0.304019</td>\n",
       "      <td>0.304019</td>\n",
       "      <td>0.304019</td>\n",
       "      <td>0.304019</td>\n",
       "      <td>...</td>\n",
       "      <td>0.304019</td>\n",
       "      <td>0.304019</td>\n",
       "      <td>0.304019</td>\n",
       "      <td>0.304019</td>\n",
       "      <td>0.304019</td>\n",
       "      <td>0.304019</td>\n",
       "      <td>0.304019</td>\n",
       "      <td>0.304019</td>\n",
       "      <td>0.304019</td>\n",
       "      <td>0.304019</td>\n",
       "    </tr>\n",
       "    <tr>\n",
       "      <th>3</th>\n",
       "      <td>0.714007</td>\n",
       "      <td>0.714007</td>\n",
       "      <td>0.714007</td>\n",
       "      <td>0.714007</td>\n",
       "      <td>0.714007</td>\n",
       "      <td>0.714007</td>\n",
       "      <td>0.714007</td>\n",
       "      <td>0.714007</td>\n",
       "      <td>0.714007</td>\n",
       "      <td>0.714007</td>\n",
       "      <td>...</td>\n",
       "      <td>0.714007</td>\n",
       "      <td>0.714007</td>\n",
       "      <td>0.714007</td>\n",
       "      <td>0.714007</td>\n",
       "      <td>0.714007</td>\n",
       "      <td>0.714007</td>\n",
       "      <td>0.714007</td>\n",
       "      <td>0.714007</td>\n",
       "      <td>0.714007</td>\n",
       "      <td>0.714007</td>\n",
       "    </tr>\n",
       "    <tr>\n",
       "      <th>4</th>\n",
       "      <td>0.544419</td>\n",
       "      <td>0.544419</td>\n",
       "      <td>0.544419</td>\n",
       "      <td>0.544419</td>\n",
       "      <td>0.544419</td>\n",
       "      <td>0.544419</td>\n",
       "      <td>0.544419</td>\n",
       "      <td>0.544419</td>\n",
       "      <td>0.544419</td>\n",
       "      <td>0.544419</td>\n",
       "      <td>...</td>\n",
       "      <td>0.544419</td>\n",
       "      <td>0.544419</td>\n",
       "      <td>0.544419</td>\n",
       "      <td>0.544419</td>\n",
       "      <td>0.544419</td>\n",
       "      <td>0.544419</td>\n",
       "      <td>0.544419</td>\n",
       "      <td>0.544419</td>\n",
       "      <td>0.544419</td>\n",
       "      <td>0.544419</td>\n",
       "    </tr>\n",
       "  </tbody>\n",
       "</table>\n",
       "<p>5 rows × 60 columns</p>\n",
       "</div>"
      ],
      "text/plain": [
       "        COUNTRY_Albania  COUNTRY_Armenia  COUNTRY_Bolivia  COUNTRY_Brazil  \\\n",
       "userid                                                                      \n",
       "0              0.541210         0.541210         0.541210        0.541210   \n",
       "1              0.584780         0.584780         0.584780        0.584780   \n",
       "2              0.304019         0.304019         0.304019        0.304019   \n",
       "3              0.714007         0.714007         0.714007        0.714007   \n",
       "4              0.544419         0.544419         0.544419        0.544419   \n",
       "\n",
       "        COUNTRY_Burkina Faso  COUNTRY_Cambodia  COUNTRY_Cameroon  \\\n",
       "userid                                                             \n",
       "0                   0.541210          0.541210          0.541210   \n",
       "1                   0.584780          0.584780          0.584780   \n",
       "2                   0.304019          0.304019          0.304019   \n",
       "3                   0.714007          0.714007          0.714007   \n",
       "4                   0.544419          0.544419          0.544419   \n",
       "\n",
       "        COUNTRY_Colombia  COUNTRY_Congo (DRC)  COUNTRY_Costa Rica  ...  \\\n",
       "userid                                                             ...   \n",
       "0               0.541210             0.541210            0.541210  ...   \n",
       "1               0.584780             0.584780            0.584780  ...   \n",
       "2               0.304019             0.304019            0.304019  ...   \n",
       "3               0.714007             0.714007            0.714007  ...   \n",
       "4               0.544419             0.544419            0.544419  ...   \n",
       "\n",
       "        COUNTRY_Timor-Leste  COUNTRY_Togo  COUNTRY_Turkey  COUNTRY_Uganda  \\\n",
       "userid                                                                      \n",
       "0                  0.541210      0.541210        0.541210        0.541210   \n",
       "1                  0.584780      0.584780        0.584780        0.584780   \n",
       "2                  0.304019      0.304019        0.304019        0.304019   \n",
       "3                  0.714007      0.714007        0.714007        0.714007   \n",
       "4                  0.544419      0.544419        0.544419        0.544419   \n",
       "\n",
       "        COUNTRY_Ukraine  COUNTRY_United States  COUNTRY_Vietnam  \\\n",
       "userid                                                            \n",
       "0              0.541210               0.541210         0.541210   \n",
       "1              0.584780               0.584780         0.584780   \n",
       "2              0.304019               0.304019         0.304019   \n",
       "3              0.714007               0.714007         0.714007   \n",
       "4              0.544419               0.544419         0.544419   \n",
       "\n",
       "        COUNTRY_Yemen  COUNTRY_Zambia  COUNTRY_Zimbabwe  \n",
       "userid                                                   \n",
       "0            0.541210        0.541210          0.541210  \n",
       "1            0.584780        0.584780          0.584780  \n",
       "2            0.304019        0.304019          0.304019  \n",
       "3            0.714007        0.714007          0.714007  \n",
       "4            0.544419        0.544419          0.544419  \n",
       "\n",
       "[5 rows x 60 columns]"
      ]
     },
     "execution_count": 56,
     "metadata": {},
     "output_type": "execute_result"
    }
   ],
   "source": [
    "user_genre_matrix_df[feat_dict['COUNTRY']].head()"
   ]
  },
  {
   "cell_type": "code",
   "execution_count": 57,
   "metadata": {},
   "outputs": [],
   "source": [
    "# feat_dict['COUNTRY']"
   ]
  },
  {
   "cell_type": "markdown",
   "metadata": {},
   "source": [
    "# 2. MMR + tolerance weights"
   ]
  },
  {
   "cell_type": "code",
   "execution_count": 59,
   "metadata": {},
   "outputs": [
    {
     "name": "stdout",
     "output_type": "stream",
     "text": [
      "0.2\n",
      "0.4\n",
      "0.6\n",
      "0.65\n",
      "0.7\n",
      "0.75\n",
      "0.8\n",
      "0.85\n",
      "0.87\n",
      "0.9\n",
      "0.93\n",
      "0.95\n",
      "0.97\n",
      "0.99\n",
      "1.0\n",
      "Process Time: 2076.09 secs\n"
     ]
    }
   ],
   "source": [
    "start = timeit.default_timer()\n",
    "for lam in [0.2, 0.4, 0.6, 0.65, 0.7, 0.75, 0.8, 0.85, 0.87, 0.9, 0.93, 0.95, 0.97, 0.99, 1.0]:\n",
    "    \n",
    "    print(lam)\n",
    "    top_k = 10\n",
    "    rr_ent_recs = []\n",
    "    \n",
    "    def compute_mmr(u):\n",
    "        # get the user specific tolerance weight \n",
    "        w = user_genre_matrix_df.loc[u] \n",
    "        return (u, mmr_opt(u, item_features_df, lam, top_k, w))\n",
    "\n",
    "    pool = Pool(processes=20)\n",
    "    rr_ent_recs = pool.map(compute_mmr, list(range(dataset.user_n)))\n",
    "    pool.close()\n",
    "    pool.join()  \n",
    "    \n",
    "    save_recommendations(rr_ent_recs, 'rec_tol_MMR_lam%s.csv'%lam)\n",
    "\n",
    "stop = timeit.default_timer()\n",
    "print('Process Time: %.2f secs' % (stop - start))"
   ]
  },
  {
   "cell_type": "markdown",
   "metadata": {},
   "source": [
    "# RECSYS + MMR + TOLERANCE WEIGHTS + FAIRNESS WEIGHT"
   ]
  },
  {
   "cell_type": "markdown",
   "metadata": {},
   "source": [
    "# Feature count of all the movies (items) in the whole data"
   ]
  },
  {
   "cell_type": "code",
   "execution_count": 60,
   "metadata": {},
   "outputs": [
    {
     "data": {
      "text/html": [
       "<div>\n",
       "<style scoped>\n",
       "    .dataframe tbody tr th:only-of-type {\n",
       "        vertical-align: middle;\n",
       "    }\n",
       "\n",
       "    .dataframe tbody tr th {\n",
       "        vertical-align: top;\n",
       "    }\n",
       "\n",
       "    .dataframe thead th {\n",
       "        text-align: right;\n",
       "    }\n",
       "</style>\n",
       "<table border=\"1\" class=\"dataframe\">\n",
       "  <thead>\n",
       "    <tr style=\"text-align: right;\">\n",
       "      <th></th>\n",
       "      <th>ACTIVITY</th>\n",
       "      <th>COUNTRY</th>\n",
       "      <th>GENDER</th>\n",
       "      <th>LOAN_BUCKET</th>\n",
       "      <th>PFR_BUCKET</th>\n",
       "    </tr>\n",
       "  </thead>\n",
       "  <tbody>\n",
       "    <tr>\n",
       "      <th>0</th>\n",
       "      <td>0.541210</td>\n",
       "      <td>0.541210</td>\n",
       "      <td>0.169209</td>\n",
       "      <td>0.427388</td>\n",
       "      <td>0.313566</td>\n",
       "    </tr>\n",
       "    <tr>\n",
       "      <th>1</th>\n",
       "      <td>0.641006</td>\n",
       "      <td>0.584780</td>\n",
       "      <td>0.166639</td>\n",
       "      <td>0.510979</td>\n",
       "      <td>0.320471</td>\n",
       "    </tr>\n",
       "    <tr>\n",
       "      <th>2</th>\n",
       "      <td>0.544419</td>\n",
       "      <td>0.304019</td>\n",
       "      <td>0.167296</td>\n",
       "      <td>0.373687</td>\n",
       "      <td>0.322330</td>\n",
       "    </tr>\n",
       "  </tbody>\n",
       "</table>\n",
       "</div>"
      ],
      "text/plain": [
       "   ACTIVITY   COUNTRY    GENDER  LOAN_BUCKET  PFR_BUCKET\n",
       "0  0.541210  0.541210  0.169209     0.427388    0.313566\n",
       "1  0.641006  0.584780  0.166639     0.510979    0.320471\n",
       "2  0.544419  0.304019  0.167296     0.373687    0.322330"
      ]
     },
     "execution_count": 60,
     "metadata": {},
     "output_type": "execute_result"
    }
   ],
   "source": [
    "userid_tolerance_normed_df.head(3)"
   ]
  },
  {
   "cell_type": "code",
   "execution_count": 61,
   "metadata": {},
   "outputs": [
    {
     "data": {
      "text/plain": [
       "['ACTIVITY', 'COUNTRY', 'GENDER', 'LOAN_BUCKET', 'PFR_BUCKET']"
      ]
     },
     "execution_count": 61,
     "metadata": {},
     "output_type": "execute_result"
    }
   ],
   "source": [
    "userid_tolerance_normed_df.columns.values.tolist()"
   ]
  },
  {
   "cell_type": "code",
   "execution_count": 62,
   "metadata": {},
   "outputs": [],
   "source": [
    "# plt.scatter(userid_tolerance_normed_df.columns.values.tolist(), \n",
    "#             userid_tolerance_normed_df.index,\n",
    "#             userid_tolerance_normed_df.COUNTRY)"
   ]
  },
  {
   "cell_type": "code",
   "execution_count": 63,
   "metadata": {},
   "outputs": [
    {
     "data": {
      "text/plain": [
       "array([ 0,  1,  2,  3,  4,  5,  6,  7,  8,  9, 10, 11, 12, 13, 14, 15, 16,\n",
       "       17, 18, 19])"
      ]
     },
     "execution_count": 63,
     "metadata": {},
     "output_type": "execute_result"
    }
   ],
   "source": [
    "userid_tolerance_normed_df.index.values[:20]"
   ]
  },
  {
   "cell_type": "code",
   "execution_count": 64,
   "metadata": {},
   "outputs": [
    {
     "data": {
      "image/png": "[encoded data removed]",
      "text/plain": [
       "<Figure size 432x288 with 1 Axes>"
      ]
     },
     "metadata": {
      "needs_background": "light"
     },
     "output_type": "display_data"
    }
   ],
   "source": [
    "fig, ax = plt.subplots()\n",
    "ax.set_xlabel('users')\n",
    "ax.set_ylabel('normalized entropy')\n",
    "ax.scatter(userid_tolerance_normed_df.index.values[:100], userid_tolerance_normed_df.COUNTRY[:100], label='country')\n",
    "# ax.scatter(userid_tolerance_normed_df.index.values[:100], userid_tolerance_normed_df.LOAN_BUCKET[:100], label='loan bucket')\n",
    "# ax.scatter(userid_tolerance_normed_df.index.values[:100], userid_tolerance_normed_df.GENDER[:100], label='borrower gender')\n",
    "ax.scatter(userid_tolerance_normed_df.index.values[:100], userid_tolerance_normed_df.ACTIVITY[:100], label='economic sector')\n",
    "# ax.scatter(userid_tolerance_normed_df.index.values[:100], userid_tolerance_normed_df.PFR_BUCKET[:100], label='percentage funding rate')\n",
    "# ax.legend(bbox_to_anchor=(1, 1), loc='upper left', ncol=1)\n",
    "ax.legend()\n",
    "ax.grid(True)\n",
    "plt.savefig('./UMAP2020_CameraReady/ent_diff_pro_kiva.png')\n",
    "plt.show()"
   ]
  },
  {
   "cell_type": "markdown",
   "metadata": {},
   "source": [
    "### user entropy distribution"
   ]
  },
  {
   "cell_type": "code",
   "execution_count": 138,
   "metadata": {},
   "outputs": [
    {
     "data": {
      "image/png": "[encoded data removed]",
      "text/plain": [
       "<Figure size 432x288 with 1 Axes>"
      ]
     },
     "metadata": {
      "needs_background": "light"
     },
     "output_type": "display_data"
    }
   ],
   "source": [
    "fig, ax = plt.subplots()\n",
    "ax.hist(sorted(userid_tolerance_normed_df['COUNTRY']), color = 'red', alpha=0.4,\n",
    "             bins = int(180/5), label='country', density=True)\n",
    "\n",
    "ax.hist(sorted(userid_tolerance_normed_df['ACTIVITY']), color = 'blue',\n",
    "             bins = int(180/5), alpha=0.4, label='economic sector', density=True)\n",
    "\n",
    "plt.legend()\n",
    "userid_tolerance_normed_df['COUNTRY'].plot.kde(ax=ax, legend=False, color='red', ls='--')\n",
    "userid_tolerance_normed_df['ACTIVITY'].plot.kde(ax=ax, legend=False, color='blue', ls='--')\n",
    "\n",
    "# ax.set_ylim([0.0, 1.0])\n",
    "ax.set_xlim([-0.1,1.1])\n",
    "ax.set_xlabel('Normalized Entropy')\n",
    "ax.set_ylabel('% Users')\n",
    "plt.savefig('./UMAP2020_CameraReady/kiva_user_entropy_distribitions_lineDist.png', dpi=300)"
   ]
  },
  {
   "cell_type": "markdown",
   "metadata": {},
   "source": [
    "## \"country\" and \"economic sector\" are our sensitive attribute."
   ]
  },
  {
   "cell_type": "code",
   "execution_count": 65,
   "metadata": {},
   "outputs": [
    {
     "name": "stdout",
     "output_type": "stream",
     "text": [
      "2673\n"
     ]
    },
    {
     "data": {
      "text/html": [
       "<div>\n",
       "<style scoped>\n",
       "    .dataframe tbody tr th:only-of-type {\n",
       "        vertical-align: middle;\n",
       "    }\n",
       "\n",
       "    .dataframe tbody tr th {\n",
       "        vertical-align: top;\n",
       "    }\n",
       "\n",
       "    .dataframe thead th {\n",
       "        text-align: right;\n",
       "    }\n",
       "</style>\n",
       "<table border=\"1\" class=\"dataframe\">\n",
       "  <thead>\n",
       "    <tr style=\"text-align: right;\">\n",
       "      <th></th>\n",
       "      <th>ACTIVITY_Agriculture</th>\n",
       "      <th>ACTIVITY_Air Conditioning</th>\n",
       "      <th>ACTIVITY_Animal Sales</th>\n",
       "      <th>ACTIVITY_Aquaculture</th>\n",
       "      <th>ACTIVITY_Arts</th>\n",
       "      <th>ACTIVITY_Auto Repair</th>\n",
       "      <th>ACTIVITY_Bakery</th>\n",
       "      <th>ACTIVITY_Barber Shop</th>\n",
       "      <th>ACTIVITY_Beauty Salon</th>\n",
       "      <th>ACTIVITY_Beekeeping</th>\n",
       "      <th>...</th>\n",
       "      <th>loan_buck_4</th>\n",
       "      <th>loan_buck_5</th>\n",
       "      <th>loan_buck_6</th>\n",
       "      <th>loan_buck_7</th>\n",
       "      <th>loan_buck_8</th>\n",
       "      <th>loan_buck_9</th>\n",
       "      <th>pfr_buck_0</th>\n",
       "      <th>pfr_buck_1</th>\n",
       "      <th>pfr_buck_2</th>\n",
       "      <th>pfr_buck_3</th>\n",
       "    </tr>\n",
       "    <tr>\n",
       "      <th>innerID</th>\n",
       "      <th></th>\n",
       "      <th></th>\n",
       "      <th></th>\n",
       "      <th></th>\n",
       "      <th></th>\n",
       "      <th></th>\n",
       "      <th></th>\n",
       "      <th></th>\n",
       "      <th></th>\n",
       "      <th></th>\n",
       "      <th></th>\n",
       "      <th></th>\n",
       "      <th></th>\n",
       "      <th></th>\n",
       "      <th></th>\n",
       "      <th></th>\n",
       "      <th></th>\n",
       "      <th></th>\n",
       "      <th></th>\n",
       "      <th></th>\n",
       "      <th></th>\n",
       "    </tr>\n",
       "  </thead>\n",
       "  <tbody>\n",
       "    <tr>\n",
       "      <th>2655</th>\n",
       "      <td>0</td>\n",
       "      <td>0</td>\n",
       "      <td>0</td>\n",
       "      <td>0</td>\n",
       "      <td>0</td>\n",
       "      <td>0</td>\n",
       "      <td>0</td>\n",
       "      <td>0</td>\n",
       "      <td>0</td>\n",
       "      <td>0</td>\n",
       "      <td>...</td>\n",
       "      <td>0</td>\n",
       "      <td>0</td>\n",
       "      <td>0</td>\n",
       "      <td>0</td>\n",
       "      <td>0</td>\n",
       "      <td>0</td>\n",
       "      <td>0</td>\n",
       "      <td>0</td>\n",
       "      <td>1</td>\n",
       "      <td>0</td>\n",
       "    </tr>\n",
       "    <tr>\n",
       "      <th>2240</th>\n",
       "      <td>0</td>\n",
       "      <td>0</td>\n",
       "      <td>0</td>\n",
       "      <td>0</td>\n",
       "      <td>0</td>\n",
       "      <td>0</td>\n",
       "      <td>0</td>\n",
       "      <td>0</td>\n",
       "      <td>0</td>\n",
       "      <td>0</td>\n",
       "      <td>...</td>\n",
       "      <td>0</td>\n",
       "      <td>0</td>\n",
       "      <td>0</td>\n",
       "      <td>0</td>\n",
       "      <td>0</td>\n",
       "      <td>0</td>\n",
       "      <td>0</td>\n",
       "      <td>0</td>\n",
       "      <td>1</td>\n",
       "      <td>0</td>\n",
       "    </tr>\n",
       "    <tr>\n",
       "      <th>1499</th>\n",
       "      <td>0</td>\n",
       "      <td>0</td>\n",
       "      <td>0</td>\n",
       "      <td>0</td>\n",
       "      <td>0</td>\n",
       "      <td>0</td>\n",
       "      <td>0</td>\n",
       "      <td>0</td>\n",
       "      <td>0</td>\n",
       "      <td>0</td>\n",
       "      <td>...</td>\n",
       "      <td>0</td>\n",
       "      <td>1</td>\n",
       "      <td>0</td>\n",
       "      <td>0</td>\n",
       "      <td>0</td>\n",
       "      <td>0</td>\n",
       "      <td>0</td>\n",
       "      <td>0</td>\n",
       "      <td>1</td>\n",
       "      <td>0</td>\n",
       "    </tr>\n",
       "    <tr>\n",
       "      <th>2201</th>\n",
       "      <td>0</td>\n",
       "      <td>0</td>\n",
       "      <td>0</td>\n",
       "      <td>0</td>\n",
       "      <td>0</td>\n",
       "      <td>0</td>\n",
       "      <td>0</td>\n",
       "      <td>0</td>\n",
       "      <td>0</td>\n",
       "      <td>0</td>\n",
       "      <td>...</td>\n",
       "      <td>0</td>\n",
       "      <td>0</td>\n",
       "      <td>1</td>\n",
       "      <td>0</td>\n",
       "      <td>0</td>\n",
       "      <td>0</td>\n",
       "      <td>0</td>\n",
       "      <td>1</td>\n",
       "      <td>0</td>\n",
       "      <td>0</td>\n",
       "    </tr>\n",
       "    <tr>\n",
       "      <th>546</th>\n",
       "      <td>0</td>\n",
       "      <td>0</td>\n",
       "      <td>0</td>\n",
       "      <td>0</td>\n",
       "      <td>0</td>\n",
       "      <td>0</td>\n",
       "      <td>0</td>\n",
       "      <td>0</td>\n",
       "      <td>0</td>\n",
       "      <td>0</td>\n",
       "      <td>...</td>\n",
       "      <td>0</td>\n",
       "      <td>1</td>\n",
       "      <td>0</td>\n",
       "      <td>0</td>\n",
       "      <td>0</td>\n",
       "      <td>0</td>\n",
       "      <td>0</td>\n",
       "      <td>0</td>\n",
       "      <td>1</td>\n",
       "      <td>0</td>\n",
       "    </tr>\n",
       "  </tbody>\n",
       "</table>\n",
       "<p>5 rows × 231 columns</p>\n",
       "</div>"
      ],
      "text/plain": [
       "         ACTIVITY_Agriculture  ACTIVITY_Air Conditioning  \\\n",
       "innerID                                                    \n",
       "2655                        0                          0   \n",
       "2240                        0                          0   \n",
       "1499                        0                          0   \n",
       "2201                        0                          0   \n",
       "546                         0                          0   \n",
       "\n",
       "         ACTIVITY_Animal Sales  ACTIVITY_Aquaculture  ACTIVITY_Arts  \\\n",
       "innerID                                                               \n",
       "2655                         0                     0              0   \n",
       "2240                         0                     0              0   \n",
       "1499                         0                     0              0   \n",
       "2201                         0                     0              0   \n",
       "546                          0                     0              0   \n",
       "\n",
       "         ACTIVITY_Auto Repair  ACTIVITY_Bakery  ACTIVITY_Barber Shop  \\\n",
       "innerID                                                                \n",
       "2655                        0                0                     0   \n",
       "2240                        0                0                     0   \n",
       "1499                        0                0                     0   \n",
       "2201                        0                0                     0   \n",
       "546                         0                0                     0   \n",
       "\n",
       "         ACTIVITY_Beauty Salon  ACTIVITY_Beekeeping  ...  loan_buck_4  \\\n",
       "innerID                                              ...                \n",
       "2655                         0                    0  ...            0   \n",
       "2240                         0                    0  ...            0   \n",
       "1499                         0                    0  ...            0   \n",
       "2201                         0                    0  ...            0   \n",
       "546                          0                    0  ...            0   \n",
       "\n",
       "         loan_buck_5  loan_buck_6  loan_buck_7  loan_buck_8  loan_buck_9  \\\n",
       "innerID                                                                    \n",
       "2655               0            0            0            0            0   \n",
       "2240               0            0            0            0            0   \n",
       "1499               1            0            0            0            0   \n",
       "2201               0            1            0            0            0   \n",
       "546                1            0            0            0            0   \n",
       "\n",
       "         pfr_buck_0  pfr_buck_1  pfr_buck_2  pfr_buck_3  \n",
       "innerID                                                  \n",
       "2655              0           0           1           0  \n",
       "2240              0           0           1           0  \n",
       "1499              0           0           1           0  \n",
       "2201              0           1           0           0  \n",
       "546               0           0           1           0  \n",
       "\n",
       "[5 rows x 231 columns]"
      ]
     },
     "execution_count": 65,
     "metadata": {},
     "output_type": "execute_result"
    }
   ],
   "source": [
    "items = list(range(dataset.item_n))\n",
    "print(dataset.item_n)\n",
    "\n",
    "training_item_features_df_unique = item_features_df[item_features_df.index.isin(items)]\n",
    "training_item_features_df_unique.head()"
   ]
  },
  {
   "cell_type": "code",
   "execution_count": 66,
   "metadata": {},
   "outputs": [
    {
     "data": {
      "text/html": [
       "<div>\n",
       "<style scoped>\n",
       "    .dataframe tbody tr th:only-of-type {\n",
       "        vertical-align: middle;\n",
       "    }\n",
       "\n",
       "    .dataframe tbody tr th {\n",
       "        vertical-align: top;\n",
       "    }\n",
       "\n",
       "    .dataframe thead th {\n",
       "        text-align: right;\n",
       "    }\n",
       "</style>\n",
       "<table border=\"1\" class=\"dataframe\">\n",
       "  <thead>\n",
       "    <tr style=\"text-align: right;\">\n",
       "      <th></th>\n",
       "      <th>count</th>\n",
       "    </tr>\n",
       "    <tr>\n",
       "      <th>cat</th>\n",
       "      <th></th>\n",
       "    </tr>\n",
       "  </thead>\n",
       "  <tbody>\n",
       "    <tr>\n",
       "      <th>ACTIVITY_Agriculture</th>\n",
       "      <td>94</td>\n",
       "    </tr>\n",
       "    <tr>\n",
       "      <th>ACTIVITY_Air Conditioning</th>\n",
       "      <td>0</td>\n",
       "    </tr>\n",
       "    <tr>\n",
       "      <th>ACTIVITY_Animal Sales</th>\n",
       "      <td>39</td>\n",
       "    </tr>\n",
       "    <tr>\n",
       "      <th>ACTIVITY_Aquaculture</th>\n",
       "      <td>10</td>\n",
       "    </tr>\n",
       "    <tr>\n",
       "      <th>ACTIVITY_Arts</th>\n",
       "      <td>10</td>\n",
       "    </tr>\n",
       "    <tr>\n",
       "      <th>...</th>\n",
       "      <td>...</td>\n",
       "    </tr>\n",
       "    <tr>\n",
       "      <th>loan_buck_9</th>\n",
       "      <td>268</td>\n",
       "    </tr>\n",
       "    <tr>\n",
       "      <th>pfr_buck_0</th>\n",
       "      <td>669</td>\n",
       "    </tr>\n",
       "    <tr>\n",
       "      <th>pfr_buck_1</th>\n",
       "      <td>668</td>\n",
       "    </tr>\n",
       "    <tr>\n",
       "      <th>pfr_buck_2</th>\n",
       "      <td>668</td>\n",
       "    </tr>\n",
       "    <tr>\n",
       "      <th>pfr_buck_3</th>\n",
       "      <td>668</td>\n",
       "    </tr>\n",
       "  </tbody>\n",
       "</table>\n",
       "<p>231 rows × 1 columns</p>\n",
       "</div>"
      ],
      "text/plain": [
       "                           count\n",
       "cat                             \n",
       "ACTIVITY_Agriculture          94\n",
       "ACTIVITY_Air Conditioning      0\n",
       "ACTIVITY_Animal Sales         39\n",
       "ACTIVITY_Aquaculture          10\n",
       "ACTIVITY_Arts                 10\n",
       "...                          ...\n",
       "loan_buck_9                  268\n",
       "pfr_buck_0                   669\n",
       "pfr_buck_1                   668\n",
       "pfr_buck_2                   668\n",
       "pfr_buck_3                   668\n",
       "\n",
       "[231 rows x 1 columns]"
      ]
     },
     "execution_count": 66,
     "metadata": {},
     "output_type": "execute_result"
    }
   ],
   "source": [
    "all_item_feature_count = np.sum(training_item_features_df_unique.to_numpy(), axis=0)\n",
    "all_item_feature_count = pd.DataFrame([all_item_feature_count], columns=training_item_features_df_unique.columns)\n",
    "all_item_feature_count = pd.DataFrame(all_item_feature_count.T).rename(columns={0:'count'})\n",
    "all_item_feature_count.index.name = 'cat'\n",
    "all_item_feature_count"
   ]
  },
  {
   "cell_type": "code",
   "execution_count": 67,
   "metadata": {},
   "outputs": [
    {
     "data": {
      "text/plain": [
       "dict_keys(['ACTIVITY', 'COUNTRY', 'GENDER', 'LOAN_BUCKET', 'PFR_BUCKET'])"
      ]
     },
     "execution_count": 67,
     "metadata": {},
     "output_type": "execute_result"
    }
   ],
   "source": [
    "feat_dict.keys()"
   ]
  },
  {
   "cell_type": "code",
   "execution_count": 68,
   "metadata": {},
   "outputs": [],
   "source": [
    "freq_count = pd.DataFrame(columns=['cat', 'count'])\n",
    "\n",
    "for key in feat_dict.keys():\n",
    "    a_df = all_item_feature_count[all_item_feature_count.index.isin(feat_dict[key])]\n",
    "    a_df_perc = a_df * 100.0 / a_df.sum() # divide by the total number of occurences in that catgory.\n",
    "    a_df_perc = a_df_perc.reset_index(inplace=False)\n",
    "    a_df_perc.columns = ['cat', 'count']\n",
    "    freq_count = pd.concat([freq_count, a_df_perc], axis = 0)\n",
    "\n",
    "freq_count.sort_values(by='cat', inplace=True)\n",
    "freq_count.set_index('cat', inplace=True)\n",
    "genre_all_item_count = freq_count"
   ]
  },
  {
   "cell_type": "code",
   "execution_count": 69,
   "metadata": {},
   "outputs": [
    {
     "data": {
      "text/plain": [
       "(231, 1)"
      ]
     },
     "execution_count": 69,
     "metadata": {},
     "output_type": "execute_result"
    }
   ],
   "source": [
    "genre_all_item_count.shape"
   ]
  },
  {
   "cell_type": "code",
   "execution_count": 70,
   "metadata": {},
   "outputs": [
    {
     "data": {
      "text/plain": [
       "count    100.0\n",
       "dtype: float64"
      ]
     },
     "execution_count": 70,
     "metadata": {},
     "output_type": "execute_result"
    }
   ],
   "source": [
    "genre_all_item_count[genre_all_item_count.index.isin(feat_dict['COUNTRY'])].sum()"
   ]
  },
  {
   "cell_type": "code",
   "execution_count": 71,
   "metadata": {},
   "outputs": [
    {
     "data": {
      "text/html": [
       "<div>\n",
       "<style scoped>\n",
       "    .dataframe tbody tr th:only-of-type {\n",
       "        vertical-align: middle;\n",
       "    }\n",
       "\n",
       "    .dataframe tbody tr th {\n",
       "        vertical-align: top;\n",
       "    }\n",
       "\n",
       "    .dataframe thead th {\n",
       "        text-align: right;\n",
       "    }\n",
       "</style>\n",
       "<table border=\"1\" class=\"dataframe\">\n",
       "  <thead>\n",
       "    <tr style=\"text-align: right;\">\n",
       "      <th>cat</th>\n",
       "      <th>COUNTRY_Albania</th>\n",
       "      <th>COUNTRY_Armenia</th>\n",
       "      <th>COUNTRY_Bolivia</th>\n",
       "      <th>COUNTRY_Brazil</th>\n",
       "      <th>COUNTRY_Burkina Faso</th>\n",
       "      <th>COUNTRY_Cambodia</th>\n",
       "      <th>COUNTRY_Cameroon</th>\n",
       "      <th>COUNTRY_Colombia</th>\n",
       "      <th>COUNTRY_Congo (DRC)</th>\n",
       "      <th>COUNTRY_Costa Rica</th>\n",
       "      <th>...</th>\n",
       "      <th>COUNTRY_Timor-Leste</th>\n",
       "      <th>COUNTRY_Togo</th>\n",
       "      <th>COUNTRY_Turkey</th>\n",
       "      <th>COUNTRY_Uganda</th>\n",
       "      <th>COUNTRY_Ukraine</th>\n",
       "      <th>COUNTRY_United States</th>\n",
       "      <th>COUNTRY_Vietnam</th>\n",
       "      <th>COUNTRY_Yemen</th>\n",
       "      <th>COUNTRY_Zambia</th>\n",
       "      <th>COUNTRY_Zimbabwe</th>\n",
       "    </tr>\n",
       "  </thead>\n",
       "  <tbody>\n",
       "    <tr>\n",
       "      <th>count</th>\n",
       "      <td>0.673401</td>\n",
       "      <td>1.571268</td>\n",
       "      <td>3.179948</td>\n",
       "      <td>1.084923</td>\n",
       "      <td>1.384212</td>\n",
       "      <td>3.554059</td>\n",
       "      <td>1.159746</td>\n",
       "      <td>3.59147</td>\n",
       "      <td>2.543958</td>\n",
       "      <td>0.448934</td>\n",
       "      <td>...</td>\n",
       "      <td>0.561167</td>\n",
       "      <td>1.646091</td>\n",
       "      <td>0.0</td>\n",
       "      <td>3.142536</td>\n",
       "      <td>0.486345</td>\n",
       "      <td>1.459035</td>\n",
       "      <td>1.084923</td>\n",
       "      <td>0.187056</td>\n",
       "      <td>0.3367</td>\n",
       "      <td>1.646091</td>\n",
       "    </tr>\n",
       "  </tbody>\n",
       "</table>\n",
       "<p>1 rows × 60 columns</p>\n",
       "</div>"
      ],
      "text/plain": [
       "cat    COUNTRY_Albania  COUNTRY_Armenia  COUNTRY_Bolivia  COUNTRY_Brazil  \\\n",
       "count         0.673401         1.571268         3.179948        1.084923   \n",
       "\n",
       "cat    COUNTRY_Burkina Faso  COUNTRY_Cambodia  COUNTRY_Cameroon  \\\n",
       "count              1.384212          3.554059          1.159746   \n",
       "\n",
       "cat    COUNTRY_Colombia  COUNTRY_Congo (DRC)  COUNTRY_Costa Rica  ...  \\\n",
       "count           3.59147             2.543958            0.448934  ...   \n",
       "\n",
       "cat    COUNTRY_Timor-Leste  COUNTRY_Togo  COUNTRY_Turkey  COUNTRY_Uganda  \\\n",
       "count             0.561167      1.646091             0.0        3.142536   \n",
       "\n",
       "cat    COUNTRY_Ukraine  COUNTRY_United States  COUNTRY_Vietnam  COUNTRY_Yemen  \\\n",
       "count         0.486345               1.459035         1.084923       0.187056   \n",
       "\n",
       "cat    COUNTRY_Zambia  COUNTRY_Zimbabwe  \n",
       "count          0.3367          1.646091  \n",
       "\n",
       "[1 rows x 60 columns]"
      ]
     },
     "execution_count": 71,
     "metadata": {},
     "output_type": "execute_result"
    }
   ],
   "source": [
    "genre_all_item_count[genre_all_item_count.index.isin(feat_dict['COUNTRY'])].T"
   ]
  },
  {
   "cell_type": "code",
   "execution_count": 72,
   "metadata": {},
   "outputs": [
    {
     "data": {
      "text/plain": [
       "cat\n",
       "ACTIVITY_Agriculture          3.516648\n",
       "ACTIVITY_Air Conditioning     0.000000\n",
       "ACTIVITY_Animal Sales         1.459035\n",
       "ACTIVITY_Aquaculture          0.374111\n",
       "ACTIVITY_Arts                 0.374111\n",
       "                               ...    \n",
       "loan_buck_9                  10.026188\n",
       "pfr_buck_0                   25.028058\n",
       "pfr_buck_1                   24.990647\n",
       "pfr_buck_2                   24.990647\n",
       "pfr_buck_3                   24.990647\n",
       "Name: count, Length: 231, dtype: float64"
      ]
     },
     "execution_count": 72,
     "metadata": {},
     "output_type": "execute_result"
    }
   ],
   "source": [
    "genre_all_item_count['count']"
   ]
  },
  {
   "cell_type": "code",
   "execution_count": 73,
   "metadata": {},
   "outputs": [
    {
     "data": {
      "text/plain": [
       "Text(0, 0.5, 'percentage')"
      ]
     },
     "execution_count": 73,
     "metadata": {},
     "output_type": "execute_result"
    },
    {
     "data": {
      "image/png": "[encoded data removed]",
      "text/plain": [
       "<Figure size 2160x720 with 1 Axes>"
      ]
     },
     "metadata": {
      "needs_background": "light"
     },
     "output_type": "display_data"
    }
   ],
   "source": [
    "countries_df = genre_all_item_count[genre_all_item_count.index.isin(feat_dict['COUNTRY'])]\n",
    "countries_df.plot(kind='bar', figsize=(30, 10))\n",
    "plt.xlabel('country')\n",
    "plt.ylabel('percentage')"
   ]
  },
  {
   "cell_type": "code",
   "execution_count": 74,
   "metadata": {},
   "outputs": [
    {
     "data": {
      "text/plain": [
       "<matplotlib.axes._subplots.AxesSubplot at 0x7faa1f0f4d30>"
      ]
     },
     "execution_count": 74,
     "metadata": {},
     "output_type": "execute_result"
    },
    {
     "data": {
      "image/png": "[encoded data removed]",
      "text/plain": [
       "<Figure size 2160x720 with 1 Axes>"
      ]
     },
     "metadata": {
      "needs_background": "light"
     },
     "output_type": "display_data"
    }
   ],
   "source": [
    "activity_df = genre_all_item_count[genre_all_item_count.index.isin(feat_dict['ACTIVITY'])]\n",
    "activity_df.plot(kind='bar', figsize=(30, 10))"
   ]
  },
  {
   "cell_type": "markdown",
   "metadata": {},
   "source": [
    "### protected group"
   ]
  },
  {
   "cell_type": "code",
   "execution_count": 75,
   "metadata": {},
   "outputs": [
    {
     "name": "stdout",
     "output_type": "stream",
     "text": [
      "Index(['ACTIVITY_Agriculture', 'ACTIVITY_Air Conditioning',\n",
      "       'ACTIVITY_Animal Sales', 'ACTIVITY_Aquaculture', 'ACTIVITY_Arts',\n",
      "       'ACTIVITY_Auto Repair', 'ACTIVITY_Bakery', 'ACTIVITY_Barber Shop',\n",
      "       'ACTIVITY_Beauty Salon', 'ACTIVITY_Beekeeping',\n",
      "       ...\n",
      "       'ACTIVITY_Used Shoes', 'ACTIVITY_Utilities', 'ACTIVITY_Vehicle',\n",
      "       'ACTIVITY_Vehicle Repairs', 'ACTIVITY_Veterinary Sales',\n",
      "       'ACTIVITY_Waste Management', 'ACTIVITY_Water Distribution',\n",
      "       'ACTIVITY_Weaving', 'ACTIVITY_Wedding Expenses', 'ACTIVITY_Wholesale'],\n",
      "      dtype='object', name='cat', length=155)\n"
     ]
    }
   ],
   "source": [
    "print(activity_df.index)\n",
    "activity_df.to_csv('./UMAP2020_CameraReady/activities.csv')"
   ]
  },
  {
   "cell_type": "code",
   "execution_count": 76,
   "metadata": {},
   "outputs": [
    {
     "data": {
      "text/plain": [
       "Index(['COUNTRY_Albania', 'COUNTRY_Armenia', 'COUNTRY_Bolivia',\n",
       "       'COUNTRY_Brazil', 'COUNTRY_Burkina Faso', 'COUNTRY_Cambodia',\n",
       "       'COUNTRY_Cameroon', 'COUNTRY_Colombia', 'COUNTRY_Congo (DRC)',\n",
       "       'COUNTRY_Costa Rica', 'COUNTRY_Dominican Republic', 'COUNTRY_Ecuador',\n",
       "       'COUNTRY_Egypt', 'COUNTRY_El Salvador', 'COUNTRY_Georgia',\n",
       "       'COUNTRY_Ghana', 'COUNTRY_Guatemala', 'COUNTRY_Haiti',\n",
       "       'COUNTRY_Honduras', 'COUNTRY_India', 'COUNTRY_Indonesia',\n",
       "       'COUNTRY_Jordan', 'COUNTRY_Kenya', 'COUNTRY_Kosovo',\n",
       "       'COUNTRY_Kyrgyzstan', 'COUNTRY_Lao PDR', 'COUNTRY_Lebanon',\n",
       "       'COUNTRY_Lesotho', 'COUNTRY_Liberia', 'COUNTRY_Madagascar',\n",
       "       'COUNTRY_Malawi', 'COUNTRY_Mali', 'COUNTRY_Mexico', 'COUNTRY_Moldova',\n",
       "       'COUNTRY_Mozambique', 'COUNTRY_Myanmar (Burma)', 'COUNTRY_Nicaragua',\n",
       "       'COUNTRY_Nigeria', 'COUNTRY_Pakistan', 'COUNTRY_Palestine',\n",
       "       'COUNTRY_Paraguay', 'COUNTRY_Peru', 'COUNTRY_Philippines',\n",
       "       'COUNTRY_Rwanda', 'COUNTRY_Samoa', 'COUNTRY_Senegal',\n",
       "       'COUNTRY_Sierra Leone', 'COUNTRY_Solomon Islands', 'COUNTRY_Tajikistan',\n",
       "       'COUNTRY_Tanzania', 'COUNTRY_Timor-Leste', 'COUNTRY_Togo',\n",
       "       'COUNTRY_Turkey', 'COUNTRY_Uganda', 'COUNTRY_Ukraine',\n",
       "       'COUNTRY_United States', 'COUNTRY_Vietnam', 'COUNTRY_Yemen',\n",
       "       'COUNTRY_Zambia', 'COUNTRY_Zimbabwe'],\n",
       "      dtype='object', name='cat')"
      ]
     },
     "execution_count": 76,
     "metadata": {},
     "output_type": "execute_result"
    }
   ],
   "source": [
    "countries_df.index"
   ]
  },
  {
   "cell_type": "code",
   "execution_count": 77,
   "metadata": {},
   "outputs": [
    {
     "data": {
      "text/plain": [
       "['COUNTRY_Albania',\n",
       " 'COUNTRY_Costa Rica',\n",
       " 'COUNTRY_Dominican Republic',\n",
       " 'COUNTRY_Egypt',\n",
       " 'COUNTRY_Georgia',\n",
       " 'COUNTRY_India',\n",
       " 'COUNTRY_Indonesia',\n",
       " 'COUNTRY_Kosovo',\n",
       " 'COUNTRY_Kyrgyzstan',\n",
       " 'COUNTRY_Lao PDR',\n",
       " 'COUNTRY_Lesotho',\n",
       " 'COUNTRY_Malawi',\n",
       " 'COUNTRY_Mali',\n",
       " 'COUNTRY_Mexico',\n",
       " 'COUNTRY_Moldova',\n",
       " 'COUNTRY_Mozambique',\n",
       " 'COUNTRY_Nigeria',\n",
       " 'COUNTRY_Solomon Islands',\n",
       " 'COUNTRY_Timor-Leste',\n",
       " 'COUNTRY_Turkey',\n",
       " 'COUNTRY_Ukraine',\n",
       " 'COUNTRY_Yemen',\n",
       " 'COUNTRY_Zambia']"
      ]
     },
     "execution_count": 77,
     "metadata": {},
     "output_type": "execute_result"
    }
   ],
   "source": [
    "# pro_countries = countries_df[(countries_df['count'] < 2) & (countries_df['count'] > 1)].index.tolist()\n",
    "pro_countries = countries_df[(countries_df['count'] < 1)].index.tolist()\n",
    "pro_countries"
   ]
  },
  {
   "cell_type": "code",
   "execution_count": 78,
   "metadata": {},
   "outputs": [
    {
     "data": {
      "text/plain": [
       "(60,)"
      ]
     },
     "execution_count": 78,
     "metadata": {},
     "output_type": "execute_result"
    }
   ],
   "source": [
    "countries_df['count'].shape"
   ]
  },
  {
   "cell_type": "code",
   "execution_count": 79,
   "metadata": {},
   "outputs": [],
   "source": [
    "# genre_all_item_count[genre_all_item_count.index.isin(feat_dict['GENDER'])].plot(kind='bar', figsize=(30, 10))"
   ]
  },
  {
   "cell_type": "code",
   "execution_count": 80,
   "metadata": {},
   "outputs": [
    {
     "data": {
      "text/plain": [
       "dict_keys(['ACTIVITY', 'COUNTRY', 'GENDER', 'LOAN_BUCKET', 'PFR_BUCKET'])"
      ]
     },
     "execution_count": 80,
     "metadata": {},
     "output_type": "execute_result"
    }
   ],
   "source": [
    "feat_dict.keys()"
   ]
  },
  {
   "cell_type": "code",
   "execution_count": 81,
   "metadata": {},
   "outputs": [
    {
     "data": {
      "text/plain": [
       "['ACTIVITY_Child Care',\n",
       " 'ACTIVITY_Medical Clinic',\n",
       " 'ACTIVITY_Health',\n",
       " 'ACTIVITY_Waste Management',\n",
       " 'ACTIVITY_Water Distribution']"
      ]
     },
     "execution_count": 81,
     "metadata": {},
     "output_type": "execute_result"
    }
   ],
   "source": [
    "# pro_activities = activity_df[activity_df['count'] < 0.2].index.tolist()\n",
    "# pro_activities\n",
    "# let's pick them manually\n",
    "pro_activities = ['ACTIVITY_Child Care', 'ACTIVITY_Medical Clinic', 'ACTIVITY_Health', 'ACTIVITY_Waste Management','ACTIVITY_Water Distribution']\n",
    "pro_activities"
   ]
  },
  {
   "cell_type": "markdown",
   "metadata": {},
   "source": [
    "### multiple lambdas - selecting multiple genres to increase their exposure"
   ]
  },
  {
   "cell_type": "code",
   "execution_count": null,
   "metadata": {},
   "outputs": [],
   "source": []
  },
  {
   "cell_type": "code",
   "execution_count": 82,
   "metadata": {},
   "outputs": [
    {
     "data": {
      "text/html": [
       "<div>\n",
       "<style scoped>\n",
       "    .dataframe tbody tr th:only-of-type {\n",
       "        vertical-align: middle;\n",
       "    }\n",
       "\n",
       "    .dataframe tbody tr th {\n",
       "        vertical-align: top;\n",
       "    }\n",
       "\n",
       "    .dataframe thead th {\n",
       "        text-align: right;\n",
       "    }\n",
       "</style>\n",
       "<table border=\"1\" class=\"dataframe\">\n",
       "  <thead>\n",
       "    <tr style=\"text-align: right;\">\n",
       "      <th></th>\n",
       "      <th>count</th>\n",
       "    </tr>\n",
       "    <tr>\n",
       "      <th>cat</th>\n",
       "      <th></th>\n",
       "    </tr>\n",
       "  </thead>\n",
       "  <tbody>\n",
       "    <tr>\n",
       "      <th>ACTIVITY_Agriculture</th>\n",
       "      <td>3.516648</td>\n",
       "    </tr>\n",
       "    <tr>\n",
       "      <th>ACTIVITY_Air Conditioning</th>\n",
       "      <td>0.000000</td>\n",
       "    </tr>\n",
       "    <tr>\n",
       "      <th>ACTIVITY_Animal Sales</th>\n",
       "      <td>1.459035</td>\n",
       "    </tr>\n",
       "    <tr>\n",
       "      <th>ACTIVITY_Aquaculture</th>\n",
       "      <td>0.374111</td>\n",
       "    </tr>\n",
       "    <tr>\n",
       "      <th>ACTIVITY_Arts</th>\n",
       "      <td>0.374111</td>\n",
       "    </tr>\n",
       "  </tbody>\n",
       "</table>\n",
       "</div>"
      ],
      "text/plain": [
       "                              count\n",
       "cat                                \n",
       "ACTIVITY_Agriculture       3.516648\n",
       "ACTIVITY_Air Conditioning  0.000000\n",
       "ACTIVITY_Animal Sales      1.459035\n",
       "ACTIVITY_Aquaculture       0.374111\n",
       "ACTIVITY_Arts              0.374111"
      ]
     },
     "execution_count": 82,
     "metadata": {},
     "output_type": "execute_result"
    }
   ],
   "source": [
    "genre_all_item_count.head()"
   ]
  },
  {
   "cell_type": "code",
   "execution_count": 83,
   "metadata": {},
   "outputs": [
    {
     "data": {
      "text/html": [
       "<div>\n",
       "<style scoped>\n",
       "    .dataframe tbody tr th:only-of-type {\n",
       "        vertical-align: middle;\n",
       "    }\n",
       "\n",
       "    .dataframe tbody tr th {\n",
       "        vertical-align: top;\n",
       "    }\n",
       "\n",
       "    .dataframe thead th {\n",
       "        text-align: right;\n",
       "    }\n",
       "</style>\n",
       "<table border=\"1\" class=\"dataframe\">\n",
       "  <thead>\n",
       "    <tr style=\"text-align: right;\">\n",
       "      <th></th>\n",
       "      <th>ACTIVITY_Agriculture</th>\n",
       "      <th>ACTIVITY_Air Conditioning</th>\n",
       "      <th>ACTIVITY_Animal Sales</th>\n",
       "      <th>ACTIVITY_Aquaculture</th>\n",
       "      <th>ACTIVITY_Arts</th>\n",
       "      <th>ACTIVITY_Auto Repair</th>\n",
       "      <th>ACTIVITY_Bakery</th>\n",
       "      <th>ACTIVITY_Barber Shop</th>\n",
       "      <th>ACTIVITY_Beauty Salon</th>\n",
       "      <th>ACTIVITY_Beekeeping</th>\n",
       "      <th>...</th>\n",
       "      <th>loan_buck_4</th>\n",
       "      <th>loan_buck_5</th>\n",
       "      <th>loan_buck_6</th>\n",
       "      <th>loan_buck_7</th>\n",
       "      <th>loan_buck_8</th>\n",
       "      <th>loan_buck_9</th>\n",
       "      <th>pfr_buck_0</th>\n",
       "      <th>pfr_buck_1</th>\n",
       "      <th>pfr_buck_2</th>\n",
       "      <th>pfr_buck_3</th>\n",
       "    </tr>\n",
       "    <tr>\n",
       "      <th>userid</th>\n",
       "      <th></th>\n",
       "      <th></th>\n",
       "      <th></th>\n",
       "      <th></th>\n",
       "      <th></th>\n",
       "      <th></th>\n",
       "      <th></th>\n",
       "      <th></th>\n",
       "      <th></th>\n",
       "      <th></th>\n",
       "      <th></th>\n",
       "      <th></th>\n",
       "      <th></th>\n",
       "      <th></th>\n",
       "      <th></th>\n",
       "      <th></th>\n",
       "      <th></th>\n",
       "      <th></th>\n",
       "      <th></th>\n",
       "      <th></th>\n",
       "      <th></th>\n",
       "    </tr>\n",
       "  </thead>\n",
       "  <tbody>\n",
       "    <tr>\n",
       "      <th>0</th>\n",
       "      <td>0.541210</td>\n",
       "      <td>0.541210</td>\n",
       "      <td>0.541210</td>\n",
       "      <td>0.541210</td>\n",
       "      <td>0.541210</td>\n",
       "      <td>0.541210</td>\n",
       "      <td>0.541210</td>\n",
       "      <td>0.541210</td>\n",
       "      <td>0.541210</td>\n",
       "      <td>0.541210</td>\n",
       "      <td>...</td>\n",
       "      <td>0.427388</td>\n",
       "      <td>0.427388</td>\n",
       "      <td>0.427388</td>\n",
       "      <td>0.427388</td>\n",
       "      <td>0.427388</td>\n",
       "      <td>0.427388</td>\n",
       "      <td>0.313566</td>\n",
       "      <td>0.313566</td>\n",
       "      <td>0.313566</td>\n",
       "      <td>0.313566</td>\n",
       "    </tr>\n",
       "    <tr>\n",
       "      <th>1</th>\n",
       "      <td>0.641006</td>\n",
       "      <td>0.641006</td>\n",
       "      <td>0.641006</td>\n",
       "      <td>0.641006</td>\n",
       "      <td>0.641006</td>\n",
       "      <td>0.641006</td>\n",
       "      <td>0.641006</td>\n",
       "      <td>0.641006</td>\n",
       "      <td>0.641006</td>\n",
       "      <td>0.641006</td>\n",
       "      <td>...</td>\n",
       "      <td>0.510979</td>\n",
       "      <td>0.510979</td>\n",
       "      <td>0.510979</td>\n",
       "      <td>0.510979</td>\n",
       "      <td>0.510979</td>\n",
       "      <td>0.510979</td>\n",
       "      <td>0.320471</td>\n",
       "      <td>0.320471</td>\n",
       "      <td>0.320471</td>\n",
       "      <td>0.320471</td>\n",
       "    </tr>\n",
       "    <tr>\n",
       "      <th>2</th>\n",
       "      <td>0.544419</td>\n",
       "      <td>0.544419</td>\n",
       "      <td>0.544419</td>\n",
       "      <td>0.544419</td>\n",
       "      <td>0.544419</td>\n",
       "      <td>0.544419</td>\n",
       "      <td>0.544419</td>\n",
       "      <td>0.544419</td>\n",
       "      <td>0.544419</td>\n",
       "      <td>0.544419</td>\n",
       "      <td>...</td>\n",
       "      <td>0.373687</td>\n",
       "      <td>0.373687</td>\n",
       "      <td>0.373687</td>\n",
       "      <td>0.373687</td>\n",
       "      <td>0.373687</td>\n",
       "      <td>0.373687</td>\n",
       "      <td>0.322330</td>\n",
       "      <td>0.322330</td>\n",
       "      <td>0.322330</td>\n",
       "      <td>0.322330</td>\n",
       "    </tr>\n",
       "    <tr>\n",
       "      <th>3</th>\n",
       "      <td>0.913832</td>\n",
       "      <td>0.913832</td>\n",
       "      <td>0.913832</td>\n",
       "      <td>0.913832</td>\n",
       "      <td>0.913832</td>\n",
       "      <td>0.913832</td>\n",
       "      <td>0.913832</td>\n",
       "      <td>0.913832</td>\n",
       "      <td>0.913832</td>\n",
       "      <td>0.913832</td>\n",
       "      <td>...</td>\n",
       "      <td>0.540598</td>\n",
       "      <td>0.540598</td>\n",
       "      <td>0.540598</td>\n",
       "      <td>0.540598</td>\n",
       "      <td>0.540598</td>\n",
       "      <td>0.540598</td>\n",
       "      <td>0.338430</td>\n",
       "      <td>0.338430</td>\n",
       "      <td>0.338430</td>\n",
       "      <td>0.338430</td>\n",
       "    </tr>\n",
       "    <tr>\n",
       "      <th>4</th>\n",
       "      <td>0.555160</td>\n",
       "      <td>0.555160</td>\n",
       "      <td>0.555160</td>\n",
       "      <td>0.555160</td>\n",
       "      <td>0.555160</td>\n",
       "      <td>0.555160</td>\n",
       "      <td>0.555160</td>\n",
       "      <td>0.555160</td>\n",
       "      <td>0.555160</td>\n",
       "      <td>0.555160</td>\n",
       "      <td>...</td>\n",
       "      <td>0.498249</td>\n",
       "      <td>0.498249</td>\n",
       "      <td>0.498249</td>\n",
       "      <td>0.498249</td>\n",
       "      <td>0.498249</td>\n",
       "      <td>0.498249</td>\n",
       "      <td>0.334491</td>\n",
       "      <td>0.334491</td>\n",
       "      <td>0.334491</td>\n",
       "      <td>0.334491</td>\n",
       "    </tr>\n",
       "  </tbody>\n",
       "</table>\n",
       "<p>5 rows × 231 columns</p>\n",
       "</div>"
      ],
      "text/plain": [
       "        ACTIVITY_Agriculture  ACTIVITY_Air Conditioning  \\\n",
       "userid                                                    \n",
       "0                   0.541210                   0.541210   \n",
       "1                   0.641006                   0.641006   \n",
       "2                   0.544419                   0.544419   \n",
       "3                   0.913832                   0.913832   \n",
       "4                   0.555160                   0.555160   \n",
       "\n",
       "        ACTIVITY_Animal Sales  ACTIVITY_Aquaculture  ACTIVITY_Arts  \\\n",
       "userid                                                               \n",
       "0                    0.541210              0.541210       0.541210   \n",
       "1                    0.641006              0.641006       0.641006   \n",
       "2                    0.544419              0.544419       0.544419   \n",
       "3                    0.913832              0.913832       0.913832   \n",
       "4                    0.555160              0.555160       0.555160   \n",
       "\n",
       "        ACTIVITY_Auto Repair  ACTIVITY_Bakery  ACTIVITY_Barber Shop  \\\n",
       "userid                                                                \n",
       "0                   0.541210         0.541210              0.541210   \n",
       "1                   0.641006         0.641006              0.641006   \n",
       "2                   0.544419         0.544419              0.544419   \n",
       "3                   0.913832         0.913832              0.913832   \n",
       "4                   0.555160         0.555160              0.555160   \n",
       "\n",
       "        ACTIVITY_Beauty Salon  ACTIVITY_Beekeeping  ...  loan_buck_4  \\\n",
       "userid                                              ...                \n",
       "0                    0.541210             0.541210  ...     0.427388   \n",
       "1                    0.641006             0.641006  ...     0.510979   \n",
       "2                    0.544419             0.544419  ...     0.373687   \n",
       "3                    0.913832             0.913832  ...     0.540598   \n",
       "4                    0.555160             0.555160  ...     0.498249   \n",
       "\n",
       "        loan_buck_5  loan_buck_6  loan_buck_7  loan_buck_8  loan_buck_9  \\\n",
       "userid                                                                    \n",
       "0          0.427388     0.427388     0.427388     0.427388     0.427388   \n",
       "1          0.510979     0.510979     0.510979     0.510979     0.510979   \n",
       "2          0.373687     0.373687     0.373687     0.373687     0.373687   \n",
       "3          0.540598     0.540598     0.540598     0.540598     0.540598   \n",
       "4          0.498249     0.498249     0.498249     0.498249     0.498249   \n",
       "\n",
       "        pfr_buck_0  pfr_buck_1  pfr_buck_2  pfr_buck_3  \n",
       "userid                                                  \n",
       "0         0.313566    0.313566    0.313566    0.313566  \n",
       "1         0.320471    0.320471    0.320471    0.320471  \n",
       "2         0.322330    0.322330    0.322330    0.322330  \n",
       "3         0.338430    0.338430    0.338430    0.338430  \n",
       "4         0.334491    0.334491    0.334491    0.334491  \n",
       "\n",
       "[5 rows x 231 columns]"
      ]
     },
     "execution_count": 83,
     "metadata": {},
     "output_type": "execute_result"
    }
   ],
   "source": [
    "user_genre_matrix_df.head()"
   ]
  },
  {
   "cell_type": "code",
   "execution_count": 84,
   "metadata": {},
   "outputs": [],
   "source": [
    "# pro_countries.append('ACTIVITY_Arts')\n",
    "# pro_countries.append('ACTIVITY_Bakery')"
   ]
  },
  {
   "cell_type": "markdown",
   "metadata": {},
   "source": [
    "### setting all the weights for countries to 1 and the protected countries to 10"
   ]
  },
  {
   "cell_type": "code",
   "execution_count": 85,
   "metadata": {},
   "outputs": [
    {
     "name": "stdout",
     "output_type": "stream",
     "text": [
      "['COUNTRY_Albania', 'COUNTRY_Costa Rica', 'COUNTRY_Dominican Republic', 'COUNTRY_Egypt', 'COUNTRY_Georgia', 'COUNTRY_India', 'COUNTRY_Indonesia', 'COUNTRY_Kosovo', 'COUNTRY_Kyrgyzstan', 'COUNTRY_Lao PDR', 'COUNTRY_Lesotho', 'COUNTRY_Malawi', 'COUNTRY_Mali', 'COUNTRY_Mexico', 'COUNTRY_Moldova', 'COUNTRY_Mozambique', 'COUNTRY_Nigeria', 'COUNTRY_Solomon Islands', 'COUNTRY_Timor-Leste', 'COUNTRY_Turkey', 'COUNTRY_Ukraine', 'COUNTRY_Yemen', 'COUNTRY_Zambia'] 23\n"
     ]
    }
   ],
   "source": [
    "print(pro_countries, len(pro_countries))"
   ]
  },
  {
   "cell_type": "code",
   "execution_count": 86,
   "metadata": {},
   "outputs": [],
   "source": [
    "# fairness_weights_man = genre_all_item_count.T.copy()\n",
    "# # fairness_weights_man[fairness_weights_man.columns] = 0\n",
    "\n",
    "# fairness_weights_man[feat_dict['COUNTRY']] = 1\n",
    "\n",
    "# for fee in pro_countries:\n",
    "#     fairness_weights_man[fee] = 10\n",
    "\n",
    "# fairness_weights_man = fairness_weights_man.T\n",
    "# # fairness_weights_man[[pro_countries]]"
   ]
  },
  {
   "cell_type": "markdown",
   "metadata": {},
   "source": [
    "# multidimensional fairness"
   ]
  },
  {
   "cell_type": "markdown",
   "metadata": {},
   "source": [
    "### setting the activities to 1 and the protected activities to 10"
   ]
  },
  {
   "cell_type": "code",
   "execution_count": 87,
   "metadata": {},
   "outputs": [],
   "source": [
    "fairness_weights_man = genre_all_item_count.T.copy()\n",
    "\n",
    "fairness_weights_man[feat_dict['ACTIVITY']] = 1\n",
    "fairness_weights_man[feat_dict['COUNTRY']] = 1\n",
    "\n",
    "for fee in pro_countries:\n",
    "    fairness_weights_man[fee] = 100\n",
    "\n",
    "for fee in pro_activities:\n",
    "    fairness_weights_man[fee] = 100\n",
    "\n",
    "fairness_weights_man = fairness_weights_man.T"
   ]
  },
  {
   "cell_type": "code",
   "execution_count": 88,
   "metadata": {},
   "outputs": [
    {
     "data": {
      "text/plain": [
       "count    100.0\n",
       "Name: ACTIVITY_Child Care, dtype: float64"
      ]
     },
     "execution_count": 88,
     "metadata": {},
     "output_type": "execute_result"
    }
   ],
   "source": [
    "fairness_weights_man.loc['ACTIVITY_Child Care']"
   ]
  },
  {
   "cell_type": "code",
   "execution_count": 89,
   "metadata": {},
   "outputs": [
    {
     "data": {
      "text/html": [
       "<div>\n",
       "<style scoped>\n",
       "    .dataframe tbody tr th:only-of-type {\n",
       "        vertical-align: middle;\n",
       "    }\n",
       "\n",
       "    .dataframe tbody tr th {\n",
       "        vertical-align: top;\n",
       "    }\n",
       "\n",
       "    .dataframe thead th {\n",
       "        text-align: right;\n",
       "    }\n",
       "</style>\n",
       "<table border=\"1\" class=\"dataframe\">\n",
       "  <thead>\n",
       "    <tr style=\"text-align: right;\">\n",
       "      <th>cat</th>\n",
       "      <th>ACTIVITY_Agriculture</th>\n",
       "      <th>ACTIVITY_Air Conditioning</th>\n",
       "      <th>ACTIVITY_Animal Sales</th>\n",
       "      <th>ACTIVITY_Aquaculture</th>\n",
       "      <th>ACTIVITY_Arts</th>\n",
       "      <th>ACTIVITY_Auto Repair</th>\n",
       "      <th>ACTIVITY_Bakery</th>\n",
       "      <th>ACTIVITY_Barber Shop</th>\n",
       "      <th>ACTIVITY_Beauty Salon</th>\n",
       "      <th>ACTIVITY_Beekeeping</th>\n",
       "      <th>...</th>\n",
       "      <th>loan_buck_4</th>\n",
       "      <th>loan_buck_5</th>\n",
       "      <th>loan_buck_6</th>\n",
       "      <th>loan_buck_7</th>\n",
       "      <th>loan_buck_8</th>\n",
       "      <th>loan_buck_9</th>\n",
       "      <th>pfr_buck_0</th>\n",
       "      <th>pfr_buck_1</th>\n",
       "      <th>pfr_buck_2</th>\n",
       "      <th>pfr_buck_3</th>\n",
       "    </tr>\n",
       "  </thead>\n",
       "  <tbody>\n",
       "    <tr>\n",
       "      <th>count</th>\n",
       "      <td>1.0</td>\n",
       "      <td>1.0</td>\n",
       "      <td>1.0</td>\n",
       "      <td>1.0</td>\n",
       "      <td>1.0</td>\n",
       "      <td>1.0</td>\n",
       "      <td>1.0</td>\n",
       "      <td>1.0</td>\n",
       "      <td>1.0</td>\n",
       "      <td>1.0</td>\n",
       "      <td>...</td>\n",
       "      <td>10.213244</td>\n",
       "      <td>9.839132</td>\n",
       "      <td>9.913954</td>\n",
       "      <td>9.951366</td>\n",
       "      <td>9.988777</td>\n",
       "      <td>10.026188</td>\n",
       "      <td>25.028058</td>\n",
       "      <td>24.990647</td>\n",
       "      <td>24.990647</td>\n",
       "      <td>24.990647</td>\n",
       "    </tr>\n",
       "  </tbody>\n",
       "</table>\n",
       "<p>1 rows × 231 columns</p>\n",
       "</div>"
      ],
      "text/plain": [
       "cat    ACTIVITY_Agriculture  ACTIVITY_Air Conditioning  ACTIVITY_Animal Sales  \\\n",
       "count                   1.0                        1.0                    1.0   \n",
       "\n",
       "cat    ACTIVITY_Aquaculture  ACTIVITY_Arts  ACTIVITY_Auto Repair  \\\n",
       "count                   1.0            1.0                   1.0   \n",
       "\n",
       "cat    ACTIVITY_Bakery  ACTIVITY_Barber Shop  ACTIVITY_Beauty Salon  \\\n",
       "count              1.0                   1.0                    1.0   \n",
       "\n",
       "cat    ACTIVITY_Beekeeping  ...  loan_buck_4  loan_buck_5  loan_buck_6  \\\n",
       "count                  1.0  ...    10.213244     9.839132     9.913954   \n",
       "\n",
       "cat    loan_buck_7  loan_buck_8  loan_buck_9  pfr_buck_0  pfr_buck_1  \\\n",
       "count     9.951366     9.988777    10.026188   25.028058   24.990647   \n",
       "\n",
       "cat    pfr_buck_2  pfr_buck_3  \n",
       "count   24.990647   24.990647  \n",
       "\n",
       "[1 rows x 231 columns]"
      ]
     },
     "execution_count": 89,
     "metadata": {},
     "output_type": "execute_result"
    }
   ],
   "source": [
    "fairness_weights_man.T[item_features_df.columns]"
   ]
  },
  {
   "cell_type": "code",
   "execution_count": 90,
   "metadata": {},
   "outputs": [
    {
     "data": {
      "text/plain": [
       "176"
      ]
     },
     "execution_count": 90,
     "metadata": {},
     "output_type": "execute_result"
    }
   ],
   "source": [
    "list(item_features_df.columns).index('COUNTRY_India')"
   ]
  },
  {
   "cell_type": "code",
   "execution_count": 91,
   "metadata": {},
   "outputs": [],
   "source": [
    "# user_genre_matrix_df[item_features_df.columns].loc[0].to_numpy()"
   ]
  },
  {
   "cell_type": "code",
   "execution_count": 92,
   "metadata": {},
   "outputs": [
    {
     "name": "stdout",
     "output_type": "stream",
     "text": [
      "<bound method NDFrame.keys of                             count\n",
      "cat                              \n",
      "COUNTRY_Albania             100.0\n",
      "COUNTRY_Costa Rica          100.0\n",
      "COUNTRY_Dominican Republic  100.0\n",
      "COUNTRY_Egypt               100.0\n",
      "COUNTRY_Georgia             100.0\n",
      "COUNTRY_India               100.0\n",
      "COUNTRY_Indonesia           100.0\n",
      "COUNTRY_Kosovo              100.0\n",
      "COUNTRY_Kyrgyzstan          100.0\n",
      "COUNTRY_Lao PDR             100.0\n",
      "COUNTRY_Lesotho             100.0\n",
      "COUNTRY_Malawi              100.0\n",
      "COUNTRY_Mali                100.0\n",
      "COUNTRY_Mexico              100.0\n",
      "COUNTRY_Moldova             100.0\n",
      "COUNTRY_Mozambique          100.0\n",
      "COUNTRY_Nigeria             100.0\n",
      "COUNTRY_Solomon Islands     100.0\n",
      "COUNTRY_Timor-Leste         100.0\n",
      "COUNTRY_Turkey              100.0\n",
      "COUNTRY_Ukraine             100.0\n",
      "COUNTRY_Yemen               100.0\n",
      "COUNTRY_Zambia              100.0>\n"
     ]
    }
   ],
   "source": [
    "print(fairness_weights_man.loc[pro_countries].keys)"
   ]
  },
  {
   "cell_type": "code",
   "execution_count": 93,
   "metadata": {},
   "outputs": [
    {
     "name": "stdout",
     "output_type": "stream",
     "text": [
      "<bound method NDFrame.keys of                              count\n",
      "cat                               \n",
      "ACTIVITY_Child Care          100.0\n",
      "ACTIVITY_Medical Clinic      100.0\n",
      "ACTIVITY_Health              100.0\n",
      "ACTIVITY_Waste Management    100.0\n",
      "ACTIVITY_Water Distribution  100.0>\n"
     ]
    }
   ],
   "source": [
    "print(fairness_weights_man.loc[pro_activities].keys)"
   ]
  },
  {
   "cell_type": "code",
   "execution_count": null,
   "metadata": {},
   "outputs": [],
   "source": []
  },
  {
   "cell_type": "code",
   "execution_count": 94,
   "metadata": {},
   "outputs": [],
   "source": [
    "# fairness_weights_man.T[item_features_df.columns].to_numpy()[0]"
   ]
  },
  {
   "cell_type": "markdown",
   "metadata": {},
   "source": [
    "### we have two protected attribute: activity and country"
   ]
  },
  {
   "cell_type": "markdown",
   "metadata": {},
   "source": [
    "# MMR + tolerance weight + fairness weight"
   ]
  },
  {
   "cell_type": "code",
   "execution_count": 95,
   "metadata": {},
   "outputs": [
    {
     "name": "stdout",
     "output_type": "stream",
     "text": [
      "0.2\n",
      "0.4\n",
      "0.6\n",
      "0.65\n",
      "0.7\n",
      "0.75\n",
      "0.8\n",
      "0.85\n",
      "0.87\n",
      "0.9\n",
      "0.93\n",
      "0.95\n",
      "0.97\n",
      "0.99\n",
      "1.0\n",
      "Process Time: 1163.48 secs\n"
     ]
    }
   ],
   "source": [
    "start = timeit.default_timer()\n",
    "for lam in [0.2, 0.4, 0.6, 0.65, 0.7, 0.75, 0.8, 0.85,0.87, 0.9,0.93, 0.95, 0.97, 0.99, 1.0]:\n",
    "    \n",
    "    print(lam)\n",
    "    top_k = 10\n",
    "\n",
    "    def compute_mmr_selective_fairness(u):\n",
    "        \n",
    "        # get the user specific tolerance weight \n",
    "        u_tol_w = fairness_weights_man.T[item_features_df.columns].to_numpy()[0] * user_genre_matrix_df[item_features_df.columns].loc[u].to_numpy()\n",
    "        \n",
    "        return (u, mmr_opt(u, item_features_df, lam, top_k, u_tol_w))\n",
    "\n",
    "\n",
    "    pool = Pool(processes=20)\n",
    "    user_recs_ent_fairness = pool.map(compute_mmr_selective_fairness, list(range(dataset.user_n)))\n",
    "    pool.close()\n",
    "    pool.join()\n",
    "    pool.terminate()\n",
    "\n",
    "    save_recommendations(user_recs_ent_fairness, 'rec_tol_fair_MMR_lam%s_twoFeature100.csv'%lam)\n",
    "\n",
    "stop = timeit.default_timer()\n",
    "print('Process Time: %.2f secs' % (stop - start))"
   ]
  },
  {
   "cell_type": "markdown",
   "metadata": {},
   "source": [
    "# MMR + only fairness weights"
   ]
  },
  {
   "cell_type": "code",
   "execution_count": null,
   "metadata": {},
   "outputs": [
    {
     "name": "stdout",
     "output_type": "stream",
     "text": [
      "0.2\n",
      "0.4\n",
      "0.6\n",
      "0.65\n",
      "0.7\n",
      "0.75\n",
      "0.8\n"
     ]
    }
   ],
   "source": [
    "start = timeit.default_timer()\n",
    "for lam in [0.2, 0.4, 0.6, 0.65, 0.7, 0.75, 0.8, 0.85, 0.87, 0.9, 0.93, 0.95, 0.97, 0.99, 1.0]:\n",
    "    \n",
    "    print(lam)\n",
    "    top_k = 10\n",
    "\n",
    "    def compute_mmr_selective_fairness(u):\n",
    "        # get the user specific tolerance weight \n",
    "        u_f = fairness_weights_man.T[item_features_df.columns].to_numpy()[0] \n",
    "        \n",
    "        return (u, mmr_opt(u, item_features_df, lam, top_k, u_f))\n",
    "\n",
    "\n",
    "    pool = Pool(processes=20)\n",
    "    user_recs_ent_fairness = pool.map(compute_mmr_selective_fairness, list(range(dataset.user_n)))\n",
    "    pool.close()\n",
    "    pool.join()\n",
    "    pool.terminate()\n",
    "\n",
    "    save_recommendations(user_recs_ent_fairness, 'rec_fair_MMR_lam%stwoFeature100.csv'%lam)\n",
    "\n",
    "stop = timeit.default_timer()\n",
    "print('Process Time: %.2f secs' % (stop - start))"
   ]
  },
  {
   "cell_type": "code",
   "execution_count": 109,
   "metadata": {},
   "outputs": [],
   "source": [
    "genre_dist_rerankings = []"
   ]
  },
  {
   "cell_type": "code",
   "execution_count": 110,
   "metadata": {},
   "outputs": [],
   "source": [
    "# interested_fs = feat_dict['COUNTRY'] + ['ACTIVITY_Bakery', 'ACTIVITY_Arts']"
   ]
  },
  {
   "cell_type": "code",
   "execution_count": 111,
   "metadata": {},
   "outputs": [],
   "source": [
    "interested_fs = feat_dict['COUNTRY'] + feat_dict['ACTIVITY']"
   ]
  },
  {
   "cell_type": "code",
   "execution_count": 112,
   "metadata": {},
   "outputs": [
    {
     "ename": "AttributeError",
     "evalue": "'numpy.ndarray' object has no attribute 'append'",
     "output_type": "error",
     "traceback": [
      "\u001b[0;31m---------------------------------------------------------------------------\u001b[0m",
      "\u001b[0;31mAttributeError\u001b[0m                            Traceback (most recent call last)",
      "\u001b[0;32m<ipython-input-112-9106451f2a59>\u001b[0m in \u001b[0;36m<module>\u001b[0;34m\u001b[0m\n\u001b[1;32m      9\u001b[0m             \u001b[0;32mpass\u001b[0m\u001b[0;34m\u001b[0m\u001b[0;34m\u001b[0m\u001b[0m\n\u001b[1;32m     10\u001b[0m \u001b[0;34m\u001b[0m\u001b[0m\n\u001b[0;32m---> 11\u001b[0;31m \u001b[0mgenre_dist_rerankings\u001b[0m\u001b[0;34m.\u001b[0m\u001b[0mappend\u001b[0m\u001b[0;34m(\u001b[0m\u001b[0;34m(\u001b[0m\u001b[0mgenre_dist_rerank\u001b[0m\u001b[0;34m,\u001b[0m \u001b[0;34m'lam=0.1 all country&activity=1 and (country_pr & activity_pr)=10'\u001b[0m\u001b[0;34m)\u001b[0m\u001b[0;34m)\u001b[0m \u001b[0;31m#\u001b[0m\u001b[0;34m\u001b[0m\u001b[0;34m\u001b[0m\u001b[0m\n\u001b[0m",
      "\u001b[0;31mAttributeError\u001b[0m: 'numpy.ndarray' object has no attribute 'append'"
     ]
    }
   ],
   "source": [
    "genre_dist_rerankings = np.zeros((len(interested_fs)))\n",
    "for u in range(500):#dataset.user_n):\n",
    "    for item in user_recs_ent_fairness[u][1][1]:\n",
    "#         print(item)\n",
    "        try:\n",
    "#             print(item_features_df.loc[item, feat_dict['COUNTRY']].values)\n",
    "            genre_dist_rerank += item_features_df.loc[item, interested_fs].values\n",
    "        except IndexError:\n",
    "            pass\n",
    "        \n",
    "genre_dist_rerankings.append((genre_dist_rerank, 'lam=0.1 all country&activity=1 and (country_pr & activity_pr)=10')) # "
   ]
  },
  {
   "cell_type": "code",
   "execution_count": 113,
   "metadata": {},
   "outputs": [
    {
     "ename": "IndexError",
     "evalue": "invalid index to scalar variable.",
     "output_type": "error",
     "traceback": [
      "\u001b[0;31m---------------------------------------------------------------------------\u001b[0m",
      "\u001b[0;31mIndexError\u001b[0m                                Traceback (most recent call last)",
      "\u001b[0;32m<ipython-input-113-6f95726f6a65>\u001b[0m in \u001b[0;36m<module>\u001b[0;34m\u001b[0m\n\u001b[1;32m      3\u001b[0m \u001b[0minc\u001b[0m \u001b[0;34m=\u001b[0m \u001b[0;36m0\u001b[0m\u001b[0;34m\u001b[0m\u001b[0;34m\u001b[0m\u001b[0m\n\u001b[1;32m      4\u001b[0m \u001b[0;32mfor\u001b[0m \u001b[0mg\u001b[0m \u001b[0;32min\u001b[0m \u001b[0mgenre_dist_rerankings\u001b[0m\u001b[0;34m:\u001b[0m\u001b[0;34m\u001b[0m\u001b[0;34m\u001b[0m\u001b[0m\n\u001b[0;32m----> 5\u001b[0;31m     \u001b[0mplt\u001b[0m\u001b[0;34m.\u001b[0m\u001b[0mbar\u001b[0m\u001b[0;34m(\u001b[0m\u001b[0mnp\u001b[0m\u001b[0;34m.\u001b[0m\u001b[0marange\u001b[0m\u001b[0;34m(\u001b[0m\u001b[0mlen\u001b[0m\u001b[0;34m(\u001b[0m\u001b[0minterested_fs\u001b[0m\u001b[0;34m)\u001b[0m\u001b[0;34m)\u001b[0m \u001b[0;34m+\u001b[0m \u001b[0minc\u001b[0m\u001b[0;34m,\u001b[0m \u001b[0mg\u001b[0m\u001b[0;34m[\u001b[0m\u001b[0;36m0\u001b[0m\u001b[0;34m]\u001b[0m\u001b[0;34m,\u001b[0m \u001b[0md\u001b[0m\u001b[0;34m,\u001b[0m \u001b[0mlabel\u001b[0m\u001b[0;34m=\u001b[0m\u001b[0mg\u001b[0m\u001b[0;34m[\u001b[0m\u001b[0;36m1\u001b[0m\u001b[0;34m]\u001b[0m\u001b[0;34m)\u001b[0m\u001b[0;34m\u001b[0m\u001b[0;34m\u001b[0m\u001b[0m\n\u001b[0m\u001b[1;32m      6\u001b[0m     \u001b[0minc\u001b[0m \u001b[0;34m+=\u001b[0m \u001b[0md\u001b[0m\u001b[0;34m\u001b[0m\u001b[0;34m\u001b[0m\u001b[0m\n\u001b[1;32m      7\u001b[0m \u001b[0;34m\u001b[0m\u001b[0m\n",
      "\u001b[0;31mIndexError\u001b[0m: invalid index to scalar variable."
     ]
    }
   ],
   "source": [
    "import matplotlib\n",
    "d = 0.1\n",
    "inc = 0\n",
    "for g in genre_dist_rerankings:\n",
    "    plt.bar(np.arange(len(interested_fs)) + inc, g[0], d, label=g[1])\n",
    "    inc += d\n",
    "\n",
    "plt.gca().set_xticklabels(interested_fs)\n",
    "plt.gca().set_xticks(np.arange(len(interested_fs)) + 0.1)\n",
    "plt.setp(plt.gca().get_xticklabels(), rotation=60, horizontalalignment='right')\n",
    "plt.legend(loc='best')\n",
    "fig = matplotlib.pyplot.gcf()\n",
    "fig.set_size_inches(25, 6)\n",
    "plt.show()"
   ]
  },
  {
   "cell_type": "code",
   "execution_count": 108,
   "metadata": {},
   "outputs": [
    {
     "name": "stdout",
     "output_type": "stream",
     "text": [
      "<bound method NDFrame.keys of                             count\n",
      "cat                              \n",
      "COUNTRY_Albania             100.0\n",
      "COUNTRY_Costa Rica          100.0\n",
      "COUNTRY_Dominican Republic  100.0\n",
      "COUNTRY_Egypt               100.0\n",
      "COUNTRY_Georgia             100.0\n",
      "COUNTRY_India               100.0\n",
      "COUNTRY_Indonesia           100.0\n",
      "COUNTRY_Kosovo              100.0\n",
      "COUNTRY_Kyrgyzstan          100.0\n",
      "COUNTRY_Lao PDR             100.0\n",
      "COUNTRY_Lesotho             100.0\n",
      "COUNTRY_Malawi              100.0\n",
      "COUNTRY_Mali                100.0\n",
      "COUNTRY_Mexico              100.0\n",
      "COUNTRY_Moldova             100.0\n",
      "COUNTRY_Mozambique          100.0\n",
      "COUNTRY_Nigeria             100.0\n",
      "COUNTRY_Solomon Islands     100.0\n",
      "COUNTRY_Timor-Leste         100.0\n",
      "COUNTRY_Turkey              100.0\n",
      "COUNTRY_Ukraine             100.0\n",
      "COUNTRY_Yemen               100.0\n",
      "COUNTRY_Zambia              100.0>\n"
     ]
    }
   ],
   "source": [
    "print(fairness_weights_man.loc[pro_countries].keys)"
   ]
  },
  {
   "cell_type": "code",
   "execution_count": 103,
   "metadata": {},
   "outputs": [
    {
     "name": "stdout",
     "output_type": "stream",
     "text": [
      "<bound method NDFrame.keys of                              count\n",
      "cat                               \n",
      "ACTIVITY_Child Care          100.0\n",
      "ACTIVITY_Medical Clinic      100.0\n",
      "ACTIVITY_Health              100.0\n",
      "ACTIVITY_Waste Management    100.0\n",
      "ACTIVITY_Water Distribution  100.0>\n"
     ]
    }
   ],
   "source": [
    "print(fairness_weights_man.loc[pro_activities].keys)"
   ]
  },
  {
   "cell_type": "code",
   "execution_count": null,
   "metadata": {},
   "outputs": [],
   "source": []
  },
  {
   "cell_type": "code",
   "execution_count": null,
   "metadata": {},
   "outputs": [],
   "source": []
  }
 ],
 "metadata": {
  "kernelspec": {
   "display_name": "Python 3",
   "language": "python",
   "name": "python3"
  },
  "language_info": {
   "codemirror_mode": {
    "name": "ipython",
    "version": 3
   },
   "file_extension": ".py",
   "mimetype": "text/x-python",
   "name": "python",
   "nbconvert_exporter": "python",
   "pygments_lexer": "ipython3",
   "version": "3.7.2"
  }
 },
 "nbformat": 4,
 "nbformat_minor": 4
}
